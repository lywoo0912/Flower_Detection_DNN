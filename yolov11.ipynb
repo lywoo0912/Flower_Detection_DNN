{
 "cells": [
  {
   "cell_type": "code",
   "execution_count": 1,
   "metadata": {},
   "outputs": [
    {
     "name": "stdout",
     "output_type": "stream",
     "text": [
      "Collecting ultralytics\n",
      "  Downloading ultralytics-8.3.67-py3-none-any.whl.metadata (35 kB)\n",
      "Requirement already satisfied: numpy>=1.23.0 in /opt/homebrew/Caskroom/miniforge/base/envs/torch/lib/python3.12/site-packages (from ultralytics) (2.2.2)\n",
      "Collecting numpy>=1.23.0 (from ultralytics)\n",
      "  Downloading numpy-1.26.4-cp312-cp312-macosx_11_0_arm64.whl.metadata (61 kB)\n",
      "Collecting matplotlib>=3.3.0 (from ultralytics)\n",
      "  Downloading matplotlib-3.10.0-cp312-cp312-macosx_11_0_arm64.whl.metadata (11 kB)\n",
      "Collecting opencv-python>=4.6.0 (from ultralytics)\n",
      "  Downloading opencv_python-4.11.0.86-cp37-abi3-macosx_13_0_arm64.whl.metadata (20 kB)\n",
      "Requirement already satisfied: pillow>=7.1.2 in /opt/homebrew/Caskroom/miniforge/base/envs/torch/lib/python3.12/site-packages (from ultralytics) (11.1.0)\n",
      "Requirement already satisfied: pyyaml>=5.3.1 in /opt/homebrew/Caskroom/miniforge/base/envs/torch/lib/python3.12/site-packages (from ultralytics) (6.0.2)\n",
      "Requirement already satisfied: requests>=2.23.0 in /opt/homebrew/Caskroom/miniforge/base/envs/torch/lib/python3.12/site-packages (from ultralytics) (2.32.3)\n",
      "Requirement already satisfied: scipy>=1.4.1 in /opt/homebrew/Caskroom/miniforge/base/envs/torch/lib/python3.12/site-packages (from ultralytics) (1.15.1)\n",
      "Requirement already satisfied: torch>=1.8.0 in /opt/homebrew/Caskroom/miniforge/base/envs/torch/lib/python3.12/site-packages (from ultralytics) (2.5.1)\n",
      "Requirement already satisfied: torchvision>=0.9.0 in /opt/homebrew/Caskroom/miniforge/base/envs/torch/lib/python3.12/site-packages (from ultralytics) (0.20.1)\n",
      "Requirement already satisfied: tqdm>=4.64.0 in /opt/homebrew/Caskroom/miniforge/base/envs/torch/lib/python3.12/site-packages (from ultralytics) (4.67.1)\n",
      "Requirement already satisfied: psutil in /opt/homebrew/Caskroom/miniforge/base/envs/torch/lib/python3.12/site-packages (from ultralytics) (6.0.0)\n",
      "Collecting py-cpuinfo (from ultralytics)\n",
      "  Using cached py_cpuinfo-9.0.0-py3-none-any.whl.metadata (794 bytes)\n",
      "Requirement already satisfied: pandas>=1.1.4 in /opt/homebrew/Caskroom/miniforge/base/envs/torch/lib/python3.12/site-packages (from ultralytics) (2.2.3)\n",
      "Collecting seaborn>=0.11.0 (from ultralytics)\n",
      "  Using cached seaborn-0.13.2-py3-none-any.whl.metadata (5.4 kB)\n",
      "Collecting ultralytics-thop>=2.0.0 (from ultralytics)\n",
      "  Downloading ultralytics_thop-2.0.14-py3-none-any.whl.metadata (9.4 kB)\n",
      "Collecting contourpy>=1.0.1 (from matplotlib>=3.3.0->ultralytics)\n",
      "  Downloading contourpy-1.3.1-cp312-cp312-macosx_11_0_arm64.whl.metadata (5.4 kB)\n",
      "Collecting cycler>=0.10 (from matplotlib>=3.3.0->ultralytics)\n",
      "  Using cached cycler-0.12.1-py3-none-any.whl.metadata (3.8 kB)\n",
      "Collecting fonttools>=4.22.0 (from matplotlib>=3.3.0->ultralytics)\n",
      "  Downloading fonttools-4.55.6-cp312-cp312-macosx_10_13_universal2.whl.metadata (166 kB)\n",
      "Collecting kiwisolver>=1.3.1 (from matplotlib>=3.3.0->ultralytics)\n",
      "  Downloading kiwisolver-1.4.8-cp312-cp312-macosx_11_0_arm64.whl.metadata (6.2 kB)\n",
      "Requirement already satisfied: packaging>=20.0 in /opt/homebrew/Caskroom/miniforge/base/envs/torch/lib/python3.12/site-packages (from matplotlib>=3.3.0->ultralytics) (24.1)\n",
      "Collecting pyparsing>=2.3.1 (from matplotlib>=3.3.0->ultralytics)\n",
      "  Downloading pyparsing-3.2.1-py3-none-any.whl.metadata (5.0 kB)\n",
      "Requirement already satisfied: python-dateutil>=2.7 in /opt/homebrew/Caskroom/miniforge/base/envs/torch/lib/python3.12/site-packages (from matplotlib>=3.3.0->ultralytics) (2.9.0)\n",
      "Requirement already satisfied: pytz>=2020.1 in /opt/homebrew/Caskroom/miniforge/base/envs/torch/lib/python3.12/site-packages (from pandas>=1.1.4->ultralytics) (2024.1)\n",
      "Requirement already satisfied: tzdata>=2022.7 in /opt/homebrew/Caskroom/miniforge/base/envs/torch/lib/python3.12/site-packages (from pandas>=1.1.4->ultralytics) (2025.1)\n",
      "Requirement already satisfied: charset_normalizer<4,>=2 in /opt/homebrew/Caskroom/miniforge/base/envs/torch/lib/python3.12/site-packages (from requests>=2.23.0->ultralytics) (3.4.1)\n",
      "Requirement already satisfied: idna<4,>=2.5 in /opt/homebrew/Caskroom/miniforge/base/envs/torch/lib/python3.12/site-packages (from requests>=2.23.0->ultralytics) (3.10)\n",
      "Requirement already satisfied: urllib3<3,>=1.21.1 in /opt/homebrew/Caskroom/miniforge/base/envs/torch/lib/python3.12/site-packages (from requests>=2.23.0->ultralytics) (2.3.0)\n",
      "Requirement already satisfied: certifi>=2017.4.17 in /opt/homebrew/Caskroom/miniforge/base/envs/torch/lib/python3.12/site-packages (from requests>=2.23.0->ultralytics) (2024.12.14)\n",
      "Requirement already satisfied: filelock in /opt/homebrew/Caskroom/miniforge/base/envs/torch/lib/python3.12/site-packages (from torch>=1.8.0->ultralytics) (3.17.0)\n",
      "Requirement already satisfied: typing-extensions>=4.8.0 in /opt/homebrew/Caskroom/miniforge/base/envs/torch/lib/python3.12/site-packages (from torch>=1.8.0->ultralytics) (4.12.2)\n",
      "Requirement already satisfied: networkx in /opt/homebrew/Caskroom/miniforge/base/envs/torch/lib/python3.12/site-packages (from torch>=1.8.0->ultralytics) (3.4.2)\n",
      "Requirement already satisfied: jinja2 in /opt/homebrew/Caskroom/miniforge/base/envs/torch/lib/python3.12/site-packages (from torch>=1.8.0->ultralytics) (3.1.5)\n",
      "Requirement already satisfied: fsspec in /opt/homebrew/Caskroom/miniforge/base/envs/torch/lib/python3.12/site-packages (from torch>=1.8.0->ultralytics) (2024.9.0)\n",
      "Requirement already satisfied: setuptools in /opt/homebrew/Caskroom/miniforge/base/envs/torch/lib/python3.12/site-packages (from torch>=1.8.0->ultralytics) (75.1.0)\n",
      "Requirement already satisfied: sympy==1.13.1 in /opt/homebrew/Caskroom/miniforge/base/envs/torch/lib/python3.12/site-packages (from torch>=1.8.0->ultralytics) (1.13.1)\n",
      "Requirement already satisfied: mpmath<1.4,>=1.1.0 in /opt/homebrew/Caskroom/miniforge/base/envs/torch/lib/python3.12/site-packages (from sympy==1.13.1->torch>=1.8.0->ultralytics) (1.3.0)\n",
      "Requirement already satisfied: six>=1.5 in /opt/homebrew/Caskroom/miniforge/base/envs/torch/lib/python3.12/site-packages (from python-dateutil>=2.7->matplotlib>=3.3.0->ultralytics) (1.16.0)\n",
      "Requirement already satisfied: MarkupSafe>=2.0 in /opt/homebrew/Caskroom/miniforge/base/envs/torch/lib/python3.12/site-packages (from jinja2->torch>=1.8.0->ultralytics) (3.0.2)\n",
      "Downloading ultralytics-8.3.67-py3-none-any.whl (913 kB)\n",
      "\u001b[2K   \u001b[90m━━━━━━━━━━━━━━━━━━━━━━━━━━━━━━━━━━━━━━━━\u001b[0m \u001b[32m913.5/913.5 kB\u001b[0m \u001b[31m8.9 MB/s\u001b[0m eta \u001b[36m0:00:00\u001b[0m\n",
      "\u001b[?25hDownloading matplotlib-3.10.0-cp312-cp312-macosx_11_0_arm64.whl (8.0 MB)\n",
      "\u001b[2K   \u001b[90m━━━━━━━━━━━━━━━━━━━━━━━━━━━━━━━━━━━━━━━━\u001b[0m \u001b[32m8.0/8.0 MB\u001b[0m \u001b[31m6.7 MB/s\u001b[0m eta \u001b[36m0:00:00\u001b[0ma \u001b[36m0:00:01\u001b[0m\n",
      "\u001b[?25hDownloading numpy-1.26.4-cp312-cp312-macosx_11_0_arm64.whl (13.7 MB)\n",
      "\u001b[2K   \u001b[90m━━━━━━━━━━━━━━━━━━━━━━━━━━━━━━━━━━━━━━━━\u001b[0m \u001b[32m13.7/13.7 MB\u001b[0m \u001b[31m6.3 MB/s\u001b[0m eta \u001b[36m0:00:00\u001b[0ma \u001b[36m0:00:01\u001b[0m\n",
      "\u001b[?25hDownloading opencv_python-4.11.0.86-cp37-abi3-macosx_13_0_arm64.whl (37.3 MB)\n",
      "\u001b[2K   \u001b[90m━━━━━━━━━━━━━━━━━━━━━━━━━━━━━━━━━━━━━━━━\u001b[0m \u001b[32m37.3/37.3 MB\u001b[0m \u001b[31m5.9 MB/s\u001b[0m eta \u001b[36m0:00:00\u001b[0m00:01\u001b[0m00:01\u001b[0m\n",
      "\u001b[?25hUsing cached seaborn-0.13.2-py3-none-any.whl (294 kB)\n",
      "Downloading ultralytics_thop-2.0.14-py3-none-any.whl (26 kB)\n",
      "Using cached py_cpuinfo-9.0.0-py3-none-any.whl (22 kB)\n",
      "Downloading contourpy-1.3.1-cp312-cp312-macosx_11_0_arm64.whl (255 kB)\n",
      "Using cached cycler-0.12.1-py3-none-any.whl (8.3 kB)\n",
      "Downloading fonttools-4.55.6-cp312-cp312-macosx_10_13_universal2.whl (2.8 MB)\n",
      "\u001b[2K   \u001b[90m━━━━━━━━━━━━━━━━━━━━━━━━━━━━━━━━━━━━━━━━\u001b[0m \u001b[32m2.8/2.8 MB\u001b[0m \u001b[31m7.2 MB/s\u001b[0m eta \u001b[36m0:00:00\u001b[0ma \u001b[36m0:00:01\u001b[0m\n",
      "\u001b[?25hDownloading kiwisolver-1.4.8-cp312-cp312-macosx_11_0_arm64.whl (65 kB)\n",
      "Downloading pyparsing-3.2.1-py3-none-any.whl (107 kB)\n",
      "Installing collected packages: py-cpuinfo, pyparsing, numpy, kiwisolver, fonttools, cycler, opencv-python, contourpy, ultralytics-thop, matplotlib, seaborn, ultralytics\n",
      "  Attempting uninstall: numpy\n",
      "    Found existing installation: numpy 2.2.2\n",
      "    Uninstalling numpy-2.2.2:\n",
      "      Successfully uninstalled numpy-2.2.2\n",
      "Successfully installed contourpy-1.3.1 cycler-0.12.1 fonttools-4.55.6 kiwisolver-1.4.8 matplotlib-3.10.0 numpy-1.26.4 opencv-python-4.11.0.86 py-cpuinfo-9.0.0 pyparsing-3.2.1 seaborn-0.13.2 ultralytics-8.3.67 ultralytics-thop-2.0.14\n"
     ]
    }
   ],
   "source": [
    "!pip3 install ultralytics"
   ]
  },
  {
   "cell_type": "code",
   "execution_count": 5,
   "metadata": {},
   "outputs": [
    {
     "name": "stdout",
     "output_type": "stream",
     "text": [
      "Channels:\n",
      " - conda-forge\n",
      "Platform: osx-arm64\n",
      "Collecting package metadata (repodata.json): done\n",
      "Solving environment: done\n",
      "\n",
      "\n",
      "==> WARNING: A newer version of conda exists. <==\n",
      "    current version: 24.11.2\n",
      "    latest version: 25.1.0\n",
      "\n",
      "Please update conda by running\n",
      "\n",
      "    $ conda update -n base -c conda-forge conda\n",
      "\n",
      "\n",
      "\n",
      "# All requested packages already installed.\n",
      "\n",
      "\n",
      "Note: you may need to restart the kernel to use updated packages.\n"
     ]
    }
   ],
   "source": [
    "conda install yaml"
   ]
  },
  {
   "cell_type": "code",
   "execution_count": 2,
   "metadata": {},
   "outputs": [
    {
     "name": "stdout",
     "output_type": "stream",
     "text": [
      "tensor([1.], device='mps:0')\n"
     ]
    }
   ],
   "source": [
    "import torch\n",
    "\n",
    "if torch.backends.mps.is_available():\n",
    "    mps_device = torch.device(\"mps\")\n",
    "    x = torch.ones(1, device=mps_device)\n",
    "    print (x)\n",
    "else:\n",
    "    print (\"MPS device not found.\")\n",
    "    \n",
    "torch.backends.mps.is_built() \n",
    "torch.backends.mps.is_available()\n",
    "device = torch.device(\"mps\")"
   ]
  },
  {
   "cell_type": "code",
   "execution_count": 3,
   "metadata": {},
   "outputs": [
    {
     "name": "stdout",
     "output_type": "stream",
     "text": [
      "162 162\n",
      "Train 데이터: 97개\n",
      "Validation 데이터: 32개\n",
      "Test 데이터: 33개\n"
     ]
    }
   ],
   "source": [
    "import os\n",
    "import shutil\n",
    "from sklearn.model_selection import train_test_split\n",
    "\n",
    "# 경로 설정\n",
    "dataset_path = '/Users/lywoo/Desktop/꽃 인식 DNN/datasets'  # 원본 데이터 디렉토리\n",
    "images_path = os.path.join(dataset_path, '/Users/lywoo/Desktop/꽃 인식 DNN/datasets/images')  # 이미지 파일 디렉토리\n",
    "labels_path = os.path.join(dataset_path, '/Users/lywoo/Desktop/꽃 인식 DNN/datasets/labels')  # 라벨 파일 디렉토리\n",
    "\n",
    "train_path = os.path.join(dataset_path, \"train\")  # 학습 데이터 저장 디렉토리\n",
    "val_path = os.path.join(dataset_path, \"val\")      # 검증 데이터 저장 디렉토리\n",
    "test_path = os.path.join(dataset_path, \"test\")    # 테스트 데이터 저장 디렉토리\n",
    "\n",
    "# 디렉토리 생성\n",
    "os.makedirs(os.path.join(train_path, \"images\"), exist_ok=True)\n",
    "os.makedirs(os.path.join(train_path, \"labels\"), exist_ok=True)\n",
    "os.makedirs(os.path.join(val_path, \"images\"), exist_ok=True)\n",
    "os.makedirs(os.path.join(val_path, \"labels\"), exist_ok=True)\n",
    "os.makedirs(os.path.join(test_path, \"images\"), exist_ok=True)\n",
    "os.makedirs(os.path.join(test_path, \"labels\"), exist_ok=True)\n",
    "\n",
    "# 이미지와 라벨 파일 리스트 가져오기\n",
    "image_files = sorted([f for f in os.listdir(images_path) if f.endswith(('.jpg', '.jpeg', '.png'))])\n",
    "label_files = sorted([f for f in os.listdir(labels_path) if f.endswith('.txt')])\n",
    "\n",
    "print(len(image_files), len(label_files))\n",
    "\n",
    "# for label_file in label_files:\n",
    "#     new_label = label_file.replace('15.3', '')\n",
    "#     os.rename(os.path.join(labels_path, label_file), os.path.join(labels_path, new_label))\n",
    "\n",
    "# 이미지와 라벨의 이름이 동일한지 확인\n",
    "assert len(image_files) == len(label_files), \"이미지와 라벨 파일 개수가 다릅니다.\"\n",
    "for img, lbl in zip(image_files, label_files):\n",
    "    assert os.path.splitext(img)[0] == os.path.splitext(lbl)[0], f\"파일 이름이 다릅니다: {img}, {lbl}\"\n",
    "\n",
    "# 데이터를 6:2:2로 나누기\n",
    "train_images, temp_images, train_labels, temp_labels = train_test_split(\n",
    "    image_files, label_files, test_size=0.4, random_state=42  # 40%를 val+test로 분리\n",
    ")\n",
    "val_images, test_images, val_labels, test_labels = train_test_split(\n",
    "    temp_images, temp_labels, test_size=0.5, random_state=42  # 나머지 40% 중 절반씩 분리\n",
    ")\n",
    "\n",
    "# 파일 복사 함수\n",
    "def copy_files(file_list, src_folder, dest_folder):\n",
    "    for file_name in file_list:\n",
    "        src = os.path.join(src_folder, file_name)\n",
    "        dest = os.path.join(dest_folder, file_name)\n",
    "        shutil.copy(src, dest)\n",
    "\n",
    "# 이미지와 라벨 복사\n",
    "copy_files(train_images, images_path, os.path.join(train_path, \"images\"))\n",
    "copy_files(train_labels, labels_path, os.path.join(train_path, \"labels\"))\n",
    "\n",
    "copy_files(val_images, images_path, os.path.join(val_path, \"images\"))\n",
    "copy_files(val_labels, labels_path, os.path.join(val_path, \"labels\"))\n",
    "\n",
    "copy_files(test_images, images_path, os.path.join(test_path, \"images\"))\n",
    "copy_files(test_labels, labels_path, os.path.join(test_path, \"labels\"))\n",
    "\n",
    "# 데이터 분할 결과 출력\n",
    "print(f\"Train 데이터: {len(train_images)}개\")\n",
    "print(f\"Validation 데이터: {len(val_images)}개\")\n",
    "print(f\"Test 데이터: {len(test_images)}개\")"
   ]
  },
  {
   "cell_type": "code",
   "execution_count": 10,
   "metadata": {},
   "outputs": [
    {
     "name": "stdout",
     "output_type": "stream",
     "text": [
      "{'names': {0: 'flower'}, 'nc': 1, 'test': '/Users/lywoo/Desktop/꽃 인식 DNN/datasets/test', 'train': '/Users/lywoo/Desktop/꽃 인식 DNN/datasets/train', 'val': '/Users/lywoo/Desktop/꽃 인식 DNN/datasets/val'}\n"
     ]
    }
   ],
   "source": [
    "import yaml\n",
    "\n",
    "data = {\n",
    "    'train' : '/Users/lywoo/Desktop/꽃 인식 DNN/datasets/train',\n",
    "    'val' : '/Users/lywoo/Desktop/꽃 인식 DNN/datasets/val',\n",
    "    'test' : '/Users/lywoo/Desktop/꽃 인식 DNN/datasets/test',\n",
    "    'names' : {0 : 'flower'},\n",
    "    'nc' : 1\n",
    "}\n",
    "\n",
    "with open('./flower.yaml', 'w') as f:\n",
    "    yaml.dump(data, f)\n",
    "\n",
    "with open('./flower.yaml', 'r') as f:\n",
    "    lines = yaml.safe_load(f)\n",
    "    print(lines)"
   ]
  },
  {
   "cell_type": "code",
   "execution_count": 5,
   "metadata": {},
   "outputs": [
    {
     "name": "stdout",
     "output_type": "stream",
     "text": [
      "\u001b[34m\u001b[1mengine/trainer: \u001b[0mtask=detect, mode=train, model=yolo11n.pt, data=/Users/lywoo/Desktop/꽃 인식 DNN/flower.yaml, epochs=50, time=None, patience=100, batch=16, imgsz=640, save=True, save_period=-1, cache=False, device=mps:0, workers=8, project=None, name=train2, exist_ok=False, pretrained=True, optimizer=auto, verbose=True, seed=0, deterministic=True, single_cls=False, rect=False, cos_lr=False, close_mosaic=10, resume=False, amp=True, fraction=1.0, profile=False, freeze=None, multi_scale=False, overlap_mask=True, mask_ratio=4, dropout=0.0, val=True, split=val, save_json=False, save_hybrid=False, conf=None, iou=0.7, max_det=300, half=False, dnn=False, plots=True, source=None, vid_stride=1, stream_buffer=False, visualize=False, augment=False, agnostic_nms=False, classes=None, retina_masks=False, embed=None, show=False, save_frames=False, save_txt=False, save_conf=False, save_crop=False, show_labels=True, show_conf=True, show_boxes=True, line_width=None, format=torchscript, keras=False, optimize=False, int8=False, dynamic=False, simplify=True, opset=None, workspace=None, nms=False, lr0=0.01, lrf=0.01, momentum=0.937, weight_decay=0.0005, warmup_epochs=3.0, warmup_momentum=0.8, warmup_bias_lr=0.1, box=7.5, cls=0.5, dfl=1.5, pose=12.0, kobj=1.0, nbs=64, hsv_h=0.015, hsv_s=0.7, hsv_v=0.4, degrees=0.0, translate=0.1, scale=0.5, shear=0.0, perspective=0.0, flipud=0.0, fliplr=0.5, bgr=0.0, mosaic=1.0, mixup=0.0, copy_paste=0.0, copy_paste_mode=flip, auto_augment=randaugment, erasing=0.4, crop_fraction=1.0, cfg=None, tracker=botsort.yaml, save_dir=runs/detect/train2\n",
      "Overriding model.yaml nc=80 with nc=1\n",
      "\n",
      "                   from  n    params  module                                       arguments                     \n",
      "  0                  -1  1       464  ultralytics.nn.modules.conv.Conv             [3, 16, 3, 2]                 \n",
      "  1                  -1  1      4672  ultralytics.nn.modules.conv.Conv             [16, 32, 3, 2]                \n",
      "  2                  -1  1      6640  ultralytics.nn.modules.block.C3k2            [32, 64, 1, False, 0.25]      \n",
      "  3                  -1  1     36992  ultralytics.nn.modules.conv.Conv             [64, 64, 3, 2]                \n",
      "  4                  -1  1     26080  ultralytics.nn.modules.block.C3k2            [64, 128, 1, False, 0.25]     \n",
      "  5                  -1  1    147712  ultralytics.nn.modules.conv.Conv             [128, 128, 3, 2]              \n",
      "  6                  -1  1     87040  ultralytics.nn.modules.block.C3k2            [128, 128, 1, True]           \n",
      "  7                  -1  1    295424  ultralytics.nn.modules.conv.Conv             [128, 256, 3, 2]              \n",
      "  8                  -1  1    346112  ultralytics.nn.modules.block.C3k2            [256, 256, 1, True]           \n",
      "  9                  -1  1    164608  ultralytics.nn.modules.block.SPPF            [256, 256, 5]                 \n",
      " 10                  -1  1    249728  ultralytics.nn.modules.block.C2PSA           [256, 256, 1]                 \n",
      " 11                  -1  1         0  torch.nn.modules.upsampling.Upsample         [None, 2, 'nearest']          \n",
      " 12             [-1, 6]  1         0  ultralytics.nn.modules.conv.Concat           [1]                           \n",
      " 13                  -1  1    111296  ultralytics.nn.modules.block.C3k2            [384, 128, 1, False]          \n",
      " 14                  -1  1         0  torch.nn.modules.upsampling.Upsample         [None, 2, 'nearest']          \n",
      " 15             [-1, 4]  1         0  ultralytics.nn.modules.conv.Concat           [1]                           \n",
      " 16                  -1  1     32096  ultralytics.nn.modules.block.C3k2            [256, 64, 1, False]           \n",
      " 17                  -1  1     36992  ultralytics.nn.modules.conv.Conv             [64, 64, 3, 2]                \n",
      " 18            [-1, 13]  1         0  ultralytics.nn.modules.conv.Concat           [1]                           \n",
      " 19                  -1  1     86720  ultralytics.nn.modules.block.C3k2            [192, 128, 1, False]          \n",
      " 20                  -1  1    147712  ultralytics.nn.modules.conv.Conv             [128, 128, 3, 2]              \n",
      " 21            [-1, 10]  1         0  ultralytics.nn.modules.conv.Concat           [1]                           \n",
      " 22                  -1  1    378880  ultralytics.nn.modules.block.C3k2            [384, 256, 1, True]           \n",
      " 23        [16, 19, 22]  1    430867  ultralytics.nn.modules.head.Detect           [1, [64, 128, 256]]           \n",
      "YOLO11n summary: 319 layers, 2,590,035 parameters, 2,590,019 gradients, 6.4 GFLOPs\n",
      "\n",
      "Transferred 448/499 items from pretrained weights\n",
      "Freezing layer 'model.23.dfl.conv.weight'\n"
     ]
    },
    {
     "name": "stderr",
     "output_type": "stream",
     "text": [
      "\u001b[34m\u001b[1mtrain: \u001b[0mScanning /Users/lywoo/Desktop/꽃 인식 DNN/datasets/train/labels... 97 images, 0 backgrounds, 0 corrupt: 100%|██████████| 97/97 [00:01<00:00, 69.07it/s] "
     ]
    },
    {
     "name": "stdout",
     "output_type": "stream",
     "text": [
      "\u001b[34m\u001b[1mtrain: \u001b[0mWARNING ⚠️ /Users/lywoo/Desktop/꽃 인식 DNN/datasets/train/images/KakaoTalk_20240418_130907386_01.jpg: corrupt JPEG restored and saved\n",
      "\u001b[34m\u001b[1mtrain: \u001b[0mWARNING ⚠️ /Users/lywoo/Desktop/꽃 인식 DNN/datasets/train/images/KakaoTalk_20240418_130907386_05.jpg: corrupt JPEG restored and saved\n",
      "\u001b[34m\u001b[1mtrain: \u001b[0mWARNING ⚠️ /Users/lywoo/Desktop/꽃 인식 DNN/datasets/train/images/KakaoTalk_20240418_130907386_08.jpg: corrupt JPEG restored and saved\n",
      "\u001b[34m\u001b[1mtrain: \u001b[0mWARNING ⚠️ /Users/lywoo/Desktop/꽃 인식 DNN/datasets/train/images/KakaoTalk_20240418_130907386_09.jpg: corrupt JPEG restored and saved\n",
      "\u001b[34m\u001b[1mtrain: \u001b[0mWARNING ⚠️ /Users/lywoo/Desktop/꽃 인식 DNN/datasets/train/images/KakaoTalk_20240418_130907386_12.jpg: corrupt JPEG restored and saved\n",
      "\u001b[34m\u001b[1mtrain: \u001b[0mWARNING ⚠️ /Users/lywoo/Desktop/꽃 인식 DNN/datasets/train/images/KakaoTalk_20240418_130907386_13.jpg: corrupt JPEG restored and saved\n",
      "\u001b[34m\u001b[1mtrain: \u001b[0mWARNING ⚠️ /Users/lywoo/Desktop/꽃 인식 DNN/datasets/train/images/KakaoTalk_20240418_130907386_16.jpg: corrupt JPEG restored and saved\n",
      "\u001b[34m\u001b[1mtrain: \u001b[0mWARNING ⚠️ /Users/lywoo/Desktop/꽃 인식 DNN/datasets/train/images/KakaoTalk_20240418_130907386_17.jpg: corrupt JPEG restored and saved\n",
      "\u001b[34m\u001b[1mtrain: \u001b[0mWARNING ⚠️ /Users/lywoo/Desktop/꽃 인식 DNN/datasets/train/images/KakaoTalk_20240418_130907386_18.jpg: corrupt JPEG restored and saved\n",
      "\u001b[34m\u001b[1mtrain: \u001b[0mWARNING ⚠️ /Users/lywoo/Desktop/꽃 인식 DNN/datasets/train/images/KakaoTalk_20240418_130907386_19.jpg: corrupt JPEG restored and saved\n",
      "\u001b[34m\u001b[1mtrain: \u001b[0mWARNING ⚠️ /Users/lywoo/Desktop/꽃 인식 DNN/datasets/train/images/KakaoTalk_20240418_130907386_20.jpg: corrupt JPEG restored and saved\n",
      "\u001b[34m\u001b[1mtrain: \u001b[0mWARNING ⚠️ /Users/lywoo/Desktop/꽃 인식 DNN/datasets/train/images/KakaoTalk_20240418_131003449_02.jpg: corrupt JPEG restored and saved\n",
      "\u001b[34m\u001b[1mtrain: \u001b[0mWARNING ⚠️ /Users/lywoo/Desktop/꽃 인식 DNN/datasets/train/images/KakaoTalk_20240418_131003449_03.jpg: corrupt JPEG restored and saved\n",
      "\u001b[34m\u001b[1mtrain: \u001b[0mWARNING ⚠️ /Users/lywoo/Desktop/꽃 인식 DNN/datasets/train/images/KakaoTalk_20240418_131003449_04.jpg: corrupt JPEG restored and saved\n",
      "\u001b[34m\u001b[1mtrain: \u001b[0mWARNING ⚠️ /Users/lywoo/Desktop/꽃 인식 DNN/datasets/train/images/KakaoTalk_20240418_131003449_05.jpg: corrupt JPEG restored and saved\n",
      "\u001b[34m\u001b[1mtrain: \u001b[0mWARNING ⚠️ /Users/lywoo/Desktop/꽃 인식 DNN/datasets/train/images/KakaoTalk_20240418_131003449_06.jpg: corrupt JPEG restored and saved\n",
      "\u001b[34m\u001b[1mtrain: \u001b[0mWARNING ⚠️ /Users/lywoo/Desktop/꽃 인식 DNN/datasets/train/images/KakaoTalk_20240418_131003449_07.jpg: corrupt JPEG restored and saved\n",
      "\u001b[34m\u001b[1mtrain: \u001b[0mWARNING ⚠️ /Users/lywoo/Desktop/꽃 인식 DNN/datasets/train/images/KakaoTalk_20240418_131003449_08.jpg: corrupt JPEG restored and saved\n",
      "\u001b[34m\u001b[1mtrain: \u001b[0mWARNING ⚠️ /Users/lywoo/Desktop/꽃 인식 DNN/datasets/train/images/KakaoTalk_20240418_131003449_09.jpg: corrupt JPEG restored and saved\n",
      "\u001b[34m\u001b[1mtrain: \u001b[0mWARNING ⚠️ /Users/lywoo/Desktop/꽃 인식 DNN/datasets/train/images/KakaoTalk_20240418_131003449_11.jpg: corrupt JPEG restored and saved\n",
      "\u001b[34m\u001b[1mtrain: \u001b[0mWARNING ⚠️ /Users/lywoo/Desktop/꽃 인식 DNN/datasets/train/images/KakaoTalk_20240418_131003449_12.jpg: corrupt JPEG restored and saved\n",
      "\u001b[34m\u001b[1mtrain: \u001b[0mWARNING ⚠️ /Users/lywoo/Desktop/꽃 인식 DNN/datasets/train/images/KakaoTalk_20240418_131432057_02.jpg: corrupt JPEG restored and saved\n",
      "\u001b[34m\u001b[1mtrain: \u001b[0mWARNING ⚠️ /Users/lywoo/Desktop/꽃 인식 DNN/datasets/train/images/KakaoTalk_20240418_131432057_04.jpg: corrupt JPEG restored and saved\n",
      "\u001b[34m\u001b[1mtrain: \u001b[0mWARNING ⚠️ /Users/lywoo/Desktop/꽃 인식 DNN/datasets/train/images/KakaoTalk_20240418_131432057_19.jpg: corrupt JPEG restored and saved\n",
      "\u001b[34m\u001b[1mtrain: \u001b[0mWARNING ⚠️ /Users/lywoo/Desktop/꽃 인식 DNN/datasets/train/images/KakaoTalk_20240418_131432057_20.jpg: corrupt JPEG restored and saved\n",
      "\u001b[34m\u001b[1mtrain: \u001b[0mWARNING ⚠️ /Users/lywoo/Desktop/꽃 인식 DNN/datasets/train/images/KakaoTalk_20240418_131432057_23.jpg: corrupt JPEG restored and saved\n",
      "\u001b[34m\u001b[1mtrain: \u001b[0mWARNING ⚠️ /Users/lywoo/Desktop/꽃 인식 DNN/datasets/train/images/KakaoTalk_20240418_131515511_04.jpg: corrupt JPEG restored and saved\n",
      "\u001b[34m\u001b[1mtrain: \u001b[0mWARNING ⚠️ /Users/lywoo/Desktop/꽃 인식 DNN/datasets/train/images/KakaoTalk_20240418_131515511_07.jpg: corrupt JPEG restored and saved\n",
      "\u001b[34m\u001b[1mtrain: \u001b[0mWARNING ⚠️ /Users/lywoo/Desktop/꽃 인식 DNN/datasets/train/images/KakaoTalk_20240418_131515511_12.jpg: corrupt JPEG restored and saved\n",
      "\u001b[34m\u001b[1mtrain: \u001b[0mWARNING ⚠️ /Users/lywoo/Desktop/꽃 인식 DNN/datasets/train/images/KakaoTalk_20240418_131515511_13.jpg: corrupt JPEG restored and saved\n",
      "\u001b[34m\u001b[1mtrain: \u001b[0mWARNING ⚠️ /Users/lywoo/Desktop/꽃 인식 DNN/datasets/train/images/KakaoTalk_20240418_131515511_14.jpg: corrupt JPEG restored and saved\n",
      "\u001b[34m\u001b[1mtrain: \u001b[0mNew cache created: /Users/lywoo/Desktop/꽃 인식 DNN/datasets/train/labels.cache\n"
     ]
    },
    {
     "name": "stderr",
     "output_type": "stream",
     "text": [
      "\n",
      "\u001b[34m\u001b[1mval: \u001b[0mScanning /Users/lywoo/Desktop/꽃 인식 DNN/datasets/val/labels... 32 images, 0 backgrounds, 0 corrupt: 100%|██████████| 32/32 [00:00<00:00, 61.75it/s]"
     ]
    },
    {
     "name": "stdout",
     "output_type": "stream",
     "text": [
      "\u001b[34m\u001b[1mval: \u001b[0mWARNING ⚠️ /Users/lywoo/Desktop/꽃 인식 DNN/datasets/val/images/KakaoTalk_20240418_130907386_02.jpg: corrupt JPEG restored and saved\n",
      "\u001b[34m\u001b[1mval: \u001b[0mWARNING ⚠️ /Users/lywoo/Desktop/꽃 인식 DNN/datasets/val/images/KakaoTalk_20240418_130907386_03.jpg: corrupt JPEG restored and saved\n",
      "\u001b[34m\u001b[1mval: \u001b[0mWARNING ⚠️ /Users/lywoo/Desktop/꽃 인식 DNN/datasets/val/images/KakaoTalk_20240418_130907386_04.jpg: corrupt JPEG restored and saved\n",
      "\u001b[34m\u001b[1mval: \u001b[0mWARNING ⚠️ /Users/lywoo/Desktop/꽃 인식 DNN/datasets/val/images/KakaoTalk_20240418_130907386_11.jpg: corrupt JPEG restored and saved\n",
      "\u001b[34m\u001b[1mval: \u001b[0mWARNING ⚠️ /Users/lywoo/Desktop/꽃 인식 DNN/datasets/val/images/KakaoTalk_20240418_130907386_15.jpg: corrupt JPEG restored and saved\n",
      "\u001b[34m\u001b[1mval: \u001b[0mWARNING ⚠️ /Users/lywoo/Desktop/꽃 인식 DNN/datasets/val/images/KakaoTalk_20240418_131003449_10.jpg: corrupt JPEG restored and saved\n",
      "\u001b[34m\u001b[1mval: \u001b[0mWARNING ⚠️ /Users/lywoo/Desktop/꽃 인식 DNN/datasets/val/images/KakaoTalk_20240418_131432057_05.jpg: corrupt JPEG restored and saved\n",
      "\u001b[34m\u001b[1mval: \u001b[0mWARNING ⚠️ /Users/lywoo/Desktop/꽃 인식 DNN/datasets/val/images/KakaoTalk_20240418_131432057_08.jpg: corrupt JPEG restored and saved\n",
      "\u001b[34m\u001b[1mval: \u001b[0mWARNING ⚠️ /Users/lywoo/Desktop/꽃 인식 DNN/datasets/val/images/KakaoTalk_20240418_131515511_06.jpg: corrupt JPEG restored and saved\n",
      "\u001b[34m\u001b[1mval: \u001b[0mNew cache created: /Users/lywoo/Desktop/꽃 인식 DNN/datasets/val/labels.cache\n",
      "Plotting labels to runs/detect/train2/labels.jpg... \n"
     ]
    },
    {
     "name": "stderr",
     "output_type": "stream",
     "text": [
      "\n"
     ]
    },
    {
     "name": "stdout",
     "output_type": "stream",
     "text": [
      "\u001b[34m\u001b[1moptimizer:\u001b[0m 'optimizer=auto' found, ignoring 'lr0=0.01' and 'momentum=0.937' and determining best 'optimizer', 'lr0' and 'momentum' automatically... \n",
      "\u001b[34m\u001b[1moptimizer:\u001b[0m AdamW(lr=0.002, momentum=0.9) with parameter groups 81 weight(decay=0.0), 88 weight(decay=0.0005), 87 bias(decay=0.0)\n",
      "Image sizes 640 train, 640 val\n",
      "Using 0 dataloader workers\n",
      "Logging results to \u001b[1mruns/detect/train2\u001b[0m\n",
      "Starting training for 50 epochs...\n",
      "\n",
      "      Epoch    GPU_mem   box_loss   cls_loss   dfl_loss  Instances       Size\n"
     ]
    },
    {
     "name": "stderr",
     "output_type": "stream",
     "text": [
      "       1/50      4.54G      2.857      3.838      2.492         24        640: 100%|██████████| 7/7 [00:44<00:00,  6.33s/it]\n",
      "                 Class     Images  Instances      Box(P          R      mAP50  mAP50-95): 100%|██████████| 1/1 [00:11<00:00, 11.01s/it]"
     ]
    },
    {
     "name": "stdout",
     "output_type": "stream",
     "text": [
      "                   all         32         85    0.00458      0.518    0.00362    0.00149\n"
     ]
    },
    {
     "name": "stderr",
     "output_type": "stream",
     "text": [
      "\n"
     ]
    },
    {
     "name": "stdout",
     "output_type": "stream",
     "text": [
      "\n",
      "      Epoch    GPU_mem   box_loss   cls_loss   dfl_loss  Instances       Size\n"
     ]
    },
    {
     "name": "stderr",
     "output_type": "stream",
     "text": [
      "       2/50       4.7G      2.447      3.491      2.097          4        640: 100%|██████████| 7/7 [00:24<00:00,  3.44s/it]\n",
      "                 Class     Images  Instances      Box(P          R      mAP50  mAP50-95): 100%|██████████| 1/1 [00:08<00:00,  8.93s/it]"
     ]
    },
    {
     "name": "stdout",
     "output_type": "stream",
     "text": [
      "                   all         32         85    0.00469      0.529     0.0891     0.0357\n"
     ]
    },
    {
     "name": "stderr",
     "output_type": "stream",
     "text": [
      "\n"
     ]
    },
    {
     "name": "stdout",
     "output_type": "stream",
     "text": [
      "\n",
      "      Epoch    GPU_mem   box_loss   cls_loss   dfl_loss  Instances       Size\n"
     ]
    },
    {
     "name": "stderr",
     "output_type": "stream",
     "text": [
      "       3/50      4.84G      1.994       2.99      1.765          3        640: 100%|██████████| 7/7 [00:23<00:00,  3.34s/it]\n",
      "                 Class     Images  Instances      Box(P          R      mAP50  mAP50-95): 100%|██████████| 1/1 [00:08<00:00,  8.50s/it]"
     ]
    },
    {
     "name": "stdout",
     "output_type": "stream",
     "text": [
      "                   all         32         85    0.00552      0.624     0.0806     0.0272\n"
     ]
    },
    {
     "name": "stderr",
     "output_type": "stream",
     "text": [
      "\n"
     ]
    },
    {
     "name": "stdout",
     "output_type": "stream",
     "text": [
      "\n",
      "      Epoch    GPU_mem   box_loss   cls_loss   dfl_loss  Instances       Size\n"
     ]
    },
    {
     "name": "stderr",
     "output_type": "stream",
     "text": [
      "       4/50      4.78G      2.466      3.088      1.938         24        640: 100%|██████████| 7/7 [00:23<00:00,  3.40s/it]\n",
      "                 Class     Images  Instances      Box(P          R      mAP50  mAP50-95): 100%|██████████| 1/1 [00:06<00:00,  6.74s/it]"
     ]
    },
    {
     "name": "stdout",
     "output_type": "stream",
     "text": [
      "                   all         32         85    0.00625      0.706      0.199      0.108\n"
     ]
    },
    {
     "name": "stderr",
     "output_type": "stream",
     "text": [
      "\n"
     ]
    },
    {
     "name": "stdout",
     "output_type": "stream",
     "text": [
      "\n",
      "      Epoch    GPU_mem   box_loss   cls_loss   dfl_loss  Instances       Size\n"
     ]
    },
    {
     "name": "stderr",
     "output_type": "stream",
     "text": [
      "       5/50      5.75G      2.306      2.808      1.791          9        640: 100%|██████████| 7/7 [00:26<00:00,  3.78s/it]\n",
      "                 Class     Images  Instances      Box(P          R      mAP50  mAP50-95): 100%|██████████| 1/1 [00:11<00:00, 11.31s/it]"
     ]
    },
    {
     "name": "stdout",
     "output_type": "stream",
     "text": [
      "                   all         32         85    0.00604      0.682      0.222     0.0836\n"
     ]
    },
    {
     "name": "stderr",
     "output_type": "stream",
     "text": [
      "\n"
     ]
    },
    {
     "name": "stdout",
     "output_type": "stream",
     "text": [
      "\n",
      "      Epoch    GPU_mem   box_loss   cls_loss   dfl_loss  Instances       Size\n"
     ]
    },
    {
     "name": "stderr",
     "output_type": "stream",
     "text": [
      "       6/50      4.72G      2.102      2.783      1.782          1        640: 100%|██████████| 7/7 [00:25<00:00,  3.66s/it]\n",
      "                 Class     Images  Instances      Box(P          R      mAP50  mAP50-95): 100%|██████████| 1/1 [00:08<00:00,  8.83s/it]"
     ]
    },
    {
     "name": "stdout",
     "output_type": "stream",
     "text": [
      "                   all         32         85    0.00562      0.635     0.0895     0.0305\n"
     ]
    },
    {
     "name": "stderr",
     "output_type": "stream",
     "text": [
      "\n"
     ]
    },
    {
     "name": "stdout",
     "output_type": "stream",
     "text": [
      "\n",
      "      Epoch    GPU_mem   box_loss   cls_loss   dfl_loss  Instances       Size\n"
     ]
    },
    {
     "name": "stderr",
     "output_type": "stream",
     "text": [
      "       7/50      5.73G      2.514      3.229      1.925          2        640: 100%|██████████| 7/7 [00:29<00:00,  4.20s/it]\n",
      "                 Class     Images  Instances      Box(P          R      mAP50  mAP50-95):   0%|          | 0/1 [00:00<?, ?it/s]"
     ]
    },
    {
     "name": "stdout",
     "output_type": "stream",
     "text": [
      "WARNING ⚠️ NMS time limit 3.600s exceeded\n"
     ]
    },
    {
     "name": "stderr",
     "output_type": "stream",
     "text": [
      "                 Class     Images  Instances      Box(P          R      mAP50  mAP50-95): 100%|██████████| 1/1 [00:11<00:00, 11.13s/it]"
     ]
    },
    {
     "name": "stdout",
     "output_type": "stream",
     "text": [
      "                   all         32         85       0.69      0.141      0.205      0.113\n"
     ]
    },
    {
     "name": "stderr",
     "output_type": "stream",
     "text": [
      "\n"
     ]
    },
    {
     "name": "stdout",
     "output_type": "stream",
     "text": [
      "\n",
      "      Epoch    GPU_mem   box_loss   cls_loss   dfl_loss  Instances       Size\n"
     ]
    },
    {
     "name": "stderr",
     "output_type": "stream",
     "text": [
      "       8/50      4.74G      2.348      2.809      1.963          6        640: 100%|██████████| 7/7 [00:28<00:00,  4.00s/it]\n",
      "                 Class     Images  Instances      Box(P          R      mAP50  mAP50-95):   0%|          | 0/1 [00:00<?, ?it/s]"
     ]
    },
    {
     "name": "stdout",
     "output_type": "stream",
     "text": [
      "WARNING ⚠️ NMS time limit 3.600s exceeded\n"
     ]
    },
    {
     "name": "stderr",
     "output_type": "stream",
     "text": [
      "                 Class     Images  Instances      Box(P          R      mAP50  mAP50-95): 100%|██████████| 1/1 [00:10<00:00, 10.57s/it]"
     ]
    },
    {
     "name": "stdout",
     "output_type": "stream",
     "text": [
      "                   all         32         85      0.465        0.2        0.2      0.117\n"
     ]
    },
    {
     "name": "stderr",
     "output_type": "stream",
     "text": [
      "\n"
     ]
    },
    {
     "name": "stdout",
     "output_type": "stream",
     "text": [
      "\n",
      "      Epoch    GPU_mem   box_loss   cls_loss   dfl_loss  Instances       Size\n"
     ]
    },
    {
     "name": "stderr",
     "output_type": "stream",
     "text": [
      "       9/50       4.8G      2.313       3.06      2.207          1        640: 100%|██████████| 7/7 [00:24<00:00,  3.55s/it]\n",
      "                 Class     Images  Instances      Box(P          R      mAP50  mAP50-95):   0%|          | 0/1 [00:00<?, ?it/s]"
     ]
    },
    {
     "name": "stdout",
     "output_type": "stream",
     "text": [
      "WARNING ⚠️ NMS time limit 3.600s exceeded\n"
     ]
    },
    {
     "name": "stderr",
     "output_type": "stream",
     "text": [
      "                 Class     Images  Instances      Box(P          R      mAP50  mAP50-95): 100%|██████████| 1/1 [00:11<00:00, 11.67s/it]"
     ]
    },
    {
     "name": "stdout",
     "output_type": "stream",
     "text": [
      "                   all         32         85      0.481      0.229      0.235      0.133\n"
     ]
    },
    {
     "name": "stderr",
     "output_type": "stream",
     "text": [
      "\n"
     ]
    },
    {
     "name": "stdout",
     "output_type": "stream",
     "text": [
      "\n",
      "      Epoch    GPU_mem   box_loss   cls_loss   dfl_loss  Instances       Size\n"
     ]
    },
    {
     "name": "stderr",
     "output_type": "stream",
     "text": [
      "      10/50      4.78G      2.073       3.04      1.845          1        640: 100%|██████████| 7/7 [00:23<00:00,  3.40s/it]\n",
      "                 Class     Images  Instances      Box(P          R      mAP50  mAP50-95):   0%|          | 0/1 [00:00<?, ?it/s]"
     ]
    },
    {
     "name": "stdout",
     "output_type": "stream",
     "text": [
      "WARNING ⚠️ NMS time limit 3.600s exceeded\n"
     ]
    },
    {
     "name": "stderr",
     "output_type": "stream",
     "text": [
      "                 Class     Images  Instances      Box(P          R      mAP50  mAP50-95): 100%|██████████| 1/1 [00:09<00:00,  9.95s/it]"
     ]
    },
    {
     "name": "stdout",
     "output_type": "stream",
     "text": [
      "                   all         32         85      0.438      0.153      0.174       0.11\n"
     ]
    },
    {
     "name": "stderr",
     "output_type": "stream",
     "text": [
      "\n"
     ]
    },
    {
     "name": "stdout",
     "output_type": "stream",
     "text": [
      "\n",
      "      Epoch    GPU_mem   box_loss   cls_loss   dfl_loss  Instances       Size\n"
     ]
    },
    {
     "name": "stderr",
     "output_type": "stream",
     "text": [
      "      11/50      4.74G      2.462      2.807      2.016         16        640: 100%|██████████| 7/7 [00:27<00:00,  3.96s/it]\n",
      "                 Class     Images  Instances      Box(P          R      mAP50  mAP50-95):   0%|          | 0/1 [00:00<?, ?it/s]"
     ]
    },
    {
     "name": "stdout",
     "output_type": "stream",
     "text": [
      "WARNING ⚠️ NMS time limit 3.600s exceeded\n"
     ]
    },
    {
     "name": "stderr",
     "output_type": "stream",
     "text": [
      "                 Class     Images  Instances      Box(P          R      mAP50  mAP50-95): 100%|██████████| 1/1 [00:09<00:00,  9.60s/it]"
     ]
    },
    {
     "name": "stdout",
     "output_type": "stream",
     "text": [
      "                   all         32         85      0.733      0.247      0.292        0.2\n"
     ]
    },
    {
     "name": "stderr",
     "output_type": "stream",
     "text": [
      "\n"
     ]
    },
    {
     "name": "stdout",
     "output_type": "stream",
     "text": [
      "\n",
      "      Epoch    GPU_mem   box_loss   cls_loss   dfl_loss  Instances       Size\n"
     ]
    },
    {
     "name": "stderr",
     "output_type": "stream",
     "text": [
      "      12/50      4.84G      2.519      3.863        2.1          1        640: 100%|██████████| 7/7 [00:25<00:00,  3.67s/it]\n",
      "                 Class     Images  Instances      Box(P          R      mAP50  mAP50-95):   0%|          | 0/1 [00:00<?, ?it/s]"
     ]
    },
    {
     "name": "stdout",
     "output_type": "stream",
     "text": [
      "WARNING ⚠️ NMS time limit 3.600s exceeded\n"
     ]
    },
    {
     "name": "stderr",
     "output_type": "stream",
     "text": [
      "                 Class     Images  Instances      Box(P          R      mAP50  mAP50-95): 100%|██████████| 1/1 [00:11<00:00, 11.67s/it]"
     ]
    },
    {
     "name": "stdout",
     "output_type": "stream",
     "text": [
      "                   all         32         85      0.766      0.306      0.308       0.21\n"
     ]
    },
    {
     "name": "stderr",
     "output_type": "stream",
     "text": [
      "\n"
     ]
    },
    {
     "name": "stdout",
     "output_type": "stream",
     "text": [
      "\n",
      "      Epoch    GPU_mem   box_loss   cls_loss   dfl_loss  Instances       Size\n"
     ]
    },
    {
     "name": "stderr",
     "output_type": "stream",
     "text": [
      "      13/50       4.8G      2.219      2.752      1.993          2        640: 100%|██████████| 7/7 [00:26<00:00,  3.75s/it]\n",
      "                 Class     Images  Instances      Box(P          R      mAP50  mAP50-95):   0%|          | 0/1 [00:00<?, ?it/s]"
     ]
    },
    {
     "name": "stdout",
     "output_type": "stream",
     "text": [
      "WARNING ⚠️ NMS time limit 3.600s exceeded\n"
     ]
    },
    {
     "name": "stderr",
     "output_type": "stream",
     "text": [
      "                 Class     Images  Instances      Box(P          R      mAP50  mAP50-95): 100%|██████████| 1/1 [00:09<00:00,  9.98s/it]"
     ]
    },
    {
     "name": "stdout",
     "output_type": "stream",
     "text": [
      "                   all         32         85      0.819      0.247       0.25      0.174\n"
     ]
    },
    {
     "name": "stderr",
     "output_type": "stream",
     "text": [
      "\n"
     ]
    },
    {
     "name": "stdout",
     "output_type": "stream",
     "text": [
      "\n",
      "      Epoch    GPU_mem   box_loss   cls_loss   dfl_loss  Instances       Size\n"
     ]
    },
    {
     "name": "stderr",
     "output_type": "stream",
     "text": [
      "      14/50      4.73G      2.273      2.755      2.071          2        640: 100%|██████████| 7/7 [00:30<00:00,  4.32s/it]\n",
      "                 Class     Images  Instances      Box(P          R      mAP50  mAP50-95):   0%|          | 0/1 [00:00<?, ?it/s]"
     ]
    },
    {
     "name": "stdout",
     "output_type": "stream",
     "text": [
      "WARNING ⚠️ NMS time limit 3.600s exceeded\n"
     ]
    },
    {
     "name": "stderr",
     "output_type": "stream",
     "text": [
      "                 Class     Images  Instances      Box(P          R      mAP50  mAP50-95): 100%|██████████| 1/1 [00:11<00:00, 11.18s/it]\n"
     ]
    },
    {
     "name": "stdout",
     "output_type": "stream",
     "text": [
      "                   all         32         85      0.749      0.246      0.257      0.166\n",
      "\n",
      "      Epoch    GPU_mem   box_loss   cls_loss   dfl_loss  Instances       Size\n"
     ]
    },
    {
     "name": "stderr",
     "output_type": "stream",
     "text": [
      "      15/50      4.79G      1.961      3.526      1.806          1        640: 100%|██████████| 7/7 [00:30<00:00,  4.42s/it]\n",
      "                 Class     Images  Instances      Box(P          R      mAP50  mAP50-95):   0%|          | 0/1 [00:00<?, ?it/s]"
     ]
    },
    {
     "name": "stdout",
     "output_type": "stream",
     "text": [
      "WARNING ⚠️ NMS time limit 3.600s exceeded\n"
     ]
    },
    {
     "name": "stderr",
     "output_type": "stream",
     "text": [
      "                 Class     Images  Instances      Box(P          R      mAP50  mAP50-95): 100%|██████████| 1/1 [00:09<00:00,  9.93s/it]"
     ]
    },
    {
     "name": "stdout",
     "output_type": "stream",
     "text": [
      "                   all         32         85      0.622      0.165      0.153     0.0675\n"
     ]
    },
    {
     "name": "stderr",
     "output_type": "stream",
     "text": [
      "\n"
     ]
    },
    {
     "name": "stdout",
     "output_type": "stream",
     "text": [
      "\n",
      "      Epoch    GPU_mem   box_loss   cls_loss   dfl_loss  Instances       Size\n"
     ]
    },
    {
     "name": "stderr",
     "output_type": "stream",
     "text": [
      "      16/50      4.86G      1.976      2.344      1.812          4        640: 100%|██████████| 7/7 [00:27<00:00,  3.92s/it]\n",
      "                 Class     Images  Instances      Box(P          R      mAP50  mAP50-95):   0%|          | 0/1 [00:00<?, ?it/s]"
     ]
    },
    {
     "name": "stdout",
     "output_type": "stream",
     "text": [
      "WARNING ⚠️ NMS time limit 3.600s exceeded\n"
     ]
    },
    {
     "name": "stderr",
     "output_type": "stream",
     "text": [
      "                 Class     Images  Instances      Box(P          R      mAP50  mAP50-95): 100%|██████████| 1/1 [00:11<00:00, 11.53s/it]"
     ]
    },
    {
     "name": "stdout",
     "output_type": "stream",
     "text": [
      "                   all         32         85      0.326      0.188      0.133     0.0836\n"
     ]
    },
    {
     "name": "stderr",
     "output_type": "stream",
     "text": [
      "\n"
     ]
    },
    {
     "name": "stdout",
     "output_type": "stream",
     "text": [
      "\n",
      "      Epoch    GPU_mem   box_loss   cls_loss   dfl_loss  Instances       Size\n"
     ]
    },
    {
     "name": "stderr",
     "output_type": "stream",
     "text": [
      "      17/50      4.71G      1.929      2.367      1.761          8        640: 100%|██████████| 7/7 [00:29<00:00,  4.22s/it]\n",
      "                 Class     Images  Instances      Box(P          R      mAP50  mAP50-95):   0%|          | 0/1 [00:00<?, ?it/s]"
     ]
    },
    {
     "name": "stdout",
     "output_type": "stream",
     "text": [
      "WARNING ⚠️ NMS time limit 3.600s exceeded\n"
     ]
    },
    {
     "name": "stderr",
     "output_type": "stream",
     "text": [
      "                 Class     Images  Instances      Box(P          R      mAP50  mAP50-95): 100%|██████████| 1/1 [00:11<00:00, 11.30s/it]"
     ]
    },
    {
     "name": "stdout",
     "output_type": "stream",
     "text": [
      "                   all         32         85      0.445      0.188       0.15     0.0965\n"
     ]
    },
    {
     "name": "stderr",
     "output_type": "stream",
     "text": [
      "\n"
     ]
    },
    {
     "name": "stdout",
     "output_type": "stream",
     "text": [
      "\n",
      "      Epoch    GPU_mem   box_loss   cls_loss   dfl_loss  Instances       Size\n"
     ]
    },
    {
     "name": "stderr",
     "output_type": "stream",
     "text": [
      "      18/50      4.89G      2.013      2.343      1.842          2        640: 100%|██████████| 7/7 [00:28<00:00,  4.05s/it]\n",
      "                 Class     Images  Instances      Box(P          R      mAP50  mAP50-95):   0%|          | 0/1 [00:00<?, ?it/s]"
     ]
    },
    {
     "name": "stdout",
     "output_type": "stream",
     "text": [
      "WARNING ⚠️ NMS time limit 3.600s exceeded\n"
     ]
    },
    {
     "name": "stderr",
     "output_type": "stream",
     "text": [
      "                 Class     Images  Instances      Box(P          R      mAP50  mAP50-95): 100%|██████████| 1/1 [00:10<00:00, 10.89s/it]"
     ]
    },
    {
     "name": "stdout",
     "output_type": "stream",
     "text": [
      "                   all         32         85      0.718      0.153      0.162      0.103\n"
     ]
    },
    {
     "name": "stderr",
     "output_type": "stream",
     "text": [
      "\n"
     ]
    },
    {
     "name": "stdout",
     "output_type": "stream",
     "text": [
      "\n",
      "      Epoch    GPU_mem   box_loss   cls_loss   dfl_loss  Instances       Size\n"
     ]
    },
    {
     "name": "stderr",
     "output_type": "stream",
     "text": [
      "      19/50      5.82G      2.159      2.546      1.842         12        640: 100%|██████████| 7/7 [00:30<00:00,  4.37s/it]\n",
      "                 Class     Images  Instances      Box(P          R      mAP50  mAP50-95):   0%|          | 0/1 [00:00<?, ?it/s]"
     ]
    },
    {
     "name": "stdout",
     "output_type": "stream",
     "text": [
      "WARNING ⚠️ NMS time limit 3.600s exceeded\n"
     ]
    },
    {
     "name": "stderr",
     "output_type": "stream",
     "text": [
      "                 Class     Images  Instances      Box(P          R      mAP50  mAP50-95): 100%|██████████| 1/1 [00:10<00:00, 10.48s/it]"
     ]
    },
    {
     "name": "stdout",
     "output_type": "stream",
     "text": [
      "                   all         32         85      0.563      0.165       0.17      0.127\n"
     ]
    },
    {
     "name": "stderr",
     "output_type": "stream",
     "text": [
      "\n"
     ]
    },
    {
     "name": "stdout",
     "output_type": "stream",
     "text": [
      "\n",
      "      Epoch    GPU_mem   box_loss   cls_loss   dfl_loss  Instances       Size\n"
     ]
    },
    {
     "name": "stderr",
     "output_type": "stream",
     "text": [
      "      20/50      4.89G      2.152      2.495       1.94          8        640: 100%|██████████| 7/7 [00:26<00:00,  3.83s/it]\n",
      "                 Class     Images  Instances      Box(P          R      mAP50  mAP50-95):   0%|          | 0/1 [00:00<?, ?it/s]"
     ]
    },
    {
     "name": "stdout",
     "output_type": "stream",
     "text": [
      "WARNING ⚠️ NMS time limit 3.600s exceeded\n"
     ]
    },
    {
     "name": "stderr",
     "output_type": "stream",
     "text": [
      "                 Class     Images  Instances      Box(P          R      mAP50  mAP50-95): 100%|██████████| 1/1 [00:13<00:00, 13.15s/it]"
     ]
    },
    {
     "name": "stdout",
     "output_type": "stream",
     "text": [
      "                   all         32         85      0.796      0.247      0.247      0.173\n"
     ]
    },
    {
     "name": "stderr",
     "output_type": "stream",
     "text": [
      "\n"
     ]
    },
    {
     "name": "stdout",
     "output_type": "stream",
     "text": [
      "\n",
      "      Epoch    GPU_mem   box_loss   cls_loss   dfl_loss  Instances       Size\n"
     ]
    },
    {
     "name": "stderr",
     "output_type": "stream",
     "text": [
      "      21/50      4.86G      1.973      2.514       1.83          2        640: 100%|██████████| 7/7 [00:30<00:00,  4.40s/it]\n",
      "                 Class     Images  Instances      Box(P          R      mAP50  mAP50-95):   0%|          | 0/1 [00:00<?, ?it/s]"
     ]
    },
    {
     "name": "stdout",
     "output_type": "stream",
     "text": [
      "WARNING ⚠️ NMS time limit 3.600s exceeded\n"
     ]
    },
    {
     "name": "stderr",
     "output_type": "stream",
     "text": [
      "                 Class     Images  Instances      Box(P          R      mAP50  mAP50-95): 100%|██████████| 1/1 [00:11<00:00, 11.50s/it]"
     ]
    },
    {
     "name": "stdout",
     "output_type": "stream",
     "text": [
      "                   all         32         85      0.909      0.247      0.249      0.182\n"
     ]
    },
    {
     "name": "stderr",
     "output_type": "stream",
     "text": [
      "\n"
     ]
    },
    {
     "name": "stdout",
     "output_type": "stream",
     "text": [
      "\n",
      "      Epoch    GPU_mem   box_loss   cls_loss   dfl_loss  Instances       Size\n"
     ]
    },
    {
     "name": "stderr",
     "output_type": "stream",
     "text": [
      "      22/50      4.97G       2.65      3.528      1.951         16        640: 100%|██████████| 7/7 [00:30<00:00,  4.39s/it]\n",
      "                 Class     Images  Instances      Box(P          R      mAP50  mAP50-95):   0%|          | 0/1 [00:00<?, ?it/s]"
     ]
    },
    {
     "name": "stdout",
     "output_type": "stream",
     "text": [
      "WARNING ⚠️ NMS time limit 3.600s exceeded\n"
     ]
    },
    {
     "name": "stderr",
     "output_type": "stream",
     "text": [
      "                 Class     Images  Instances      Box(P          R      mAP50  mAP50-95): 100%|██████████| 1/1 [00:13<00:00, 13.03s/it]"
     ]
    },
    {
     "name": "stdout",
     "output_type": "stream",
     "text": [
      "                   all         32         85      0.817      0.329      0.327      0.241\n"
     ]
    },
    {
     "name": "stderr",
     "output_type": "stream",
     "text": [
      "\n"
     ]
    },
    {
     "name": "stdout",
     "output_type": "stream",
     "text": [
      "\n",
      "      Epoch    GPU_mem   box_loss   cls_loss   dfl_loss  Instances       Size\n"
     ]
    },
    {
     "name": "stderr",
     "output_type": "stream",
     "text": [
      "      23/50      4.81G      2.099      2.363       1.88          9        640: 100%|██████████| 7/7 [00:28<00:00,  4.01s/it]\n",
      "                 Class     Images  Instances      Box(P          R      mAP50  mAP50-95):   0%|          | 0/1 [00:00<?, ?it/s]"
     ]
    },
    {
     "name": "stdout",
     "output_type": "stream",
     "text": [
      "WARNING ⚠️ NMS time limit 3.600s exceeded\n"
     ]
    },
    {
     "name": "stderr",
     "output_type": "stream",
     "text": [
      "                 Class     Images  Instances      Box(P          R      mAP50  mAP50-95): 100%|██████████| 1/1 [00:11<00:00, 11.58s/it]"
     ]
    },
    {
     "name": "stdout",
     "output_type": "stream",
     "text": [
      "                   all         32         85      0.848      0.282      0.286      0.204\n"
     ]
    },
    {
     "name": "stderr",
     "output_type": "stream",
     "text": [
      "\n"
     ]
    },
    {
     "name": "stdout",
     "output_type": "stream",
     "text": [
      "\n",
      "      Epoch    GPU_mem   box_loss   cls_loss   dfl_loss  Instances       Size\n"
     ]
    },
    {
     "name": "stderr",
     "output_type": "stream",
     "text": [
      "      24/50      5.01G      1.846       2.25      1.686          6        640: 100%|██████████| 7/7 [00:26<00:00,  3.74s/it]\n",
      "                 Class     Images  Instances      Box(P          R      mAP50  mAP50-95):   0%|          | 0/1 [00:00<?, ?it/s]"
     ]
    },
    {
     "name": "stdout",
     "output_type": "stream",
     "text": [
      "WARNING ⚠️ NMS time limit 3.600s exceeded\n"
     ]
    },
    {
     "name": "stderr",
     "output_type": "stream",
     "text": [
      "                 Class     Images  Instances      Box(P          R      mAP50  mAP50-95): 100%|██████████| 1/1 [00:13<00:00, 13.15s/it]"
     ]
    },
    {
     "name": "stdout",
     "output_type": "stream",
     "text": [
      "                   all         32         85      0.884      0.212      0.224      0.161\n"
     ]
    },
    {
     "name": "stderr",
     "output_type": "stream",
     "text": [
      "\n"
     ]
    },
    {
     "name": "stdout",
     "output_type": "stream",
     "text": [
      "\n",
      "      Epoch    GPU_mem   box_loss   cls_loss   dfl_loss  Instances       Size\n"
     ]
    },
    {
     "name": "stderr",
     "output_type": "stream",
     "text": [
      "      25/50       4.8G      2.158      2.492      1.941          5        640: 100%|██████████| 7/7 [00:31<00:00,  4.51s/it]\n",
      "                 Class     Images  Instances      Box(P          R      mAP50  mAP50-95):   0%|          | 0/1 [00:00<?, ?it/s]"
     ]
    },
    {
     "name": "stdout",
     "output_type": "stream",
     "text": [
      "WARNING ⚠️ NMS time limit 3.600s exceeded\n"
     ]
    },
    {
     "name": "stderr",
     "output_type": "stream",
     "text": [
      "                 Class     Images  Instances      Box(P          R      mAP50  mAP50-95): 100%|██████████| 1/1 [00:10<00:00, 10.84s/it]"
     ]
    },
    {
     "name": "stdout",
     "output_type": "stream",
     "text": [
      "                   all         32         85      0.929      0.235      0.251      0.176\n"
     ]
    },
    {
     "name": "stderr",
     "output_type": "stream",
     "text": [
      "\n"
     ]
    },
    {
     "name": "stdout",
     "output_type": "stream",
     "text": [
      "\n",
      "      Epoch    GPU_mem   box_loss   cls_loss   dfl_loss  Instances       Size\n"
     ]
    },
    {
     "name": "stderr",
     "output_type": "stream",
     "text": [
      "      26/50      6.05G      1.897      2.301      1.802          2        640: 100%|██████████| 7/7 [00:34<00:00,  4.87s/it]\n",
      "                 Class     Images  Instances      Box(P          R      mAP50  mAP50-95):   0%|          | 0/1 [00:00<?, ?it/s]"
     ]
    },
    {
     "name": "stdout",
     "output_type": "stream",
     "text": [
      "WARNING ⚠️ NMS time limit 3.600s exceeded\n"
     ]
    },
    {
     "name": "stderr",
     "output_type": "stream",
     "text": [
      "                 Class     Images  Instances      Box(P          R      mAP50  mAP50-95): 100%|██████████| 1/1 [00:13<00:00, 13.92s/it]"
     ]
    },
    {
     "name": "stdout",
     "output_type": "stream",
     "text": [
      "                   all         32         85      0.826      0.224      0.237      0.166\n"
     ]
    },
    {
     "name": "stderr",
     "output_type": "stream",
     "text": [
      "\n"
     ]
    },
    {
     "name": "stdout",
     "output_type": "stream",
     "text": [
      "\n",
      "      Epoch    GPU_mem   box_loss   cls_loss   dfl_loss  Instances       Size\n"
     ]
    },
    {
     "name": "stderr",
     "output_type": "stream",
     "text": [
      "      27/50      4.92G      2.137      2.806      1.844          1        640: 100%|██████████| 7/7 [00:27<00:00,  3.89s/it]\n",
      "                 Class     Images  Instances      Box(P          R      mAP50  mAP50-95):   0%|          | 0/1 [00:00<?, ?it/s]"
     ]
    },
    {
     "name": "stdout",
     "output_type": "stream",
     "text": [
      "WARNING ⚠️ NMS time limit 3.600s exceeded\n"
     ]
    },
    {
     "name": "stderr",
     "output_type": "stream",
     "text": [
      "                 Class     Images  Instances      Box(P          R      mAP50  mAP50-95): 100%|██████████| 1/1 [00:11<00:00, 11.49s/it]"
     ]
    },
    {
     "name": "stdout",
     "output_type": "stream",
     "text": [
      "                   all         32         85      0.818      0.294      0.295      0.219\n"
     ]
    },
    {
     "name": "stderr",
     "output_type": "stream",
     "text": [
      "\n"
     ]
    },
    {
     "name": "stdout",
     "output_type": "stream",
     "text": [
      "\n",
      "      Epoch    GPU_mem   box_loss   cls_loss   dfl_loss  Instances       Size\n"
     ]
    },
    {
     "name": "stderr",
     "output_type": "stream",
     "text": [
      "      28/50      4.96G       1.75      2.077      1.691          8        640: 100%|██████████| 7/7 [00:16<00:00,  2.34s/it]\n",
      "                 Class     Images  Instances      Box(P          R      mAP50  mAP50-95):   0%|          | 0/1 [00:00<?, ?it/s]"
     ]
    },
    {
     "name": "stdout",
     "output_type": "stream",
     "text": [
      "WARNING ⚠️ NMS time limit 3.600s exceeded\n"
     ]
    },
    {
     "name": "stderr",
     "output_type": "stream",
     "text": [
      "                 Class     Images  Instances      Box(P          R      mAP50  mAP50-95): 100%|██████████| 1/1 [00:07<00:00,  7.54s/it]"
     ]
    },
    {
     "name": "stdout",
     "output_type": "stream",
     "text": [
      "                   all         32         85      0.781      0.294      0.293       0.21\n"
     ]
    },
    {
     "name": "stderr",
     "output_type": "stream",
     "text": [
      "\n"
     ]
    },
    {
     "name": "stdout",
     "output_type": "stream",
     "text": [
      "\n",
      "      Epoch    GPU_mem   box_loss   cls_loss   dfl_loss  Instances       Size\n"
     ]
    },
    {
     "name": "stderr",
     "output_type": "stream",
     "text": [
      "      29/50      6.03G      1.958       2.22      1.766          9        640: 100%|██████████| 7/7 [00:18<00:00,  2.66s/it]\n",
      "                 Class     Images  Instances      Box(P          R      mAP50  mAP50-95):   0%|          | 0/1 [00:00<?, ?it/s]"
     ]
    },
    {
     "name": "stdout",
     "output_type": "stream",
     "text": [
      "WARNING ⚠️ NMS time limit 3.600s exceeded\n"
     ]
    },
    {
     "name": "stderr",
     "output_type": "stream",
     "text": [
      "                 Class     Images  Instances      Box(P          R      mAP50  mAP50-95): 100%|██████████| 1/1 [00:09<00:00,  9.06s/it]"
     ]
    },
    {
     "name": "stdout",
     "output_type": "stream",
     "text": [
      "                   all         32         85       0.88      0.259      0.256      0.191\n"
     ]
    },
    {
     "name": "stderr",
     "output_type": "stream",
     "text": [
      "\n"
     ]
    },
    {
     "name": "stdout",
     "output_type": "stream",
     "text": [
      "\n",
      "      Epoch    GPU_mem   box_loss   cls_loss   dfl_loss  Instances       Size\n"
     ]
    },
    {
     "name": "stderr",
     "output_type": "stream",
     "text": [
      "      30/50      4.91G      1.695      1.934      1.602          8        640: 100%|██████████| 7/7 [00:24<00:00,  3.44s/it]\n",
      "                 Class     Images  Instances      Box(P          R      mAP50  mAP50-95):   0%|          | 0/1 [00:00<?, ?it/s]"
     ]
    },
    {
     "name": "stdout",
     "output_type": "stream",
     "text": [
      "WARNING ⚠️ NMS time limit 3.600s exceeded\n"
     ]
    },
    {
     "name": "stderr",
     "output_type": "stream",
     "text": [
      "                 Class     Images  Instances      Box(P          R      mAP50  mAP50-95): 100%|██████████| 1/1 [00:09<00:00,  9.75s/it]"
     ]
    },
    {
     "name": "stdout",
     "output_type": "stream",
     "text": [
      "                   all         32         85      0.884      0.212      0.223      0.174\n"
     ]
    },
    {
     "name": "stderr",
     "output_type": "stream",
     "text": [
      "\n"
     ]
    },
    {
     "name": "stdout",
     "output_type": "stream",
     "text": [
      "\n",
      "      Epoch    GPU_mem   box_loss   cls_loss   dfl_loss  Instances       Size\n"
     ]
    },
    {
     "name": "stderr",
     "output_type": "stream",
     "text": [
      "      31/50      4.86G      1.758      2.063      1.662          9        640: 100%|██████████| 7/7 [00:35<00:00,  5.01s/it]\n",
      "                 Class     Images  Instances      Box(P          R      mAP50  mAP50-95):   0%|          | 0/1 [00:00<?, ?it/s]"
     ]
    },
    {
     "name": "stdout",
     "output_type": "stream",
     "text": [
      "WARNING ⚠️ NMS time limit 3.600s exceeded\n"
     ]
    },
    {
     "name": "stderr",
     "output_type": "stream",
     "text": [
      "                 Class     Images  Instances      Box(P          R      mAP50  mAP50-95): 100%|██████████| 1/1 [00:10<00:00, 10.80s/it]"
     ]
    },
    {
     "name": "stdout",
     "output_type": "stream",
     "text": [
      "                   all         32         85      0.778      0.306      0.304      0.229\n"
     ]
    },
    {
     "name": "stderr",
     "output_type": "stream",
     "text": [
      "\n"
     ]
    },
    {
     "name": "stdout",
     "output_type": "stream",
     "text": [
      "\n",
      "      Epoch    GPU_mem   box_loss   cls_loss   dfl_loss  Instances       Size\n"
     ]
    },
    {
     "name": "stderr",
     "output_type": "stream",
     "text": [
      "      32/50      4.86G      1.684      1.987      1.597          5        640: 100%|██████████| 7/7 [00:38<00:00,  5.46s/it]\n",
      "                 Class     Images  Instances      Box(P          R      mAP50  mAP50-95):   0%|          | 0/1 [00:00<?, ?it/s]"
     ]
    },
    {
     "name": "stdout",
     "output_type": "stream",
     "text": [
      "WARNING ⚠️ NMS time limit 3.600s exceeded\n"
     ]
    },
    {
     "name": "stderr",
     "output_type": "stream",
     "text": [
      "                 Class     Images  Instances      Box(P          R      mAP50  mAP50-95): 100%|██████████| 1/1 [00:11<00:00, 11.64s/it]"
     ]
    },
    {
     "name": "stdout",
     "output_type": "stream",
     "text": [
      "                   all         32         85      0.776      0.224      0.223      0.172\n"
     ]
    },
    {
     "name": "stderr",
     "output_type": "stream",
     "text": [
      "\n"
     ]
    },
    {
     "name": "stdout",
     "output_type": "stream",
     "text": [
      "\n",
      "      Epoch    GPU_mem   box_loss   cls_loss   dfl_loss  Instances       Size\n"
     ]
    },
    {
     "name": "stderr",
     "output_type": "stream",
     "text": [
      "      33/50      4.89G      2.035      2.199      1.809         12        640: 100%|██████████| 7/7 [00:31<00:00,  4.54s/it]\n",
      "                 Class     Images  Instances      Box(P          R      mAP50  mAP50-95):   0%|          | 0/1 [00:00<?, ?it/s]"
     ]
    },
    {
     "name": "stdout",
     "output_type": "stream",
     "text": [
      "WARNING ⚠️ NMS time limit 3.600s exceeded\n"
     ]
    },
    {
     "name": "stderr",
     "output_type": "stream",
     "text": [
      "                 Class     Images  Instances      Box(P          R      mAP50  mAP50-95): 100%|██████████| 1/1 [00:11<00:00, 11.53s/it]"
     ]
    },
    {
     "name": "stdout",
     "output_type": "stream",
     "text": [
      "                   all         32         85      0.851      0.212      0.222      0.167\n"
     ]
    },
    {
     "name": "stderr",
     "output_type": "stream",
     "text": [
      "\n"
     ]
    },
    {
     "name": "stdout",
     "output_type": "stream",
     "text": [
      "\n",
      "      Epoch    GPU_mem   box_loss   cls_loss   dfl_loss  Instances       Size\n"
     ]
    },
    {
     "name": "stderr",
     "output_type": "stream",
     "text": [
      "      34/50      4.99G      1.884      2.242      1.696          5        640: 100%|██████████| 7/7 [00:31<00:00,  4.50s/it]\n",
      "                 Class     Images  Instances      Box(P          R      mAP50  mAP50-95):   0%|          | 0/1 [00:00<?, ?it/s]"
     ]
    },
    {
     "name": "stdout",
     "output_type": "stream",
     "text": [
      "WARNING ⚠️ NMS time limit 3.600s exceeded\n"
     ]
    },
    {
     "name": "stderr",
     "output_type": "stream",
     "text": [
      "                 Class     Images  Instances      Box(P          R      mAP50  mAP50-95): 100%|██████████| 1/1 [00:12<00:00, 12.19s/it]\n"
     ]
    },
    {
     "name": "stdout",
     "output_type": "stream",
     "text": [
      "                   all         32         85       0.93      0.176      0.187      0.139\n",
      "\n",
      "      Epoch    GPU_mem   box_loss   cls_loss   dfl_loss  Instances       Size\n"
     ]
    },
    {
     "name": "stderr",
     "output_type": "stream",
     "text": [
      "      35/50      4.87G      1.886      2.069      1.705         17        640: 100%|██████████| 7/7 [00:44<00:00,  6.33s/it]\n",
      "                 Class     Images  Instances      Box(P          R      mAP50  mAP50-95):   0%|          | 0/1 [00:00<?, ?it/s]"
     ]
    },
    {
     "name": "stdout",
     "output_type": "stream",
     "text": [
      "WARNING ⚠️ NMS time limit 3.600s exceeded\n"
     ]
    },
    {
     "name": "stderr",
     "output_type": "stream",
     "text": [
      "                 Class     Images  Instances      Box(P          R      mAP50  mAP50-95): 100%|██████████| 1/1 [00:11<00:00, 11.97s/it]"
     ]
    },
    {
     "name": "stdout",
     "output_type": "stream",
     "text": [
      "                   all         32         85      0.849      0.212      0.224      0.172\n"
     ]
    },
    {
     "name": "stderr",
     "output_type": "stream",
     "text": [
      "\n"
     ]
    },
    {
     "name": "stdout",
     "output_type": "stream",
     "text": [
      "\n",
      "      Epoch    GPU_mem   box_loss   cls_loss   dfl_loss  Instances       Size\n"
     ]
    },
    {
     "name": "stderr",
     "output_type": "stream",
     "text": [
      "      36/50      4.92G      1.947      2.129      1.601         12        640: 100%|██████████| 7/7 [00:28<00:00,  4.14s/it]\n",
      "                 Class     Images  Instances      Box(P          R      mAP50  mAP50-95):   0%|          | 0/1 [00:00<?, ?it/s]"
     ]
    },
    {
     "name": "stdout",
     "output_type": "stream",
     "text": [
      "WARNING ⚠️ NMS time limit 3.600s exceeded\n"
     ]
    },
    {
     "name": "stderr",
     "output_type": "stream",
     "text": [
      "                 Class     Images  Instances      Box(P          R      mAP50  mAP50-95): 100%|██████████| 1/1 [00:11<00:00, 11.20s/it]"
     ]
    },
    {
     "name": "stdout",
     "output_type": "stream",
     "text": [
      "                   all         32         85       0.87      0.176      0.186      0.148\n"
     ]
    },
    {
     "name": "stderr",
     "output_type": "stream",
     "text": [
      "\n"
     ]
    },
    {
     "name": "stdout",
     "output_type": "stream",
     "text": [
      "\n",
      "      Epoch    GPU_mem   box_loss   cls_loss   dfl_loss  Instances       Size\n"
     ]
    },
    {
     "name": "stderr",
     "output_type": "stream",
     "text": [
      "      37/50      4.92G      2.049      2.308      1.799          6        640: 100%|██████████| 7/7 [00:33<00:00,  4.83s/it]\n",
      "                 Class     Images  Instances      Box(P          R      mAP50  mAP50-95):   0%|          | 0/1 [00:00<?, ?it/s]"
     ]
    },
    {
     "name": "stdout",
     "output_type": "stream",
     "text": [
      "WARNING ⚠️ NMS time limit 3.600s exceeded\n"
     ]
    },
    {
     "name": "stderr",
     "output_type": "stream",
     "text": [
      "                 Class     Images  Instances      Box(P          R      mAP50  mAP50-95): 100%|██████████| 1/1 [00:12<00:00, 12.08s/it]"
     ]
    },
    {
     "name": "stdout",
     "output_type": "stream",
     "text": [
      "                   all         32         85       0.81      0.118      0.118     0.0907\n"
     ]
    },
    {
     "name": "stderr",
     "output_type": "stream",
     "text": [
      "\n"
     ]
    },
    {
     "name": "stdout",
     "output_type": "stream",
     "text": [
      "\n",
      "      Epoch    GPU_mem   box_loss   cls_loss   dfl_loss  Instances       Size\n"
     ]
    },
    {
     "name": "stderr",
     "output_type": "stream",
     "text": [
      "      38/50      4.92G      1.715      2.022      1.625          8        640: 100%|██████████| 7/7 [00:36<00:00,  5.15s/it]\n",
      "                 Class     Images  Instances      Box(P          R      mAP50  mAP50-95):   0%|          | 0/1 [00:00<?, ?it/s]"
     ]
    },
    {
     "name": "stdout",
     "output_type": "stream",
     "text": [
      "WARNING ⚠️ NMS time limit 3.600s exceeded\n"
     ]
    },
    {
     "name": "stderr",
     "output_type": "stream",
     "text": [
      "                 Class     Images  Instances      Box(P          R      mAP50  mAP50-95): 100%|██████████| 1/1 [00:12<00:00, 12.98s/it]"
     ]
    },
    {
     "name": "stdout",
     "output_type": "stream",
     "text": [
      "                   all         32         85      0.778      0.118      0.117     0.0869\n"
     ]
    },
    {
     "name": "stderr",
     "output_type": "stream",
     "text": [
      "\n"
     ]
    },
    {
     "name": "stdout",
     "output_type": "stream",
     "text": [
      "\n",
      "      Epoch    GPU_mem   box_loss   cls_loss   dfl_loss  Instances       Size\n"
     ]
    },
    {
     "name": "stderr",
     "output_type": "stream",
     "text": [
      "      39/50      5.03G      1.759      2.024      1.605          4        640: 100%|██████████| 7/7 [00:34<00:00,  4.98s/it]\n",
      "                 Class     Images  Instances      Box(P          R      mAP50  mAP50-95):   0%|          | 0/1 [00:00<?, ?it/s]"
     ]
    },
    {
     "name": "stdout",
     "output_type": "stream",
     "text": [
      "WARNING ⚠️ NMS time limit 3.600s exceeded\n"
     ]
    },
    {
     "name": "stderr",
     "output_type": "stream",
     "text": [
      "                 Class     Images  Instances      Box(P          R      mAP50  mAP50-95): 100%|██████████| 1/1 [00:12<00:00, 12.06s/it]"
     ]
    },
    {
     "name": "stdout",
     "output_type": "stream",
     "text": [
      "                   all         32         85      0.845      0.212      0.218       0.16\n"
     ]
    },
    {
     "name": "stderr",
     "output_type": "stream",
     "text": [
      "\n"
     ]
    },
    {
     "name": "stdout",
     "output_type": "stream",
     "text": [
      "\n",
      "      Epoch    GPU_mem   box_loss   cls_loss   dfl_loss  Instances       Size\n"
     ]
    },
    {
     "name": "stderr",
     "output_type": "stream",
     "text": [
      "      40/50      4.94G      1.798      2.598      1.546          1        640: 100%|██████████| 7/7 [00:31<00:00,  4.49s/it]\n",
      "                 Class     Images  Instances      Box(P          R      mAP50  mAP50-95):   0%|          | 0/1 [00:00<?, ?it/s]"
     ]
    },
    {
     "name": "stdout",
     "output_type": "stream",
     "text": [
      "WARNING ⚠️ NMS time limit 3.600s exceeded\n"
     ]
    },
    {
     "name": "stderr",
     "output_type": "stream",
     "text": [
      "                 Class     Images  Instances      Box(P          R      mAP50  mAP50-95): 100%|██████████| 1/1 [00:11<00:00, 11.08s/it]"
     ]
    },
    {
     "name": "stdout",
     "output_type": "stream",
     "text": [
      "                   all         32         85      0.881      0.212      0.218      0.164\n"
     ]
    },
    {
     "name": "stderr",
     "output_type": "stream",
     "text": [
      "\n"
     ]
    },
    {
     "name": "stdout",
     "output_type": "stream",
     "text": [
      "Closing dataloader mosaic\n",
      "\n",
      "      Epoch    GPU_mem   box_loss   cls_loss   dfl_loss  Instances       Size\n"
     ]
    },
    {
     "name": "stderr",
     "output_type": "stream",
     "text": [
      "      41/50      4.96G      2.439      3.303      1.759         26        640: 100%|██████████| 7/7 [00:42<00:00,  6.14s/it]\n",
      "                 Class     Images  Instances      Box(P          R      mAP50  mAP50-95):   0%|          | 0/1 [00:00<?, ?it/s]"
     ]
    },
    {
     "name": "stdout",
     "output_type": "stream",
     "text": [
      "WARNING ⚠️ NMS time limit 3.600s exceeded\n"
     ]
    },
    {
     "name": "stderr",
     "output_type": "stream",
     "text": [
      "                 Class     Images  Instances      Box(P          R      mAP50  mAP50-95): 100%|██████████| 1/1 [00:13<00:00, 13.13s/it]"
     ]
    },
    {
     "name": "stdout",
     "output_type": "stream",
     "text": [
      "                   all         32         85      0.901      0.176       0.18       0.13\n"
     ]
    },
    {
     "name": "stderr",
     "output_type": "stream",
     "text": [
      "\n"
     ]
    },
    {
     "name": "stdout",
     "output_type": "stream",
     "text": [
      "\n",
      "      Epoch    GPU_mem   box_loss   cls_loss   dfl_loss  Instances       Size\n"
     ]
    },
    {
     "name": "stderr",
     "output_type": "stream",
     "text": [
      "      42/50      4.99G      1.936      2.826      1.717          1        640: 100%|██████████| 7/7 [00:37<00:00,  5.31s/it]\n",
      "                 Class     Images  Instances      Box(P          R      mAP50  mAP50-95):   0%|          | 0/1 [00:00<?, ?it/s]"
     ]
    },
    {
     "name": "stdout",
     "output_type": "stream",
     "text": [
      "WARNING ⚠️ NMS time limit 3.600s exceeded\n"
     ]
    },
    {
     "name": "stderr",
     "output_type": "stream",
     "text": [
      "                 Class     Images  Instances      Box(P          R      mAP50  mAP50-95): 100%|██████████| 1/1 [00:11<00:00, 11.45s/it]"
     ]
    },
    {
     "name": "stdout",
     "output_type": "stream",
     "text": [
      "                   all         32         85      0.807      0.176      0.181      0.133\n"
     ]
    },
    {
     "name": "stderr",
     "output_type": "stream",
     "text": [
      "\n"
     ]
    },
    {
     "name": "stdout",
     "output_type": "stream",
     "text": [
      "\n",
      "      Epoch    GPU_mem   box_loss   cls_loss   dfl_loss  Instances       Size\n"
     ]
    },
    {
     "name": "stderr",
     "output_type": "stream",
     "text": [
      "      43/50      4.96G       1.69      2.218       1.64          5        640: 100%|██████████| 7/7 [00:35<00:00,  5.14s/it]\n",
      "                 Class     Images  Instances      Box(P          R      mAP50  mAP50-95):   0%|          | 0/1 [00:00<?, ?it/s]"
     ]
    },
    {
     "name": "stdout",
     "output_type": "stream",
     "text": [
      "WARNING ⚠️ NMS time limit 3.600s exceeded\n"
     ]
    },
    {
     "name": "stderr",
     "output_type": "stream",
     "text": [
      "                 Class     Images  Instances      Box(P          R      mAP50  mAP50-95): 100%|██████████| 1/1 [00:10<00:00, 10.42s/it]"
     ]
    },
    {
     "name": "stdout",
     "output_type": "stream",
     "text": [
      "                   all         32         85      0.769      0.188      0.207      0.158\n"
     ]
    },
    {
     "name": "stderr",
     "output_type": "stream",
     "text": [
      "\n"
     ]
    },
    {
     "name": "stdout",
     "output_type": "stream",
     "text": [
      "\n",
      "      Epoch    GPU_mem   box_loss   cls_loss   dfl_loss  Instances       Size\n"
     ]
    },
    {
     "name": "stderr",
     "output_type": "stream",
     "text": [
      "      44/50      4.99G      1.756      2.171      1.698          6        640: 100%|██████████| 7/7 [00:34<00:00,  4.97s/it]\n",
      "                 Class     Images  Instances      Box(P          R      mAP50  mAP50-95):   0%|          | 0/1 [00:00<?, ?it/s]"
     ]
    },
    {
     "name": "stdout",
     "output_type": "stream",
     "text": [
      "WARNING ⚠️ NMS time limit 3.600s exceeded\n"
     ]
    },
    {
     "name": "stderr",
     "output_type": "stream",
     "text": [
      "                 Class     Images  Instances      Box(P          R      mAP50  mAP50-95): 100%|██████████| 1/1 [00:13<00:00, 13.93s/it]"
     ]
    },
    {
     "name": "stdout",
     "output_type": "stream",
     "text": [
      "                   all         32         85      0.754      0.165      0.168      0.127\n"
     ]
    },
    {
     "name": "stderr",
     "output_type": "stream",
     "text": [
      "\n"
     ]
    },
    {
     "name": "stdout",
     "output_type": "stream",
     "text": [
      "\n",
      "      Epoch    GPU_mem   box_loss   cls_loss   dfl_loss  Instances       Size\n"
     ]
    },
    {
     "name": "stderr",
     "output_type": "stream",
     "text": [
      "      45/50      4.99G      1.549      2.065      1.513          1        640: 100%|██████████| 7/7 [00:44<00:00,  6.37s/it]\n",
      "                 Class     Images  Instances      Box(P          R      mAP50  mAP50-95):   0%|          | 0/1 [00:00<?, ?it/s]"
     ]
    },
    {
     "name": "stdout",
     "output_type": "stream",
     "text": [
      "WARNING ⚠️ NMS time limit 3.600s exceeded\n"
     ]
    },
    {
     "name": "stderr",
     "output_type": "stream",
     "text": [
      "                 Class     Images  Instances      Box(P          R      mAP50  mAP50-95): 100%|██████████| 1/1 [00:10<00:00, 10.85s/it]"
     ]
    },
    {
     "name": "stdout",
     "output_type": "stream",
     "text": [
      "                   all         32         85      0.789      0.212      0.214      0.161\n"
     ]
    },
    {
     "name": "stderr",
     "output_type": "stream",
     "text": [
      "\n"
     ]
    },
    {
     "name": "stdout",
     "output_type": "stream",
     "text": [
      "\n",
      "      Epoch    GPU_mem   box_loss   cls_loss   dfl_loss  Instances       Size\n"
     ]
    },
    {
     "name": "stderr",
     "output_type": "stream",
     "text": [
      "      46/50      5.03G      1.607      1.975      1.538          2        640: 100%|██████████| 7/7 [00:26<00:00,  3.81s/it]\n",
      "                 Class     Images  Instances      Box(P          R      mAP50  mAP50-95):   0%|          | 0/1 [00:00<?, ?it/s]"
     ]
    },
    {
     "name": "stdout",
     "output_type": "stream",
     "text": [
      "WARNING ⚠️ NMS time limit 3.600s exceeded\n"
     ]
    },
    {
     "name": "stderr",
     "output_type": "stream",
     "text": [
      "                 Class     Images  Instances      Box(P          R      mAP50  mAP50-95): 100%|██████████| 1/1 [00:10<00:00, 10.69s/it]"
     ]
    },
    {
     "name": "stdout",
     "output_type": "stream",
     "text": [
      "                   all         32         85      0.776      0.176      0.179       0.13\n"
     ]
    },
    {
     "name": "stderr",
     "output_type": "stream",
     "text": [
      "\n"
     ]
    },
    {
     "name": "stdout",
     "output_type": "stream",
     "text": [
      "\n",
      "      Epoch    GPU_mem   box_loss   cls_loss   dfl_loss  Instances       Size\n"
     ]
    },
    {
     "name": "stderr",
     "output_type": "stream",
     "text": [
      "      47/50      5.14G      1.685      2.124      1.652          3        640: 100%|██████████| 7/7 [00:25<00:00,  3.67s/it]\n",
      "                 Class     Images  Instances      Box(P          R      mAP50  mAP50-95):   0%|          | 0/1 [00:00<?, ?it/s]"
     ]
    },
    {
     "name": "stdout",
     "output_type": "stream",
     "text": [
      "WARNING ⚠️ NMS time limit 3.600s exceeded\n"
     ]
    },
    {
     "name": "stderr",
     "output_type": "stream",
     "text": [
      "                 Class     Images  Instances      Box(P          R      mAP50  mAP50-95): 100%|██████████| 1/1 [00:11<00:00, 11.11s/it]"
     ]
    },
    {
     "name": "stdout",
     "output_type": "stream",
     "text": [
      "                   all         32         85      0.809      0.199      0.216      0.158\n"
     ]
    },
    {
     "name": "stderr",
     "output_type": "stream",
     "text": [
      "\n"
     ]
    },
    {
     "name": "stdout",
     "output_type": "stream",
     "text": [
      "\n",
      "      Epoch    GPU_mem   box_loss   cls_loss   dfl_loss  Instances       Size\n"
     ]
    },
    {
     "name": "stderr",
     "output_type": "stream",
     "text": [
      "      48/50      5.03G      2.021      2.278       1.67         16        640: 100%|██████████| 7/7 [00:27<00:00,  3.98s/it]\n",
      "                 Class     Images  Instances      Box(P          R      mAP50  mAP50-95):   0%|          | 0/1 [00:00<?, ?it/s]"
     ]
    },
    {
     "name": "stdout",
     "output_type": "stream",
     "text": [
      "WARNING ⚠️ NMS time limit 3.600s exceeded\n"
     ]
    },
    {
     "name": "stderr",
     "output_type": "stream",
     "text": [
      "                 Class     Images  Instances      Box(P          R      mAP50  mAP50-95): 100%|██████████| 1/1 [00:10<00:00, 10.38s/it]"
     ]
    },
    {
     "name": "stdout",
     "output_type": "stream",
     "text": [
      "                   all         32         85      0.709        0.2      0.213      0.158\n"
     ]
    },
    {
     "name": "stderr",
     "output_type": "stream",
     "text": [
      "\n"
     ]
    },
    {
     "name": "stdout",
     "output_type": "stream",
     "text": [
      "\n",
      "      Epoch    GPU_mem   box_loss   cls_loss   dfl_loss  Instances       Size\n"
     ]
    },
    {
     "name": "stderr",
     "output_type": "stream",
     "text": [
      "      49/50       5.2G      1.448      1.916      1.516          1        640: 100%|██████████| 7/7 [00:24<00:00,  3.53s/it]\n",
      "                 Class     Images  Instances      Box(P          R      mAP50  mAP50-95):   0%|          | 0/1 [00:00<?, ?it/s]"
     ]
    },
    {
     "name": "stdout",
     "output_type": "stream",
     "text": [
      "WARNING ⚠️ NMS time limit 3.600s exceeded\n"
     ]
    },
    {
     "name": "stderr",
     "output_type": "stream",
     "text": [
      "                 Class     Images  Instances      Box(P          R      mAP50  mAP50-95): 100%|██████████| 1/1 [00:10<00:00, 10.24s/it]"
     ]
    },
    {
     "name": "stdout",
     "output_type": "stream",
     "text": [
      "                   all         32         85      0.868      0.176      0.181      0.136\n"
     ]
    },
    {
     "name": "stderr",
     "output_type": "stream",
     "text": [
      "\n"
     ]
    },
    {
     "name": "stdout",
     "output_type": "stream",
     "text": [
      "\n",
      "      Epoch    GPU_mem   box_loss   cls_loss   dfl_loss  Instances       Size\n"
     ]
    },
    {
     "name": "stderr",
     "output_type": "stream",
     "text": [
      "      50/50      5.08G      1.507        2.1      1.554          1        640: 100%|██████████| 7/7 [00:25<00:00,  3.57s/it]\n",
      "                 Class     Images  Instances      Box(P          R      mAP50  mAP50-95):   0%|          | 0/1 [00:00<?, ?it/s]"
     ]
    },
    {
     "name": "stdout",
     "output_type": "stream",
     "text": [
      "WARNING ⚠️ NMS time limit 3.600s exceeded\n"
     ]
    },
    {
     "name": "stderr",
     "output_type": "stream",
     "text": [
      "                 Class     Images  Instances      Box(P          R      mAP50  mAP50-95): 100%|██████████| 1/1 [00:09<00:00,  9.83s/it]"
     ]
    },
    {
     "name": "stdout",
     "output_type": "stream",
     "text": [
      "                   all         32         85      0.775        0.2      0.217      0.164\n"
     ]
    },
    {
     "name": "stderr",
     "output_type": "stream",
     "text": [
      "\n"
     ]
    },
    {
     "name": "stdout",
     "output_type": "stream",
     "text": [
      "\n",
      "50 epochs completed in 0.588 hours.\n",
      "Optimizer stripped from runs/detect/train2/weights/last.pt, 5.5MB\n",
      "Optimizer stripped from runs/detect/train2/weights/best.pt, 5.5MB\n",
      "\n",
      "Validating runs/detect/train2/weights/best.pt...\n",
      "Ultralytics 8.3.67 🚀 Python-3.12.6 torch-2.5.1 MPS (Apple M2)\n",
      "YOLO11n summary (fused): 238 layers, 2,582,347 parameters, 0 gradients, 6.3 GFLOPs\n"
     ]
    },
    {
     "name": "stderr",
     "output_type": "stream",
     "text": [
      "                 Class     Images  Instances      Box(P          R      mAP50  mAP50-95):   0%|          | 0/1 [00:00<?, ?it/s]"
     ]
    },
    {
     "name": "stdout",
     "output_type": "stream",
     "text": [
      "WARNING ⚠️ NMS time limit 3.600s exceeded\n"
     ]
    },
    {
     "name": "stderr",
     "output_type": "stream",
     "text": [
      "                 Class     Images  Instances      Box(P          R      mAP50  mAP50-95): 100%|██████████| 1/1 [00:14<00:00, 14.89s/it]\n"
     ]
    },
    {
     "name": "stdout",
     "output_type": "stream",
     "text": [
      "                   all         32         85      0.881      0.106      0.111     0.0771\n",
      "Speed: 1.5ms preprocess, 91.8ms inference, 0.0ms loss, 133.4ms postprocess per image\n",
      "Results saved to \u001b[1mruns/detect/train2\u001b[0m\n"
     ]
    },
    {
     "data": {
      "text/plain": [
       "ultralytics.utils.metrics.DetMetrics object with attributes:\n",
       "\n",
       "ap_class_index: array([0])\n",
       "box: ultralytics.utils.metrics.Metric object\n",
       "confusion_matrix: <ultralytics.utils.metrics.ConfusionMatrix object at 0x323a49a00>\n",
       "curves: ['Precision-Recall(B)', 'F1-Confidence(B)', 'Precision-Confidence(B)', 'Recall-Confidence(B)']\n",
       "curves_results: [[array([          0,    0.001001,    0.002002,    0.003003,    0.004004,    0.005005,    0.006006,    0.007007,    0.008008,    0.009009,     0.01001,    0.011011,    0.012012,    0.013013,    0.014014,    0.015015,    0.016016,    0.017017,    0.018018,    0.019019,     0.02002,    0.021021,    0.022022,    0.023023,\n",
       "          0.024024,    0.025025,    0.026026,    0.027027,    0.028028,    0.029029,     0.03003,    0.031031,    0.032032,    0.033033,    0.034034,    0.035035,    0.036036,    0.037037,    0.038038,    0.039039,     0.04004,    0.041041,    0.042042,    0.043043,    0.044044,    0.045045,    0.046046,    0.047047,\n",
       "          0.048048,    0.049049,     0.05005,    0.051051,    0.052052,    0.053053,    0.054054,    0.055055,    0.056056,    0.057057,    0.058058,    0.059059,     0.06006,    0.061061,    0.062062,    0.063063,    0.064064,    0.065065,    0.066066,    0.067067,    0.068068,    0.069069,     0.07007,    0.071071,\n",
       "          0.072072,    0.073073,    0.074074,    0.075075,    0.076076,    0.077077,    0.078078,    0.079079,     0.08008,    0.081081,    0.082082,    0.083083,    0.084084,    0.085085,    0.086086,    0.087087,    0.088088,    0.089089,     0.09009,    0.091091,    0.092092,    0.093093,    0.094094,    0.095095,\n",
       "          0.096096,    0.097097,    0.098098,    0.099099,      0.1001,      0.1011,      0.1021,      0.1031,      0.1041,     0.10511,     0.10611,     0.10711,     0.10811,     0.10911,     0.11011,     0.11111,     0.11211,     0.11311,     0.11411,     0.11512,     0.11612,     0.11712,     0.11812,     0.11912,\n",
       "           0.12012,     0.12112,     0.12212,     0.12312,     0.12412,     0.12513,     0.12613,     0.12713,     0.12813,     0.12913,     0.13013,     0.13113,     0.13213,     0.13313,     0.13413,     0.13514,     0.13614,     0.13714,     0.13814,     0.13914,     0.14014,     0.14114,     0.14214,     0.14314,\n",
       "           0.14414,     0.14515,     0.14615,     0.14715,     0.14815,     0.14915,     0.15015,     0.15115,     0.15215,     0.15315,     0.15415,     0.15516,     0.15616,     0.15716,     0.15816,     0.15916,     0.16016,     0.16116,     0.16216,     0.16316,     0.16416,     0.16517,     0.16617,     0.16717,\n",
       "           0.16817,     0.16917,     0.17017,     0.17117,     0.17217,     0.17317,     0.17417,     0.17518,     0.17618,     0.17718,     0.17818,     0.17918,     0.18018,     0.18118,     0.18218,     0.18318,     0.18418,     0.18519,     0.18619,     0.18719,     0.18819,     0.18919,     0.19019,     0.19119,\n",
       "           0.19219,     0.19319,     0.19419,      0.1952,      0.1962,      0.1972,      0.1982,      0.1992,      0.2002,      0.2012,      0.2022,      0.2032,      0.2042,     0.20521,     0.20621,     0.20721,     0.20821,     0.20921,     0.21021,     0.21121,     0.21221,     0.21321,     0.21421,     0.21522,\n",
       "           0.21622,     0.21722,     0.21822,     0.21922,     0.22022,     0.22122,     0.22222,     0.22322,     0.22422,     0.22523,     0.22623,     0.22723,     0.22823,     0.22923,     0.23023,     0.23123,     0.23223,     0.23323,     0.23423,     0.23524,     0.23624,     0.23724,     0.23824,     0.23924,\n",
       "           0.24024,     0.24124,     0.24224,     0.24324,     0.24424,     0.24525,     0.24625,     0.24725,     0.24825,     0.24925,     0.25025,     0.25125,     0.25225,     0.25325,     0.25425,     0.25526,     0.25626,     0.25726,     0.25826,     0.25926,     0.26026,     0.26126,     0.26226,     0.26326,\n",
       "           0.26426,     0.26527,     0.26627,     0.26727,     0.26827,     0.26927,     0.27027,     0.27127,     0.27227,     0.27327,     0.27427,     0.27528,     0.27628,     0.27728,     0.27828,     0.27928,     0.28028,     0.28128,     0.28228,     0.28328,     0.28428,     0.28529,     0.28629,     0.28729,\n",
       "           0.28829,     0.28929,     0.29029,     0.29129,     0.29229,     0.29329,     0.29429,      0.2953,      0.2963,      0.2973,      0.2983,      0.2993,      0.3003,      0.3013,      0.3023,      0.3033,      0.3043,     0.30531,     0.30631,     0.30731,     0.30831,     0.30931,     0.31031,     0.31131,\n",
       "           0.31231,     0.31331,     0.31431,     0.31532,     0.31632,     0.31732,     0.31832,     0.31932,     0.32032,     0.32132,     0.32232,     0.32332,     0.32432,     0.32533,     0.32633,     0.32733,     0.32833,     0.32933,     0.33033,     0.33133,     0.33233,     0.33333,     0.33433,     0.33534,\n",
       "           0.33634,     0.33734,     0.33834,     0.33934,     0.34034,     0.34134,     0.34234,     0.34334,     0.34434,     0.34535,     0.34635,     0.34735,     0.34835,     0.34935,     0.35035,     0.35135,     0.35235,     0.35335,     0.35435,     0.35536,     0.35636,     0.35736,     0.35836,     0.35936,\n",
       "           0.36036,     0.36136,     0.36236,     0.36336,     0.36436,     0.36537,     0.36637,     0.36737,     0.36837,     0.36937,     0.37037,     0.37137,     0.37237,     0.37337,     0.37437,     0.37538,     0.37638,     0.37738,     0.37838,     0.37938,     0.38038,     0.38138,     0.38238,     0.38338,\n",
       "           0.38438,     0.38539,     0.38639,     0.38739,     0.38839,     0.38939,     0.39039,     0.39139,     0.39239,     0.39339,     0.39439,      0.3954,      0.3964,      0.3974,      0.3984,      0.3994,      0.4004,      0.4014,      0.4024,      0.4034,      0.4044,     0.40541,     0.40641,     0.40741,\n",
       "           0.40841,     0.40941,     0.41041,     0.41141,     0.41241,     0.41341,     0.41441,     0.41542,     0.41642,     0.41742,     0.41842,     0.41942,     0.42042,     0.42142,     0.42242,     0.42342,     0.42442,     0.42543,     0.42643,     0.42743,     0.42843,     0.42943,     0.43043,     0.43143,\n",
       "           0.43243,     0.43343,     0.43443,     0.43544,     0.43644,     0.43744,     0.43844,     0.43944,     0.44044,     0.44144,     0.44244,     0.44344,     0.44444,     0.44545,     0.44645,     0.44745,     0.44845,     0.44945,     0.45045,     0.45145,     0.45245,     0.45345,     0.45445,     0.45546,\n",
       "           0.45646,     0.45746,     0.45846,     0.45946,     0.46046,     0.46146,     0.46246,     0.46346,     0.46446,     0.46547,     0.46647,     0.46747,     0.46847,     0.46947,     0.47047,     0.47147,     0.47247,     0.47347,     0.47447,     0.47548,     0.47648,     0.47748,     0.47848,     0.47948,\n",
       "           0.48048,     0.48148,     0.48248,     0.48348,     0.48448,     0.48549,     0.48649,     0.48749,     0.48849,     0.48949,     0.49049,     0.49149,     0.49249,     0.49349,     0.49449,      0.4955,      0.4965,      0.4975,      0.4985,      0.4995,      0.5005,      0.5015,      0.5025,      0.5035,\n",
       "            0.5045,     0.50551,     0.50651,     0.50751,     0.50851,     0.50951,     0.51051,     0.51151,     0.51251,     0.51351,     0.51451,     0.51552,     0.51652,     0.51752,     0.51852,     0.51952,     0.52052,     0.52152,     0.52252,     0.52352,     0.52452,     0.52553,     0.52653,     0.52753,\n",
       "           0.52853,     0.52953,     0.53053,     0.53153,     0.53253,     0.53353,     0.53453,     0.53554,     0.53654,     0.53754,     0.53854,     0.53954,     0.54054,     0.54154,     0.54254,     0.54354,     0.54454,     0.54555,     0.54655,     0.54755,     0.54855,     0.54955,     0.55055,     0.55155,\n",
       "           0.55255,     0.55355,     0.55455,     0.55556,     0.55656,     0.55756,     0.55856,     0.55956,     0.56056,     0.56156,     0.56256,     0.56356,     0.56456,     0.56557,     0.56657,     0.56757,     0.56857,     0.56957,     0.57057,     0.57157,     0.57257,     0.57357,     0.57457,     0.57558,\n",
       "           0.57658,     0.57758,     0.57858,     0.57958,     0.58058,     0.58158,     0.58258,     0.58358,     0.58458,     0.58559,     0.58659,     0.58759,     0.58859,     0.58959,     0.59059,     0.59159,     0.59259,     0.59359,     0.59459,      0.5956,      0.5966,      0.5976,      0.5986,      0.5996,\n",
       "            0.6006,      0.6016,      0.6026,      0.6036,      0.6046,     0.60561,     0.60661,     0.60761,     0.60861,     0.60961,     0.61061,     0.61161,     0.61261,     0.61361,     0.61461,     0.61562,     0.61662,     0.61762,     0.61862,     0.61962,     0.62062,     0.62162,     0.62262,     0.62362,\n",
       "           0.62462,     0.62563,     0.62663,     0.62763,     0.62863,     0.62963,     0.63063,     0.63163,     0.63263,     0.63363,     0.63463,     0.63564,     0.63664,     0.63764,     0.63864,     0.63964,     0.64064,     0.64164,     0.64264,     0.64364,     0.64464,     0.64565,     0.64665,     0.64765,\n",
       "           0.64865,     0.64965,     0.65065,     0.65165,     0.65265,     0.65365,     0.65465,     0.65566,     0.65666,     0.65766,     0.65866,     0.65966,     0.66066,     0.66166,     0.66266,     0.66366,     0.66466,     0.66567,     0.66667,     0.66767,     0.66867,     0.66967,     0.67067,     0.67167,\n",
       "           0.67267,     0.67367,     0.67467,     0.67568,     0.67668,     0.67768,     0.67868,     0.67968,     0.68068,     0.68168,     0.68268,     0.68368,     0.68468,     0.68569,     0.68669,     0.68769,     0.68869,     0.68969,     0.69069,     0.69169,     0.69269,     0.69369,     0.69469,      0.6957,\n",
       "            0.6967,      0.6977,      0.6987,      0.6997,      0.7007,      0.7017,      0.7027,      0.7037,      0.7047,     0.70571,     0.70671,     0.70771,     0.70871,     0.70971,     0.71071,     0.71171,     0.71271,     0.71371,     0.71471,     0.71572,     0.71672,     0.71772,     0.71872,     0.71972,\n",
       "           0.72072,     0.72172,     0.72272,     0.72372,     0.72472,     0.72573,     0.72673,     0.72773,     0.72873,     0.72973,     0.73073,     0.73173,     0.73273,     0.73373,     0.73473,     0.73574,     0.73674,     0.73774,     0.73874,     0.73974,     0.74074,     0.74174,     0.74274,     0.74374,\n",
       "           0.74474,     0.74575,     0.74675,     0.74775,     0.74875,     0.74975,     0.75075,     0.75175,     0.75275,     0.75375,     0.75475,     0.75576,     0.75676,     0.75776,     0.75876,     0.75976,     0.76076,     0.76176,     0.76276,     0.76376,     0.76476,     0.76577,     0.76677,     0.76777,\n",
       "           0.76877,     0.76977,     0.77077,     0.77177,     0.77277,     0.77377,     0.77477,     0.77578,     0.77678,     0.77778,     0.77878,     0.77978,     0.78078,     0.78178,     0.78278,     0.78378,     0.78478,     0.78579,     0.78679,     0.78779,     0.78879,     0.78979,     0.79079,     0.79179,\n",
       "           0.79279,     0.79379,     0.79479,      0.7958,      0.7968,      0.7978,      0.7988,      0.7998,      0.8008,      0.8018,      0.8028,      0.8038,      0.8048,     0.80581,     0.80681,     0.80781,     0.80881,     0.80981,     0.81081,     0.81181,     0.81281,     0.81381,     0.81481,     0.81582,\n",
       "           0.81682,     0.81782,     0.81882,     0.81982,     0.82082,     0.82182,     0.82282,     0.82382,     0.82482,     0.82583,     0.82683,     0.82783,     0.82883,     0.82983,     0.83083,     0.83183,     0.83283,     0.83383,     0.83483,     0.83584,     0.83684,     0.83784,     0.83884,     0.83984,\n",
       "           0.84084,     0.84184,     0.84284,     0.84384,     0.84484,     0.84585,     0.84685,     0.84785,     0.84885,     0.84985,     0.85085,     0.85185,     0.85285,     0.85385,     0.85485,     0.85586,     0.85686,     0.85786,     0.85886,     0.85986,     0.86086,     0.86186,     0.86286,     0.86386,\n",
       "           0.86486,     0.86587,     0.86687,     0.86787,     0.86887,     0.86987,     0.87087,     0.87187,     0.87287,     0.87387,     0.87487,     0.87588,     0.87688,     0.87788,     0.87888,     0.87988,     0.88088,     0.88188,     0.88288,     0.88388,     0.88488,     0.88589,     0.88689,     0.88789,\n",
       "           0.88889,     0.88989,     0.89089,     0.89189,     0.89289,     0.89389,     0.89489,      0.8959,      0.8969,      0.8979,      0.8989,      0.8999,      0.9009,      0.9019,      0.9029,      0.9039,      0.9049,     0.90591,     0.90691,     0.90791,     0.90891,     0.90991,     0.91091,     0.91191,\n",
       "           0.91291,     0.91391,     0.91491,     0.91592,     0.91692,     0.91792,     0.91892,     0.91992,     0.92092,     0.92192,     0.92292,     0.92392,     0.92492,     0.92593,     0.92693,     0.92793,     0.92893,     0.92993,     0.93093,     0.93193,     0.93293,     0.93393,     0.93493,     0.93594,\n",
       "           0.93694,     0.93794,     0.93894,     0.93994,     0.94094,     0.94194,     0.94294,     0.94394,     0.94494,     0.94595,     0.94695,     0.94795,     0.94895,     0.94995,     0.95095,     0.95195,     0.95295,     0.95395,     0.95495,     0.95596,     0.95696,     0.95796,     0.95896,     0.95996,\n",
       "           0.96096,     0.96196,     0.96296,     0.96396,     0.96496,     0.96597,     0.96697,     0.96797,     0.96897,     0.96997,     0.97097,     0.97197,     0.97297,     0.97397,     0.97497,     0.97598,     0.97698,     0.97798,     0.97898,     0.97998,     0.98098,     0.98198,     0.98298,     0.98398,\n",
       "           0.98498,     0.98599,     0.98699,     0.98799,     0.98899,     0.98999,     0.99099,     0.99199,     0.99299,     0.99399,     0.99499,       0.996,       0.997,       0.998,       0.999,           1]), array([[          1,           1,           1,           1,           1,           1,           1,           1,           1,           1,           1,           1,           1,           1,           1,           1,           1,           1,           1,           1,           1,           1,           1,\n",
       "                  1,           1,           1,           1,           1,           1,           1,           1,           1,           1,           1,           1,           1,           1,           1,           1,           1,           1,           1,           1,           1,           1,           1,\n",
       "                  1,           1,           1,           1,           1,           1,           1,           1,           1,           1,           1,           1,           1,           1,           1,           1,           1,           1,           1,           1,           1,           1,           1,\n",
       "                  1,           1,           1,           1,           1,           1,           1,           1,           1,           1,           1,           1,           1,           1,           1,           1,           1,           1,           1,           1,           1,           1,           1,\n",
       "                  1,           1,           1,           1,           1,           1,           1,           1,           1,           1,           1,           1,           1,           1,    0.079365,    0.079365,    0.079365,    0.079365,    0.079365,    0.079365,    0.079365,    0.079365,    0.079365,\n",
       "           0.079365,    0.079365,    0.079365,    0.011105,    0.011093,     0.01108,    0.011067,    0.011055,    0.011042,     0.01103,    0.011017,    0.011004,    0.010992,    0.010979,    0.010967,    0.010954,    0.010941,    0.010929,    0.010916,    0.010903,    0.010891,    0.010878,    0.010866,\n",
       "           0.010853,     0.01084,    0.010828,    0.010815,    0.010803,     0.01079,    0.010777,    0.010765,    0.010752,     0.01074,    0.010727,    0.010714,    0.010702,    0.010689,    0.010677,    0.010664,    0.010651,    0.010639,    0.010626,    0.010614,    0.010601,    0.010588,    0.010576,\n",
       "           0.010563,    0.010551,    0.010538,    0.010525,    0.010513,      0.0105,    0.010488,    0.010475,    0.010462,     0.01045,    0.010437,    0.010424,    0.010412,    0.010399,    0.010387,    0.010374,    0.010361,    0.010349,    0.010336,    0.010324,    0.010311,    0.010298,    0.010286,\n",
       "           0.010273,    0.010261,    0.010248,    0.010235,    0.010223,     0.01021,    0.010198,    0.010185,    0.010172,     0.01016,    0.010147,    0.010135,    0.010122,    0.010109,    0.010097,    0.010084,    0.010072,    0.010059,    0.010046,    0.010034,    0.010021,    0.010009,   0.0099959,\n",
       "          0.0099833,   0.0099707,   0.0099581,   0.0099455,   0.0099329,   0.0099203,   0.0099077,   0.0098951,   0.0098825,   0.0098699,   0.0098573,   0.0098447,   0.0098321,   0.0098194,   0.0098068,   0.0097942,   0.0097816,    0.009769,   0.0097564,   0.0097438,   0.0097312,   0.0097186,    0.009706,\n",
       "          0.0096934,   0.0096808,   0.0096682,   0.0096556,    0.009643,   0.0096304,   0.0096178,   0.0096052,   0.0095926,     0.00958,   0.0095673,   0.0095547,   0.0095421,   0.0095295,   0.0095169,   0.0095043,   0.0094917,   0.0094791,   0.0094665,   0.0094539,   0.0094413,   0.0094287,   0.0094161,\n",
       "          0.0094035,   0.0093909,   0.0093783,   0.0093657,   0.0093531,   0.0093405,   0.0093278,   0.0093152,   0.0093026,     0.00929,   0.0092774,   0.0092648,   0.0092522,   0.0092396,    0.009227,   0.0092144,   0.0092018,   0.0091892,   0.0091766,    0.009164,   0.0091514,   0.0091388,   0.0091262,\n",
       "          0.0091136,    0.009101,   0.0090883,   0.0090757,   0.0090631,   0.0090505,   0.0090379,   0.0090253,   0.0090127,   0.0090001,   0.0089875,   0.0089749,   0.0089623,   0.0089497,   0.0089371,   0.0089245,   0.0089119,   0.0088993,   0.0088867,   0.0088741,   0.0088615,   0.0088488,   0.0088362,\n",
       "          0.0088236,    0.008811,   0.0087984,   0.0087858,   0.0087732,   0.0087606,    0.008748,   0.0087354,   0.0087228,   0.0087102,   0.0086976,    0.008685,   0.0086724,   0.0086598,   0.0086472,   0.0086346,    0.008622,   0.0086094,   0.0085967,   0.0085841,   0.0085715,   0.0085589,   0.0085463,\n",
       "          0.0085337,   0.0085211,   0.0085085,   0.0084959,   0.0084833,   0.0084707,   0.0084581,   0.0084455,   0.0084329,   0.0084203,   0.0084077,   0.0083951,   0.0083825,   0.0083699,   0.0083572,   0.0083446,    0.008332,   0.0083194,   0.0083068,   0.0082942,   0.0082816,    0.008269,   0.0082564,\n",
       "          0.0082438,   0.0082312,   0.0082186,    0.008206,   0.0081934,   0.0081808,   0.0081682,   0.0081556,    0.008143,   0.0081304,   0.0081177,   0.0081051,   0.0080925,   0.0080799,   0.0080673,   0.0080547,   0.0080421,   0.0080295,   0.0080169,   0.0080043,   0.0079917,   0.0079791,   0.0079665,\n",
       "          0.0079539,   0.0079413,   0.0079287,   0.0079161,   0.0079035,   0.0078909,   0.0078782,   0.0078656,    0.007853,   0.0078404,   0.0078278,   0.0078152,   0.0078026,     0.00779,   0.0077774,   0.0077648,   0.0077522,   0.0077396,    0.007727,   0.0077144,   0.0077018,   0.0076892,   0.0076766,\n",
       "           0.007664,   0.0076514,   0.0076387,   0.0076261,   0.0076135,   0.0076009,   0.0075883,   0.0075757,   0.0075631,   0.0075505,   0.0075379,   0.0075253,   0.0075127,   0.0075001,   0.0074875,   0.0074749,   0.0074623,   0.0074497,   0.0074371,   0.0074245,   0.0074119,   0.0073993,   0.0073866,\n",
       "           0.007374,   0.0073614,   0.0073488,   0.0073362,   0.0073236,    0.007311,   0.0072984,   0.0072858,   0.0072732,   0.0072606,    0.007248,   0.0072354,   0.0072228,   0.0072102,   0.0071976,    0.007185,   0.0071724,   0.0071598,   0.0071471,   0.0071345,   0.0071219,   0.0071093,   0.0070967,\n",
       "          0.0070841,   0.0070715,   0.0070589,   0.0070463,   0.0070337,   0.0070211,   0.0070085,   0.0069959,   0.0069833,   0.0069707,   0.0069581,   0.0069455,   0.0069329,   0.0069203,   0.0069076,    0.006895,   0.0068824,   0.0068698,   0.0068572,   0.0068446,    0.006832,   0.0068194,   0.0068068,\n",
       "          0.0067942,   0.0067816,    0.006769,   0.0067564,   0.0067438,   0.0067312,   0.0067186,    0.006706,   0.0066934,   0.0066808,   0.0066681,   0.0066555,   0.0066429,   0.0066303,   0.0066177,   0.0066051,   0.0065925,   0.0065799,   0.0065673,   0.0065547,   0.0065421,   0.0065295,   0.0065169,\n",
       "          0.0065043,   0.0064917,   0.0064791,   0.0064665,   0.0064539,   0.0064413,   0.0064287,    0.006416,   0.0064034,   0.0063908,   0.0063782,   0.0063656,    0.006353,   0.0063404,   0.0063278,   0.0063152,   0.0063026,     0.00629,   0.0062774,   0.0062648,   0.0062522,   0.0062396,    0.006227,\n",
       "          0.0062144,   0.0062018,   0.0061892,   0.0061765,   0.0061639,   0.0061513,   0.0061387,   0.0061261,   0.0061135,   0.0061009,   0.0060883,   0.0060757,   0.0060631,   0.0060505,   0.0060379,   0.0060253,   0.0060127,   0.0060001,   0.0059875,   0.0059749,   0.0059623,   0.0059497,    0.005937,\n",
       "          0.0059244,   0.0059118,   0.0058992,   0.0058866,    0.005874,   0.0058614,   0.0058488,   0.0058362,   0.0058236,    0.005811,   0.0057984,   0.0057858,   0.0057732,   0.0057606,    0.005748,   0.0057354,   0.0057228,   0.0057102,   0.0056975,   0.0056849,   0.0056723,   0.0056597,   0.0056471,\n",
       "          0.0056345,   0.0056219,   0.0056093,   0.0055967,   0.0055841,   0.0055715,   0.0055589,   0.0055463,   0.0055337,   0.0055211,   0.0055085,   0.0054959,   0.0054833,   0.0054707,   0.0054581,   0.0054454,   0.0054328,   0.0054202,   0.0054076,    0.005395,   0.0053824,   0.0053698,   0.0053572,\n",
       "          0.0053446,    0.005332,   0.0053194,   0.0053068,   0.0052942,   0.0052816,    0.005269,   0.0052564,   0.0052438,   0.0052312,   0.0052186,   0.0052059,   0.0051933,   0.0051807,   0.0051681,   0.0051555,   0.0051429,   0.0051303,   0.0051177,   0.0051051,   0.0050925,   0.0050799,   0.0050673,\n",
       "          0.0050547,   0.0050421,   0.0050295,   0.0050169,   0.0050043,   0.0049917,   0.0049791,   0.0049664,   0.0049538,   0.0049412,   0.0049286,    0.004916,   0.0049034,   0.0048908,   0.0048782,   0.0048656,    0.004853,   0.0048404,   0.0048278,   0.0048152,   0.0048026,     0.00479,   0.0047774,\n",
       "          0.0047648,   0.0047522,   0.0047396,   0.0047269,   0.0047143,   0.0047017,   0.0046891,   0.0046765,   0.0046639,   0.0046513,   0.0046387,   0.0046261,   0.0046135,   0.0046009,   0.0045883,   0.0045757,   0.0045631,   0.0045505,   0.0045379,   0.0045253,   0.0045127,   0.0045001,   0.0044875,\n",
       "          0.0044748,   0.0044622,   0.0044496,    0.004437,   0.0044244,   0.0044118,   0.0043992,   0.0043866,    0.004374,   0.0043614,   0.0043488,   0.0043362,   0.0043236,    0.004311,   0.0042984,   0.0042858,   0.0042732,   0.0042606,    0.004248,   0.0042353,   0.0042227,   0.0042101,   0.0041975,\n",
       "          0.0041849,   0.0041723,   0.0041597,   0.0041471,   0.0041345,   0.0041219,   0.0041093,   0.0040967,   0.0040841,   0.0040715,   0.0040589,   0.0040463,   0.0040337,   0.0040211,   0.0040085,   0.0039958,   0.0039832,   0.0039706,    0.003958,   0.0039454,   0.0039328,   0.0039202,   0.0039076,\n",
       "           0.003895,   0.0038824,   0.0038698,   0.0038572,   0.0038446,    0.003832,   0.0038194,   0.0038068,   0.0037942,   0.0037816,    0.003769,   0.0037563,   0.0037437,   0.0037311,   0.0037185,   0.0037059,   0.0036933,   0.0036807,   0.0036681,   0.0036555,   0.0036429,   0.0036303,   0.0036177,\n",
       "          0.0036051,   0.0035925,   0.0035799,   0.0035673,   0.0035547,   0.0035421,   0.0035295,   0.0035169,   0.0035042,   0.0034916,    0.003479,   0.0034664,   0.0034538,   0.0034412,   0.0034286,    0.003416,   0.0034034,   0.0033908,   0.0033782,   0.0033656,    0.003353,   0.0033404,   0.0033278,\n",
       "          0.0033152,   0.0033026,     0.00329,   0.0032774,   0.0032647,   0.0032521,   0.0032395,   0.0032269,   0.0032143,   0.0032017,   0.0031891,   0.0031765,   0.0031639,   0.0031513,   0.0031387,   0.0031261,   0.0031135,   0.0031009,   0.0030883,   0.0030757,   0.0030631,   0.0030505,   0.0030379,\n",
       "          0.0030252,   0.0030126,       0.003,   0.0029874,   0.0029748,   0.0029622,   0.0029496,    0.002937,   0.0029244,   0.0029118,   0.0028992,   0.0028866,    0.002874,   0.0028614,   0.0028488,   0.0028362,   0.0028236,    0.002811,   0.0027984,   0.0027857,   0.0027731,   0.0027605,   0.0027479,\n",
       "          0.0027353,   0.0027227,   0.0027101,   0.0026975,   0.0026849,   0.0026723,   0.0026597,   0.0026471,   0.0026345,   0.0026219,   0.0026093,   0.0025967,   0.0025841,   0.0025715,   0.0025589,   0.0025462,   0.0025336,    0.002521,   0.0025084,   0.0024958,   0.0024832,   0.0024706,    0.002458,\n",
       "          0.0024454,   0.0024328,   0.0024202,   0.0024076,    0.002395,   0.0023824,   0.0023698,   0.0023572,   0.0023446,    0.002332,   0.0023194,   0.0023068,   0.0022941,   0.0022815,   0.0022689,   0.0022563,   0.0022437,   0.0022311,   0.0022185,   0.0022059,   0.0021933,   0.0021807,   0.0021681,\n",
       "          0.0021555,   0.0021429,   0.0021303,   0.0021177,   0.0021051,   0.0020925,   0.0020799,   0.0020673,   0.0020546,    0.002042,   0.0020294,   0.0020168,   0.0020042,   0.0019916,    0.001979,   0.0019664,   0.0019538,   0.0019412,   0.0019286,    0.001916,   0.0019034,   0.0018908,   0.0018782,\n",
       "          0.0018656,    0.001853,   0.0018404,   0.0018278,   0.0018151,   0.0018025,   0.0017899,   0.0017773,   0.0017647,   0.0017521,   0.0017395,   0.0017269,   0.0017143,   0.0017017,   0.0016891,   0.0016765,   0.0016639,   0.0016513,   0.0016387,   0.0016261,   0.0016135,   0.0016009,   0.0015883,\n",
       "          0.0015756,    0.001563,   0.0015504,   0.0015378,   0.0015252,   0.0015126,      0.0015,   0.0014874,   0.0014748,   0.0014622,   0.0014496,    0.001437,   0.0014244,   0.0014118,   0.0013992,   0.0013866,    0.001374,   0.0013614,   0.0013488,   0.0013362,   0.0013235,   0.0013109,   0.0012983,\n",
       "          0.0012857,   0.0012731,   0.0012605,   0.0012479,   0.0012353,   0.0012227,   0.0012101,   0.0011975,   0.0011849,   0.0011723,   0.0011597,   0.0011471,   0.0011345,   0.0011219,   0.0011093,   0.0010967,    0.001084,   0.0010714,   0.0010588,   0.0010462,   0.0010336,    0.001021,   0.0010084,\n",
       "         0.00099581,  0.00098321,   0.0009706,    0.000958,  0.00094539,  0.00093278,  0.00092018,  0.00090757,  0.00089497,  0.00088236,  0.00086976,  0.00085715,  0.00084455,  0.00083194,  0.00081934,  0.00080673,  0.00079413,  0.00078152,  0.00076892,  0.00075631,  0.00074371,   0.0007311,   0.0007185,\n",
       "         0.00070589,  0.00069329,  0.00068068,  0.00066808,  0.00065547,  0.00064287,  0.00063026,  0.00061765,  0.00060505,  0.00059244,  0.00057984,  0.00056723,  0.00055463,  0.00054202,  0.00052942,  0.00051681,  0.00050421,   0.0004916,    0.000479,  0.00046639,  0.00045379,  0.00044118,  0.00042858,\n",
       "         0.00041597,  0.00040337,  0.00039076,  0.00037816,  0.00036555,  0.00035295,  0.00034034,  0.00032774,  0.00031513,  0.00030252,  0.00028992,  0.00027731,  0.00026471,   0.0002521,   0.0002395,  0.00022689,  0.00021429,  0.00020168,  0.00018908,  0.00017647,  0.00016387,  0.00015126,  0.00013866,\n",
       "         0.00012605,  0.00011345,  0.00010084,  8.8236e-05,  7.5631e-05,  6.3026e-05,  5.0421e-05,  3.7816e-05,   2.521e-05,  1.2605e-05,           0]]), 'Recall', 'Precision'], [array([          0,    0.001001,    0.002002,    0.003003,    0.004004,    0.005005,    0.006006,    0.007007,    0.008008,    0.009009,     0.01001,    0.011011,    0.012012,    0.013013,    0.014014,    0.015015,    0.016016,    0.017017,    0.018018,    0.019019,     0.02002,    0.021021,    0.022022,    0.023023,\n",
       "          0.024024,    0.025025,    0.026026,    0.027027,    0.028028,    0.029029,     0.03003,    0.031031,    0.032032,    0.033033,    0.034034,    0.035035,    0.036036,    0.037037,    0.038038,    0.039039,     0.04004,    0.041041,    0.042042,    0.043043,    0.044044,    0.045045,    0.046046,    0.047047,\n",
       "          0.048048,    0.049049,     0.05005,    0.051051,    0.052052,    0.053053,    0.054054,    0.055055,    0.056056,    0.057057,    0.058058,    0.059059,     0.06006,    0.061061,    0.062062,    0.063063,    0.064064,    0.065065,    0.066066,    0.067067,    0.068068,    0.069069,     0.07007,    0.071071,\n",
       "          0.072072,    0.073073,    0.074074,    0.075075,    0.076076,    0.077077,    0.078078,    0.079079,     0.08008,    0.081081,    0.082082,    0.083083,    0.084084,    0.085085,    0.086086,    0.087087,    0.088088,    0.089089,     0.09009,    0.091091,    0.092092,    0.093093,    0.094094,    0.095095,\n",
       "          0.096096,    0.097097,    0.098098,    0.099099,      0.1001,      0.1011,      0.1021,      0.1031,      0.1041,     0.10511,     0.10611,     0.10711,     0.10811,     0.10911,     0.11011,     0.11111,     0.11211,     0.11311,     0.11411,     0.11512,     0.11612,     0.11712,     0.11812,     0.11912,\n",
       "           0.12012,     0.12112,     0.12212,     0.12312,     0.12412,     0.12513,     0.12613,     0.12713,     0.12813,     0.12913,     0.13013,     0.13113,     0.13213,     0.13313,     0.13413,     0.13514,     0.13614,     0.13714,     0.13814,     0.13914,     0.14014,     0.14114,     0.14214,     0.14314,\n",
       "           0.14414,     0.14515,     0.14615,     0.14715,     0.14815,     0.14915,     0.15015,     0.15115,     0.15215,     0.15315,     0.15415,     0.15516,     0.15616,     0.15716,     0.15816,     0.15916,     0.16016,     0.16116,     0.16216,     0.16316,     0.16416,     0.16517,     0.16617,     0.16717,\n",
       "           0.16817,     0.16917,     0.17017,     0.17117,     0.17217,     0.17317,     0.17417,     0.17518,     0.17618,     0.17718,     0.17818,     0.17918,     0.18018,     0.18118,     0.18218,     0.18318,     0.18418,     0.18519,     0.18619,     0.18719,     0.18819,     0.18919,     0.19019,     0.19119,\n",
       "           0.19219,     0.19319,     0.19419,      0.1952,      0.1962,      0.1972,      0.1982,      0.1992,      0.2002,      0.2012,      0.2022,      0.2032,      0.2042,     0.20521,     0.20621,     0.20721,     0.20821,     0.20921,     0.21021,     0.21121,     0.21221,     0.21321,     0.21421,     0.21522,\n",
       "           0.21622,     0.21722,     0.21822,     0.21922,     0.22022,     0.22122,     0.22222,     0.22322,     0.22422,     0.22523,     0.22623,     0.22723,     0.22823,     0.22923,     0.23023,     0.23123,     0.23223,     0.23323,     0.23423,     0.23524,     0.23624,     0.23724,     0.23824,     0.23924,\n",
       "           0.24024,     0.24124,     0.24224,     0.24324,     0.24424,     0.24525,     0.24625,     0.24725,     0.24825,     0.24925,     0.25025,     0.25125,     0.25225,     0.25325,     0.25425,     0.25526,     0.25626,     0.25726,     0.25826,     0.25926,     0.26026,     0.26126,     0.26226,     0.26326,\n",
       "           0.26426,     0.26527,     0.26627,     0.26727,     0.26827,     0.26927,     0.27027,     0.27127,     0.27227,     0.27327,     0.27427,     0.27528,     0.27628,     0.27728,     0.27828,     0.27928,     0.28028,     0.28128,     0.28228,     0.28328,     0.28428,     0.28529,     0.28629,     0.28729,\n",
       "           0.28829,     0.28929,     0.29029,     0.29129,     0.29229,     0.29329,     0.29429,      0.2953,      0.2963,      0.2973,      0.2983,      0.2993,      0.3003,      0.3013,      0.3023,      0.3033,      0.3043,     0.30531,     0.30631,     0.30731,     0.30831,     0.30931,     0.31031,     0.31131,\n",
       "           0.31231,     0.31331,     0.31431,     0.31532,     0.31632,     0.31732,     0.31832,     0.31932,     0.32032,     0.32132,     0.32232,     0.32332,     0.32432,     0.32533,     0.32633,     0.32733,     0.32833,     0.32933,     0.33033,     0.33133,     0.33233,     0.33333,     0.33433,     0.33534,\n",
       "           0.33634,     0.33734,     0.33834,     0.33934,     0.34034,     0.34134,     0.34234,     0.34334,     0.34434,     0.34535,     0.34635,     0.34735,     0.34835,     0.34935,     0.35035,     0.35135,     0.35235,     0.35335,     0.35435,     0.35536,     0.35636,     0.35736,     0.35836,     0.35936,\n",
       "           0.36036,     0.36136,     0.36236,     0.36336,     0.36436,     0.36537,     0.36637,     0.36737,     0.36837,     0.36937,     0.37037,     0.37137,     0.37237,     0.37337,     0.37437,     0.37538,     0.37638,     0.37738,     0.37838,     0.37938,     0.38038,     0.38138,     0.38238,     0.38338,\n",
       "           0.38438,     0.38539,     0.38639,     0.38739,     0.38839,     0.38939,     0.39039,     0.39139,     0.39239,     0.39339,     0.39439,      0.3954,      0.3964,      0.3974,      0.3984,      0.3994,      0.4004,      0.4014,      0.4024,      0.4034,      0.4044,     0.40541,     0.40641,     0.40741,\n",
       "           0.40841,     0.40941,     0.41041,     0.41141,     0.41241,     0.41341,     0.41441,     0.41542,     0.41642,     0.41742,     0.41842,     0.41942,     0.42042,     0.42142,     0.42242,     0.42342,     0.42442,     0.42543,     0.42643,     0.42743,     0.42843,     0.42943,     0.43043,     0.43143,\n",
       "           0.43243,     0.43343,     0.43443,     0.43544,     0.43644,     0.43744,     0.43844,     0.43944,     0.44044,     0.44144,     0.44244,     0.44344,     0.44444,     0.44545,     0.44645,     0.44745,     0.44845,     0.44945,     0.45045,     0.45145,     0.45245,     0.45345,     0.45445,     0.45546,\n",
       "           0.45646,     0.45746,     0.45846,     0.45946,     0.46046,     0.46146,     0.46246,     0.46346,     0.46446,     0.46547,     0.46647,     0.46747,     0.46847,     0.46947,     0.47047,     0.47147,     0.47247,     0.47347,     0.47447,     0.47548,     0.47648,     0.47748,     0.47848,     0.47948,\n",
       "           0.48048,     0.48148,     0.48248,     0.48348,     0.48448,     0.48549,     0.48649,     0.48749,     0.48849,     0.48949,     0.49049,     0.49149,     0.49249,     0.49349,     0.49449,      0.4955,      0.4965,      0.4975,      0.4985,      0.4995,      0.5005,      0.5015,      0.5025,      0.5035,\n",
       "            0.5045,     0.50551,     0.50651,     0.50751,     0.50851,     0.50951,     0.51051,     0.51151,     0.51251,     0.51351,     0.51451,     0.51552,     0.51652,     0.51752,     0.51852,     0.51952,     0.52052,     0.52152,     0.52252,     0.52352,     0.52452,     0.52553,     0.52653,     0.52753,\n",
       "           0.52853,     0.52953,     0.53053,     0.53153,     0.53253,     0.53353,     0.53453,     0.53554,     0.53654,     0.53754,     0.53854,     0.53954,     0.54054,     0.54154,     0.54254,     0.54354,     0.54454,     0.54555,     0.54655,     0.54755,     0.54855,     0.54955,     0.55055,     0.55155,\n",
       "           0.55255,     0.55355,     0.55455,     0.55556,     0.55656,     0.55756,     0.55856,     0.55956,     0.56056,     0.56156,     0.56256,     0.56356,     0.56456,     0.56557,     0.56657,     0.56757,     0.56857,     0.56957,     0.57057,     0.57157,     0.57257,     0.57357,     0.57457,     0.57558,\n",
       "           0.57658,     0.57758,     0.57858,     0.57958,     0.58058,     0.58158,     0.58258,     0.58358,     0.58458,     0.58559,     0.58659,     0.58759,     0.58859,     0.58959,     0.59059,     0.59159,     0.59259,     0.59359,     0.59459,      0.5956,      0.5966,      0.5976,      0.5986,      0.5996,\n",
       "            0.6006,      0.6016,      0.6026,      0.6036,      0.6046,     0.60561,     0.60661,     0.60761,     0.60861,     0.60961,     0.61061,     0.61161,     0.61261,     0.61361,     0.61461,     0.61562,     0.61662,     0.61762,     0.61862,     0.61962,     0.62062,     0.62162,     0.62262,     0.62362,\n",
       "           0.62462,     0.62563,     0.62663,     0.62763,     0.62863,     0.62963,     0.63063,     0.63163,     0.63263,     0.63363,     0.63463,     0.63564,     0.63664,     0.63764,     0.63864,     0.63964,     0.64064,     0.64164,     0.64264,     0.64364,     0.64464,     0.64565,     0.64665,     0.64765,\n",
       "           0.64865,     0.64965,     0.65065,     0.65165,     0.65265,     0.65365,     0.65465,     0.65566,     0.65666,     0.65766,     0.65866,     0.65966,     0.66066,     0.66166,     0.66266,     0.66366,     0.66466,     0.66567,     0.66667,     0.66767,     0.66867,     0.66967,     0.67067,     0.67167,\n",
       "           0.67267,     0.67367,     0.67467,     0.67568,     0.67668,     0.67768,     0.67868,     0.67968,     0.68068,     0.68168,     0.68268,     0.68368,     0.68468,     0.68569,     0.68669,     0.68769,     0.68869,     0.68969,     0.69069,     0.69169,     0.69269,     0.69369,     0.69469,      0.6957,\n",
       "            0.6967,      0.6977,      0.6987,      0.6997,      0.7007,      0.7017,      0.7027,      0.7037,      0.7047,     0.70571,     0.70671,     0.70771,     0.70871,     0.70971,     0.71071,     0.71171,     0.71271,     0.71371,     0.71471,     0.71572,     0.71672,     0.71772,     0.71872,     0.71972,\n",
       "           0.72072,     0.72172,     0.72272,     0.72372,     0.72472,     0.72573,     0.72673,     0.72773,     0.72873,     0.72973,     0.73073,     0.73173,     0.73273,     0.73373,     0.73473,     0.73574,     0.73674,     0.73774,     0.73874,     0.73974,     0.74074,     0.74174,     0.74274,     0.74374,\n",
       "           0.74474,     0.74575,     0.74675,     0.74775,     0.74875,     0.74975,     0.75075,     0.75175,     0.75275,     0.75375,     0.75475,     0.75576,     0.75676,     0.75776,     0.75876,     0.75976,     0.76076,     0.76176,     0.76276,     0.76376,     0.76476,     0.76577,     0.76677,     0.76777,\n",
       "           0.76877,     0.76977,     0.77077,     0.77177,     0.77277,     0.77377,     0.77477,     0.77578,     0.77678,     0.77778,     0.77878,     0.77978,     0.78078,     0.78178,     0.78278,     0.78378,     0.78478,     0.78579,     0.78679,     0.78779,     0.78879,     0.78979,     0.79079,     0.79179,\n",
       "           0.79279,     0.79379,     0.79479,      0.7958,      0.7968,      0.7978,      0.7988,      0.7998,      0.8008,      0.8018,      0.8028,      0.8038,      0.8048,     0.80581,     0.80681,     0.80781,     0.80881,     0.80981,     0.81081,     0.81181,     0.81281,     0.81381,     0.81481,     0.81582,\n",
       "           0.81682,     0.81782,     0.81882,     0.81982,     0.82082,     0.82182,     0.82282,     0.82382,     0.82482,     0.82583,     0.82683,     0.82783,     0.82883,     0.82983,     0.83083,     0.83183,     0.83283,     0.83383,     0.83483,     0.83584,     0.83684,     0.83784,     0.83884,     0.83984,\n",
       "           0.84084,     0.84184,     0.84284,     0.84384,     0.84484,     0.84585,     0.84685,     0.84785,     0.84885,     0.84985,     0.85085,     0.85185,     0.85285,     0.85385,     0.85485,     0.85586,     0.85686,     0.85786,     0.85886,     0.85986,     0.86086,     0.86186,     0.86286,     0.86386,\n",
       "           0.86486,     0.86587,     0.86687,     0.86787,     0.86887,     0.86987,     0.87087,     0.87187,     0.87287,     0.87387,     0.87487,     0.87588,     0.87688,     0.87788,     0.87888,     0.87988,     0.88088,     0.88188,     0.88288,     0.88388,     0.88488,     0.88589,     0.88689,     0.88789,\n",
       "           0.88889,     0.88989,     0.89089,     0.89189,     0.89289,     0.89389,     0.89489,      0.8959,      0.8969,      0.8979,      0.8989,      0.8999,      0.9009,      0.9019,      0.9029,      0.9039,      0.9049,     0.90591,     0.90691,     0.90791,     0.90891,     0.90991,     0.91091,     0.91191,\n",
       "           0.91291,     0.91391,     0.91491,     0.91592,     0.91692,     0.91792,     0.91892,     0.91992,     0.92092,     0.92192,     0.92292,     0.92392,     0.92492,     0.92593,     0.92693,     0.92793,     0.92893,     0.92993,     0.93093,     0.93193,     0.93293,     0.93393,     0.93493,     0.93594,\n",
       "           0.93694,     0.93794,     0.93894,     0.93994,     0.94094,     0.94194,     0.94294,     0.94394,     0.94494,     0.94595,     0.94695,     0.94795,     0.94895,     0.94995,     0.95095,     0.95195,     0.95295,     0.95395,     0.95495,     0.95596,     0.95696,     0.95796,     0.95896,     0.95996,\n",
       "           0.96096,     0.96196,     0.96296,     0.96396,     0.96496,     0.96597,     0.96697,     0.96797,     0.96897,     0.96997,     0.97097,     0.97197,     0.97297,     0.97397,     0.97497,     0.97598,     0.97698,     0.97798,     0.97898,     0.97998,     0.98098,     0.98198,     0.98298,     0.98398,\n",
       "           0.98498,     0.98599,     0.98699,     0.98799,     0.98899,     0.98999,     0.99099,     0.99199,     0.99299,     0.99399,     0.99499,       0.996,       0.997,       0.998,       0.999,           1]), array([[   0.020305,    0.020305,    0.020305,    0.020305,    0.020656,     0.02209,     0.02405,     0.02647,    0.028909,    0.031503,    0.034065,    0.036342,     0.03831,    0.040833,    0.042529,    0.043883,    0.046472,    0.048712,    0.051045,    0.053397,    0.055276,    0.058583,    0.061693,\n",
       "           0.065093,    0.069724,    0.072543,     0.07634,    0.078592,    0.081093,    0.082842,    0.084759,    0.086386,    0.087851,    0.090877,    0.093879,    0.086554,    0.088473,    0.091165,    0.092611,    0.095324,     0.09714,    0.099162,     0.10087,     0.10177,     0.10377,     0.10465,\n",
       "            0.10522,     0.10749,      0.1097,     0.11039,     0.11368,     0.11455,     0.11659,      0.1186,     0.11895,     0.11998,     0.12362,     0.12522,     0.12629,     0.12685,     0.12707,     0.12729,     0.12751,     0.12785,     0.12843,      0.1291,     0.12979,     0.13052,     0.13155,\n",
       "            0.13226,     0.13441,     0.13508,     0.13672,     0.13743,     0.13789,     0.13834,     0.13884,     0.13936,     0.13982,     0.14026,      0.1407,     0.14117,     0.14163,     0.14242,     0.14524,     0.14579,     0.14633,     0.14698,     0.14758,     0.14784,     0.14811,     0.14838,\n",
       "            0.14864,     0.15066,     0.15148,     0.15189,     0.15229,     0.15265,     0.15295,     0.15324,     0.15353,     0.15382,     0.15405,     0.15427,      0.1545,     0.15472,     0.15494,     0.15516,     0.15544,     0.15574,     0.15602,     0.15631,      0.1566,      0.1569,      0.1572,\n",
       "             0.1575,     0.15779,     0.15833,       0.159,      0.1596,     0.16016,      0.1607,     0.16164,     0.16231,     0.16266,     0.16299,     0.16333,     0.16367,      0.1644,      0.1651,     0.16531,     0.16549,     0.16566,     0.16584,     0.16601,     0.16618,     0.16635,     0.16652,\n",
       "            0.16734,     0.16838,     0.16856,     0.16875,     0.16894,     0.16912,      0.1693,     0.16948,     0.16966,     0.17013,     0.17192,     0.17312,     0.17351,     0.17389,     0.17427,     0.17464,     0.17478,     0.17482,     0.17486,      0.1749,     0.17493,     0.17497,     0.17501,\n",
       "            0.17505,     0.17508,     0.17512,     0.17516,     0.17519,     0.17523,     0.17527,      0.1753,     0.17534,     0.17538,     0.17541,     0.17545,     0.17549,     0.17552,     0.17556,      0.1756,     0.17563,     0.17567,      0.1757,     0.17574,     0.17578,     0.17581,     0.17585,\n",
       "            0.17588,     0.17592,     0.17595,     0.17599,     0.17603,     0.17606,      0.1761,     0.17613,     0.17617,      0.1762,     0.17624,     0.17627,     0.17631,     0.17634,     0.17638,     0.17641,     0.17644,     0.17648,     0.17649,     0.17651,     0.17653,     0.17655,     0.17657,\n",
       "            0.17659,     0.17661,     0.17663,     0.17665,     0.17666,     0.17668,      0.1767,     0.17672,     0.17674,     0.17676,     0.17678,      0.1768,     0.17681,     0.17683,     0.17685,     0.17687,     0.17689,     0.17691,     0.17693,     0.17694,     0.17696,     0.17698,       0.177,\n",
       "            0.17702,     0.17704,     0.17706,     0.17707,     0.17709,     0.17711,     0.17713,     0.17715,     0.17717,     0.17718,      0.1772,     0.17722,     0.17724,     0.17726,     0.17728,     0.17729,     0.17731,     0.17733,     0.17735,     0.17737,     0.17738,      0.1774,     0.17742,\n",
       "            0.17744,     0.17746,     0.17747,     0.17749,     0.17751,     0.17753,     0.17755,     0.17756,     0.17758,      0.1776,     0.17762,     0.17763,     0.17765,     0.17767,     0.17769,     0.17771,     0.17772,     0.17774,     0.17776,     0.17778,     0.17779,     0.17781,     0.17783,\n",
       "            0.17785,     0.17786,     0.17788,      0.1779,     0.17792,     0.17793,     0.17795,     0.17797,     0.17799,       0.178,     0.17802,     0.17804,     0.17806,     0.17807,     0.17809,     0.17811,     0.17813,     0.17814,     0.17816,     0.17818,      0.1782,     0.17821,     0.17823,\n",
       "            0.17825,     0.17827,     0.17829,     0.17831,     0.17833,     0.17835,     0.17837,     0.17839,     0.17841,     0.17843,     0.17845,     0.17846,     0.17848,      0.1785,     0.17852,     0.17854,     0.17856,     0.17858,      0.1786,     0.17862,     0.17864,     0.17866,     0.17868,\n",
       "             0.1787,     0.17871,     0.17873,     0.17875,     0.17877,     0.17879,     0.17881,     0.17883,     0.17885,     0.17887,     0.17888,      0.1789,     0.17892,     0.17894,     0.17896,     0.17898,       0.179,     0.17902,     0.17903,     0.17905,     0.17907,     0.17909,     0.17911,\n",
       "            0.17913,     0.17915,     0.17916,     0.17918,      0.1792,     0.17922,     0.17924,     0.17926,     0.17928,     0.17929,     0.17931,     0.17933,     0.17935,     0.17937,     0.17939,      0.1794,     0.17942,     0.17944,     0.17946,     0.17948,      0.1795,     0.17951,     0.17953,\n",
       "            0.17955,     0.17957,     0.17959,      0.1796,     0.17962,     0.17964,     0.17966,     0.17968,     0.17969,     0.17971,     0.17973,     0.17975,     0.17977,     0.17978,      0.1798,     0.17982,     0.17984,     0.17985,     0.17987,     0.17989,     0.17991,     0.17992,     0.17994,\n",
       "            0.17996,     0.17998,        0.18,     0.18002,     0.18005,     0.18008,      0.1801,     0.18013,     0.18016,     0.18018,     0.18021,     0.18024,     0.18027,     0.18029,     0.18032,     0.18035,     0.18037,      0.1804,     0.18043,     0.18045,     0.18048,     0.18051,     0.18053,\n",
       "            0.18056,     0.18059,     0.18061,     0.18064,     0.18067,     0.18069,     0.18072,     0.18075,     0.18077,      0.1808,     0.18082,     0.18085,     0.18088,      0.1809,     0.18093,     0.18095,     0.18098,     0.18101,     0.18103,     0.18106,     0.18108,     0.18111,     0.18113,\n",
       "            0.18116,     0.18118,     0.18121,     0.18124,     0.18126,     0.18129,     0.18131,     0.18134,     0.18136,     0.18139,     0.18141,     0.18144,     0.18146,     0.18149,     0.18151,     0.18154,     0.18156,     0.18159,     0.18161,     0.18164,     0.18166,     0.18169,     0.18171,\n",
       "            0.18174,     0.18176,     0.18178,     0.18181,     0.18182,     0.18183,     0.18184,     0.18185,     0.18186,     0.18187,     0.18188,     0.18189,     0.18189,      0.1819,     0.18191,     0.18192,     0.18193,     0.18194,     0.18195,     0.18196,     0.18196,     0.18197,     0.18198,\n",
       "            0.18199,       0.182,     0.18201,     0.18202,     0.18202,     0.18203,     0.18204,     0.18205,     0.18206,     0.18207,     0.18208,     0.18209,     0.18209,      0.1821,     0.18211,     0.18212,     0.18213,     0.18214,     0.18215,     0.18215,     0.18216,     0.18217,     0.18218,\n",
       "            0.18219,      0.1822,     0.18221,     0.18221,     0.18222,     0.18223,     0.18224,     0.18225,     0.18226,     0.18227,     0.18227,     0.18228,     0.18229,      0.1823,     0.18231,     0.18232,     0.18233,     0.18233,     0.18234,     0.18235,     0.18236,     0.18237,     0.18238,\n",
       "            0.18239,     0.18239,      0.1824,     0.18241,     0.18242,     0.18243,     0.18244,     0.18244,     0.18245,     0.18246,     0.18247,     0.18248,     0.18249,     0.18249,      0.1825,     0.18251,     0.18252,     0.18253,     0.18254,     0.18255,     0.18255,     0.18256,     0.18257,\n",
       "            0.18258,     0.18259,      0.1826,      0.1826,     0.18261,     0.18262,     0.18263,     0.18264,     0.18265,     0.18265,     0.18266,     0.18267,     0.18268,     0.18269,      0.1827,      0.1827,     0.18271,     0.18272,     0.18273,     0.18274,     0.18275,     0.18275,     0.18276,\n",
       "            0.18277,     0.18278,     0.18279,     0.18279,      0.1828,     0.18281,     0.18282,     0.18283,     0.18284,     0.18284,     0.18285,     0.18286,     0.18287,     0.18288,     0.18288,     0.18289,      0.1829,     0.18291,     0.18292,     0.18293,     0.18293,     0.18294,     0.18295,\n",
       "            0.18296,     0.18297,     0.18297,     0.18298,     0.18299,       0.183,     0.18301,     0.18302,     0.18302,     0.18303,     0.18304,     0.18305,     0.18306,     0.18306,     0.18307,     0.18308,     0.18309,      0.1831,      0.1831,     0.18311,     0.18312,     0.18313,     0.18314,\n",
       "            0.18314,     0.18315,     0.18316,     0.18317,     0.18318,     0.18318,     0.18319,      0.1832,     0.18321,     0.18322,     0.18322,     0.18323,     0.18324,     0.18325,     0.18326,     0.18326,     0.18327,     0.18328,     0.18329,      0.1833,      0.1833,     0.18331,     0.18332,\n",
       "            0.18333,     0.18334,     0.18334,     0.18335,     0.18336,     0.18337,     0.18338,     0.18338,     0.18339,      0.1834,     0.18341,     0.18342,     0.18342,     0.18343,     0.18344,     0.18345,     0.18345,     0.18346,     0.18347,     0.18348,     0.18349,     0.18349,      0.1835,\n",
       "            0.18351,     0.18352,     0.18353,     0.18353,     0.18354,     0.18355,     0.18356,     0.18356,     0.18357,     0.18358,     0.18359,      0.1836,      0.1836,     0.18361,     0.18362,     0.18363,     0.18363,     0.18364,     0.18365,     0.18366,     0.18367,     0.18367,     0.18373,\n",
       "            0.18379,     0.18384,      0.1839,     0.18395,     0.18401,     0.18406,     0.18412,     0.18417,     0.18423,     0.18428,     0.18433,     0.18439,     0.18444,     0.18449,     0.18455,      0.1846,     0.18465,      0.1847,     0.18476,     0.18481,     0.18486,     0.18491,     0.18496,\n",
       "            0.18501,     0.18507,     0.18512,     0.18517,     0.18522,     0.18527,     0.18532,     0.18537,     0.18542,     0.18547,     0.18552,     0.18556,     0.18562,     0.18567,     0.18572,     0.18578,     0.18583,     0.18588,     0.18593,     0.18599,     0.18604,     0.18609,     0.18614,\n",
       "            0.18619,     0.18624,     0.18629,     0.18634,     0.18639,     0.18644,     0.18649,     0.18654,     0.18659,     0.18664,     0.18669,     0.18674,     0.18679,     0.18684,     0.18688,     0.18693,     0.18698,     0.18703,     0.18708,     0.18712,     0.18717,     0.18722,     0.18726,\n",
       "            0.18731,     0.18736,      0.1874,     0.18745,      0.1875,     0.18752,     0.18754,     0.18756,     0.18758,      0.1876,     0.18762,     0.18764,     0.18766,     0.18768,      0.1877,     0.18772,     0.18774,     0.18776,     0.18778,      0.1878,     0.18782,     0.18784,     0.18786,\n",
       "            0.18788,      0.1879,     0.18792,     0.18794,     0.18796,     0.18798,       0.188,     0.18802,     0.18804,     0.18806,     0.18808,      0.1881,     0.18812,     0.18813,     0.18815,     0.18817,     0.18819,     0.18821,     0.18823,     0.18825,     0.18827,     0.18829,     0.18831,\n",
       "            0.18833,     0.18835,     0.18836,     0.18838,      0.1884,     0.18842,     0.18844,     0.18846,     0.18848,      0.1885,     0.18852,     0.18853,     0.18855,     0.18857,     0.18859,     0.18861,     0.18863,     0.18865,     0.18866,     0.18868,      0.1887,     0.18872,     0.18874,\n",
       "            0.18876,     0.18878,     0.18879,     0.18881,     0.18883,     0.18885,     0.18887,     0.18888,      0.1889,     0.18892,     0.18894,     0.18896,     0.18898,     0.18899,     0.18901,     0.18903,     0.18905,     0.18906,     0.18908,      0.1891,     0.18912,     0.18914,     0.18915,\n",
       "            0.18917,     0.18919,     0.18921,     0.18922,     0.18924,     0.18926,     0.18928,     0.18929,     0.18931,     0.18933,     0.18935,     0.18936,     0.18938,      0.1894,     0.18942,     0.18943,     0.18945,     0.18947,     0.18954,     0.18965,     0.18975,     0.18985,     0.18995,\n",
       "            0.19004,     0.19014,     0.19024,     0.19033,     0.19043,     0.19052,     0.19061,      0.1907,     0.19079,     0.19089,     0.19097,     0.19106,     0.19115,     0.19124,     0.19133,     0.19141,     0.19143,     0.19069,     0.18995,      0.1892,     0.18846,     0.18772,     0.18698,\n",
       "            0.18623,     0.18549,     0.18474,       0.184,     0.18325,      0.1825,     0.18175,     0.18101,     0.18026,     0.17951,     0.17876,     0.17801,     0.17726,      0.1765,     0.17575,       0.175,     0.17424,     0.17349,     0.17273,     0.17198,      0.1713,     0.17062,     0.16993,\n",
       "            0.16924,     0.16856,     0.16787,     0.16718,      0.1665,     0.16581,     0.16512,     0.16443,     0.16374,     0.16305,     0.16236,     0.16166,     0.16097,     0.16028,     0.15959,     0.15889,      0.1582,      0.1575,     0.15681,     0.15611,     0.15542,     0.15472,     0.15402,\n",
       "            0.15332,     0.15263,     0.15199,     0.15146,     0.15094,     0.15041,     0.14988,     0.14936,     0.14883,      0.1483,     0.14778,     0.14725,     0.14672,     0.14619,     0.14566,     0.14513,      0.1446,     0.14407,     0.14354,     0.14301,     0.14248,     0.14195,     0.14142,\n",
       "            0.14089,     0.14036,     0.13983,     0.13929,     0.13876,     0.13823,     0.13769,     0.13716,     0.13663,     0.13609,     0.13556,     0.13502,     0.13449,     0.13395,     0.13342,     0.13288,     0.13234,     0.12967,     0.11098,      0.1085,     0.10602,     0.10353,     0.10103,\n",
       "           0.098527,    0.096016,    0.093499,    0.090976,    0.067857,    0.063009,    0.058135,    0.053238,    0.048315,           0,           0]]), 'Confidence', 'F1'], [array([          0,    0.001001,    0.002002,    0.003003,    0.004004,    0.005005,    0.006006,    0.007007,    0.008008,    0.009009,     0.01001,    0.011011,    0.012012,    0.013013,    0.014014,    0.015015,    0.016016,    0.017017,    0.018018,    0.019019,     0.02002,    0.021021,    0.022022,    0.023023,\n",
       "          0.024024,    0.025025,    0.026026,    0.027027,    0.028028,    0.029029,     0.03003,    0.031031,    0.032032,    0.033033,    0.034034,    0.035035,    0.036036,    0.037037,    0.038038,    0.039039,     0.04004,    0.041041,    0.042042,    0.043043,    0.044044,    0.045045,    0.046046,    0.047047,\n",
       "          0.048048,    0.049049,     0.05005,    0.051051,    0.052052,    0.053053,    0.054054,    0.055055,    0.056056,    0.057057,    0.058058,    0.059059,     0.06006,    0.061061,    0.062062,    0.063063,    0.064064,    0.065065,    0.066066,    0.067067,    0.068068,    0.069069,     0.07007,    0.071071,\n",
       "          0.072072,    0.073073,    0.074074,    0.075075,    0.076076,    0.077077,    0.078078,    0.079079,     0.08008,    0.081081,    0.082082,    0.083083,    0.084084,    0.085085,    0.086086,    0.087087,    0.088088,    0.089089,     0.09009,    0.091091,    0.092092,    0.093093,    0.094094,    0.095095,\n",
       "          0.096096,    0.097097,    0.098098,    0.099099,      0.1001,      0.1011,      0.1021,      0.1031,      0.1041,     0.10511,     0.10611,     0.10711,     0.10811,     0.10911,     0.11011,     0.11111,     0.11211,     0.11311,     0.11411,     0.11512,     0.11612,     0.11712,     0.11812,     0.11912,\n",
       "           0.12012,     0.12112,     0.12212,     0.12312,     0.12412,     0.12513,     0.12613,     0.12713,     0.12813,     0.12913,     0.13013,     0.13113,     0.13213,     0.13313,     0.13413,     0.13514,     0.13614,     0.13714,     0.13814,     0.13914,     0.14014,     0.14114,     0.14214,     0.14314,\n",
       "           0.14414,     0.14515,     0.14615,     0.14715,     0.14815,     0.14915,     0.15015,     0.15115,     0.15215,     0.15315,     0.15415,     0.15516,     0.15616,     0.15716,     0.15816,     0.15916,     0.16016,     0.16116,     0.16216,     0.16316,     0.16416,     0.16517,     0.16617,     0.16717,\n",
       "           0.16817,     0.16917,     0.17017,     0.17117,     0.17217,     0.17317,     0.17417,     0.17518,     0.17618,     0.17718,     0.17818,     0.17918,     0.18018,     0.18118,     0.18218,     0.18318,     0.18418,     0.18519,     0.18619,     0.18719,     0.18819,     0.18919,     0.19019,     0.19119,\n",
       "           0.19219,     0.19319,     0.19419,      0.1952,      0.1962,      0.1972,      0.1982,      0.1992,      0.2002,      0.2012,      0.2022,      0.2032,      0.2042,     0.20521,     0.20621,     0.20721,     0.20821,     0.20921,     0.21021,     0.21121,     0.21221,     0.21321,     0.21421,     0.21522,\n",
       "           0.21622,     0.21722,     0.21822,     0.21922,     0.22022,     0.22122,     0.22222,     0.22322,     0.22422,     0.22523,     0.22623,     0.22723,     0.22823,     0.22923,     0.23023,     0.23123,     0.23223,     0.23323,     0.23423,     0.23524,     0.23624,     0.23724,     0.23824,     0.23924,\n",
       "           0.24024,     0.24124,     0.24224,     0.24324,     0.24424,     0.24525,     0.24625,     0.24725,     0.24825,     0.24925,     0.25025,     0.25125,     0.25225,     0.25325,     0.25425,     0.25526,     0.25626,     0.25726,     0.25826,     0.25926,     0.26026,     0.26126,     0.26226,     0.26326,\n",
       "           0.26426,     0.26527,     0.26627,     0.26727,     0.26827,     0.26927,     0.27027,     0.27127,     0.27227,     0.27327,     0.27427,     0.27528,     0.27628,     0.27728,     0.27828,     0.27928,     0.28028,     0.28128,     0.28228,     0.28328,     0.28428,     0.28529,     0.28629,     0.28729,\n",
       "           0.28829,     0.28929,     0.29029,     0.29129,     0.29229,     0.29329,     0.29429,      0.2953,      0.2963,      0.2973,      0.2983,      0.2993,      0.3003,      0.3013,      0.3023,      0.3033,      0.3043,     0.30531,     0.30631,     0.30731,     0.30831,     0.30931,     0.31031,     0.31131,\n",
       "           0.31231,     0.31331,     0.31431,     0.31532,     0.31632,     0.31732,     0.31832,     0.31932,     0.32032,     0.32132,     0.32232,     0.32332,     0.32432,     0.32533,     0.32633,     0.32733,     0.32833,     0.32933,     0.33033,     0.33133,     0.33233,     0.33333,     0.33433,     0.33534,\n",
       "           0.33634,     0.33734,     0.33834,     0.33934,     0.34034,     0.34134,     0.34234,     0.34334,     0.34434,     0.34535,     0.34635,     0.34735,     0.34835,     0.34935,     0.35035,     0.35135,     0.35235,     0.35335,     0.35435,     0.35536,     0.35636,     0.35736,     0.35836,     0.35936,\n",
       "           0.36036,     0.36136,     0.36236,     0.36336,     0.36436,     0.36537,     0.36637,     0.36737,     0.36837,     0.36937,     0.37037,     0.37137,     0.37237,     0.37337,     0.37437,     0.37538,     0.37638,     0.37738,     0.37838,     0.37938,     0.38038,     0.38138,     0.38238,     0.38338,\n",
       "           0.38438,     0.38539,     0.38639,     0.38739,     0.38839,     0.38939,     0.39039,     0.39139,     0.39239,     0.39339,     0.39439,      0.3954,      0.3964,      0.3974,      0.3984,      0.3994,      0.4004,      0.4014,      0.4024,      0.4034,      0.4044,     0.40541,     0.40641,     0.40741,\n",
       "           0.40841,     0.40941,     0.41041,     0.41141,     0.41241,     0.41341,     0.41441,     0.41542,     0.41642,     0.41742,     0.41842,     0.41942,     0.42042,     0.42142,     0.42242,     0.42342,     0.42442,     0.42543,     0.42643,     0.42743,     0.42843,     0.42943,     0.43043,     0.43143,\n",
       "           0.43243,     0.43343,     0.43443,     0.43544,     0.43644,     0.43744,     0.43844,     0.43944,     0.44044,     0.44144,     0.44244,     0.44344,     0.44444,     0.44545,     0.44645,     0.44745,     0.44845,     0.44945,     0.45045,     0.45145,     0.45245,     0.45345,     0.45445,     0.45546,\n",
       "           0.45646,     0.45746,     0.45846,     0.45946,     0.46046,     0.46146,     0.46246,     0.46346,     0.46446,     0.46547,     0.46647,     0.46747,     0.46847,     0.46947,     0.47047,     0.47147,     0.47247,     0.47347,     0.47447,     0.47548,     0.47648,     0.47748,     0.47848,     0.47948,\n",
       "           0.48048,     0.48148,     0.48248,     0.48348,     0.48448,     0.48549,     0.48649,     0.48749,     0.48849,     0.48949,     0.49049,     0.49149,     0.49249,     0.49349,     0.49449,      0.4955,      0.4965,      0.4975,      0.4985,      0.4995,      0.5005,      0.5015,      0.5025,      0.5035,\n",
       "            0.5045,     0.50551,     0.50651,     0.50751,     0.50851,     0.50951,     0.51051,     0.51151,     0.51251,     0.51351,     0.51451,     0.51552,     0.51652,     0.51752,     0.51852,     0.51952,     0.52052,     0.52152,     0.52252,     0.52352,     0.52452,     0.52553,     0.52653,     0.52753,\n",
       "           0.52853,     0.52953,     0.53053,     0.53153,     0.53253,     0.53353,     0.53453,     0.53554,     0.53654,     0.53754,     0.53854,     0.53954,     0.54054,     0.54154,     0.54254,     0.54354,     0.54454,     0.54555,     0.54655,     0.54755,     0.54855,     0.54955,     0.55055,     0.55155,\n",
       "           0.55255,     0.55355,     0.55455,     0.55556,     0.55656,     0.55756,     0.55856,     0.55956,     0.56056,     0.56156,     0.56256,     0.56356,     0.56456,     0.56557,     0.56657,     0.56757,     0.56857,     0.56957,     0.57057,     0.57157,     0.57257,     0.57357,     0.57457,     0.57558,\n",
       "           0.57658,     0.57758,     0.57858,     0.57958,     0.58058,     0.58158,     0.58258,     0.58358,     0.58458,     0.58559,     0.58659,     0.58759,     0.58859,     0.58959,     0.59059,     0.59159,     0.59259,     0.59359,     0.59459,      0.5956,      0.5966,      0.5976,      0.5986,      0.5996,\n",
       "            0.6006,      0.6016,      0.6026,      0.6036,      0.6046,     0.60561,     0.60661,     0.60761,     0.60861,     0.60961,     0.61061,     0.61161,     0.61261,     0.61361,     0.61461,     0.61562,     0.61662,     0.61762,     0.61862,     0.61962,     0.62062,     0.62162,     0.62262,     0.62362,\n",
       "           0.62462,     0.62563,     0.62663,     0.62763,     0.62863,     0.62963,     0.63063,     0.63163,     0.63263,     0.63363,     0.63463,     0.63564,     0.63664,     0.63764,     0.63864,     0.63964,     0.64064,     0.64164,     0.64264,     0.64364,     0.64464,     0.64565,     0.64665,     0.64765,\n",
       "           0.64865,     0.64965,     0.65065,     0.65165,     0.65265,     0.65365,     0.65465,     0.65566,     0.65666,     0.65766,     0.65866,     0.65966,     0.66066,     0.66166,     0.66266,     0.66366,     0.66466,     0.66567,     0.66667,     0.66767,     0.66867,     0.66967,     0.67067,     0.67167,\n",
       "           0.67267,     0.67367,     0.67467,     0.67568,     0.67668,     0.67768,     0.67868,     0.67968,     0.68068,     0.68168,     0.68268,     0.68368,     0.68468,     0.68569,     0.68669,     0.68769,     0.68869,     0.68969,     0.69069,     0.69169,     0.69269,     0.69369,     0.69469,      0.6957,\n",
       "            0.6967,      0.6977,      0.6987,      0.6997,      0.7007,      0.7017,      0.7027,      0.7037,      0.7047,     0.70571,     0.70671,     0.70771,     0.70871,     0.70971,     0.71071,     0.71171,     0.71271,     0.71371,     0.71471,     0.71572,     0.71672,     0.71772,     0.71872,     0.71972,\n",
       "           0.72072,     0.72172,     0.72272,     0.72372,     0.72472,     0.72573,     0.72673,     0.72773,     0.72873,     0.72973,     0.73073,     0.73173,     0.73273,     0.73373,     0.73473,     0.73574,     0.73674,     0.73774,     0.73874,     0.73974,     0.74074,     0.74174,     0.74274,     0.74374,\n",
       "           0.74474,     0.74575,     0.74675,     0.74775,     0.74875,     0.74975,     0.75075,     0.75175,     0.75275,     0.75375,     0.75475,     0.75576,     0.75676,     0.75776,     0.75876,     0.75976,     0.76076,     0.76176,     0.76276,     0.76376,     0.76476,     0.76577,     0.76677,     0.76777,\n",
       "           0.76877,     0.76977,     0.77077,     0.77177,     0.77277,     0.77377,     0.77477,     0.77578,     0.77678,     0.77778,     0.77878,     0.77978,     0.78078,     0.78178,     0.78278,     0.78378,     0.78478,     0.78579,     0.78679,     0.78779,     0.78879,     0.78979,     0.79079,     0.79179,\n",
       "           0.79279,     0.79379,     0.79479,      0.7958,      0.7968,      0.7978,      0.7988,      0.7998,      0.8008,      0.8018,      0.8028,      0.8038,      0.8048,     0.80581,     0.80681,     0.80781,     0.80881,     0.80981,     0.81081,     0.81181,     0.81281,     0.81381,     0.81481,     0.81582,\n",
       "           0.81682,     0.81782,     0.81882,     0.81982,     0.82082,     0.82182,     0.82282,     0.82382,     0.82482,     0.82583,     0.82683,     0.82783,     0.82883,     0.82983,     0.83083,     0.83183,     0.83283,     0.83383,     0.83483,     0.83584,     0.83684,     0.83784,     0.83884,     0.83984,\n",
       "           0.84084,     0.84184,     0.84284,     0.84384,     0.84484,     0.84585,     0.84685,     0.84785,     0.84885,     0.84985,     0.85085,     0.85185,     0.85285,     0.85385,     0.85485,     0.85586,     0.85686,     0.85786,     0.85886,     0.85986,     0.86086,     0.86186,     0.86286,     0.86386,\n",
       "           0.86486,     0.86587,     0.86687,     0.86787,     0.86887,     0.86987,     0.87087,     0.87187,     0.87287,     0.87387,     0.87487,     0.87588,     0.87688,     0.87788,     0.87888,     0.87988,     0.88088,     0.88188,     0.88288,     0.88388,     0.88488,     0.88589,     0.88689,     0.88789,\n",
       "           0.88889,     0.88989,     0.89089,     0.89189,     0.89289,     0.89389,     0.89489,      0.8959,      0.8969,      0.8979,      0.8989,      0.8999,      0.9009,      0.9019,      0.9029,      0.9039,      0.9049,     0.90591,     0.90691,     0.90791,     0.90891,     0.90991,     0.91091,     0.91191,\n",
       "           0.91291,     0.91391,     0.91491,     0.91592,     0.91692,     0.91792,     0.91892,     0.91992,     0.92092,     0.92192,     0.92292,     0.92392,     0.92492,     0.92593,     0.92693,     0.92793,     0.92893,     0.92993,     0.93093,     0.93193,     0.93293,     0.93393,     0.93493,     0.93594,\n",
       "           0.93694,     0.93794,     0.93894,     0.93994,     0.94094,     0.94194,     0.94294,     0.94394,     0.94494,     0.94595,     0.94695,     0.94795,     0.94895,     0.94995,     0.95095,     0.95195,     0.95295,     0.95395,     0.95495,     0.95596,     0.95696,     0.95796,     0.95896,     0.95996,\n",
       "           0.96096,     0.96196,     0.96296,     0.96396,     0.96496,     0.96597,     0.96697,     0.96797,     0.96897,     0.96997,     0.97097,     0.97197,     0.97297,     0.97397,     0.97497,     0.97598,     0.97698,     0.97798,     0.97898,     0.97998,     0.98098,     0.98198,     0.98298,     0.98398,\n",
       "           0.98498,     0.98599,     0.98699,     0.98799,     0.98899,     0.98999,     0.99099,     0.99199,     0.99299,     0.99399,     0.99499,       0.996,       0.997,       0.998,       0.999,           1]), array([[   0.011111,    0.011111,    0.011111,    0.011111,    0.011322,    0.012189,    0.013394,    0.014912,    0.016479,    0.018186,    0.019916,     0.02149,    0.022881,    0.024704,    0.025956,    0.026972,    0.028954,    0.030715,    0.032593,    0.034536,    0.036124,    0.039002,    0.041809,\n",
       "           0.044994,    0.049542,    0.052439,    0.056502,    0.059004,    0.061869,    0.063929,    0.066241,     0.06825,    0.070098,    0.074031,      0.0781,    0.073193,     0.07598,    0.080039,    0.082297,     0.08668,    0.089732,    0.093244,    0.096312,    0.097969,     0.10174,     0.10344,\n",
       "            0.10457,     0.10915,     0.11381,     0.11529,     0.12272,     0.12476,      0.1297,     0.13479,     0.13569,     0.13842,      0.1485,     0.15319,     0.15646,     0.15816,     0.15886,     0.15955,     0.16025,     0.16132,     0.16318,     0.16535,     0.16764,     0.17009,     0.17364,\n",
       "            0.17614,     0.18397,     0.18652,     0.19288,     0.19577,     0.19764,      0.1995,      0.2016,     0.20378,     0.20579,     0.20771,     0.20965,     0.21173,     0.21381,     0.21745,     0.23114,     0.23397,      0.2368,     0.24024,     0.24343,      0.2449,     0.24638,     0.24785,\n",
       "            0.24932,     0.26107,     0.26607,     0.26859,     0.27112,     0.27342,     0.27533,     0.27724,     0.27915,     0.28106,     0.28262,     0.28413,     0.28565,     0.28717,     0.28868,      0.2902,     0.29223,      0.2943,     0.29638,     0.29845,     0.30057,     0.30282,     0.30506,\n",
       "            0.30731,     0.30956,     0.31377,     0.31905,     0.32398,     0.32861,     0.33324,     0.34148,     0.34754,     0.35069,     0.35385,     0.35701,     0.36037,     0.36751,     0.37465,     0.37676,     0.37861,     0.38046,     0.38232,     0.38417,     0.38602,     0.38787,     0.38972,\n",
       "            0.39884,     0.41089,     0.41314,      0.4154,     0.41765,      0.4199,     0.42215,      0.4244,     0.42666,     0.43264,     0.45683,     0.47428,     0.48023,     0.48617,     0.49211,     0.49806,     0.50042,     0.50104,     0.50166,     0.50228,      0.5029,     0.50352,     0.50414,\n",
       "            0.50476,     0.50538,       0.506,     0.50662,     0.50724,     0.50786,     0.50848,      0.5091,     0.50972,     0.51034,     0.51096,     0.51158,      0.5122,     0.51282,     0.51344,     0.51406,     0.51468,      0.5153,     0.51592,     0.51654,     0.51716,     0.51778,      0.5184,\n",
       "            0.51902,     0.51964,     0.52026,     0.52088,      0.5215,     0.52212,     0.52274,     0.52336,     0.52398,      0.5246,     0.52522,     0.52584,     0.52646,     0.52708,      0.5277,     0.52832,     0.52894,      0.5295,     0.52984,     0.53018,     0.53052,     0.53087,     0.53121,\n",
       "            0.53155,     0.53189,     0.53224,     0.53258,     0.53292,     0.53327,     0.53361,     0.53395,     0.53429,     0.53464,     0.53498,     0.53532,     0.53566,     0.53601,     0.53635,     0.53669,     0.53703,     0.53738,     0.53772,     0.53806,      0.5384,     0.53875,     0.53909,\n",
       "            0.53943,     0.53978,     0.54012,     0.54046,      0.5408,     0.54115,     0.54149,     0.54183,     0.54217,     0.54252,     0.54286,      0.5432,     0.54354,     0.54389,     0.54423,     0.54457,     0.54492,     0.54526,      0.5456,     0.54594,     0.54629,     0.54663,     0.54697,\n",
       "            0.54731,     0.54766,       0.548,     0.54834,     0.54868,     0.54903,     0.54937,     0.54971,     0.55005,      0.5504,     0.55074,     0.55108,     0.55143,     0.55177,     0.55211,     0.55245,      0.5528,     0.55314,     0.55348,     0.55382,     0.55417,     0.55451,     0.55485,\n",
       "            0.55519,     0.55554,     0.55588,     0.55622,     0.55657,     0.55691,     0.55725,     0.55759,     0.55794,     0.55828,     0.55862,     0.55896,     0.55931,     0.55965,     0.55999,     0.56033,     0.56068,     0.56102,     0.56136,      0.5617,     0.56205,     0.56239,     0.56277,\n",
       "            0.56316,     0.56355,     0.56394,     0.56433,     0.56472,     0.56511,      0.5655,     0.56589,     0.56628,     0.56667,     0.56707,     0.56746,     0.56785,     0.56824,     0.56863,     0.56902,     0.56941,      0.5698,     0.57019,     0.57058,     0.57097,     0.57136,     0.57176,\n",
       "            0.57215,     0.57254,     0.57293,     0.57332,     0.57371,      0.5741,     0.57449,     0.57488,     0.57527,     0.57566,     0.57606,     0.57645,     0.57684,     0.57723,     0.57762,     0.57801,      0.5784,     0.57879,     0.57918,     0.57957,     0.57996,     0.58036,     0.58075,\n",
       "            0.58114,     0.58153,     0.58192,     0.58231,      0.5827,     0.58309,     0.58348,     0.58387,     0.58426,     0.58465,     0.58505,     0.58544,     0.58583,     0.58622,     0.58661,       0.587,     0.58739,     0.58778,     0.58817,     0.58856,     0.58895,     0.58935,     0.58974,\n",
       "            0.59013,     0.59052,     0.59091,      0.5913,     0.59169,     0.59208,     0.59247,     0.59286,     0.59325,     0.59364,     0.59404,     0.59443,     0.59482,     0.59521,      0.5956,     0.59599,     0.59638,     0.59677,     0.59716,     0.59755,     0.59794,     0.59834,     0.59873,\n",
       "            0.59912,     0.59951,      0.5999,     0.60045,     0.60106,     0.60168,     0.60229,      0.6029,     0.60351,     0.60412,     0.60473,     0.60534,     0.60595,     0.60656,     0.60718,     0.60779,      0.6084,     0.60901,     0.60962,     0.61023,     0.61084,     0.61145,     0.61206,\n",
       "            0.61268,     0.61329,      0.6139,     0.61451,     0.61512,     0.61573,     0.61634,     0.61695,     0.61757,     0.61818,     0.61879,      0.6194,     0.62001,     0.62062,     0.62123,     0.62184,     0.62245,     0.62307,     0.62368,     0.62429,      0.6249,     0.62551,     0.62612,\n",
       "            0.62673,     0.62734,     0.62796,     0.62857,     0.62918,     0.62979,      0.6304,     0.63101,     0.63162,     0.63223,     0.63284,     0.63346,     0.63407,     0.63468,     0.63529,      0.6359,     0.63651,     0.63712,     0.63773,     0.63834,     0.63896,     0.63957,     0.64018,\n",
       "            0.64079,      0.6414,     0.64201,     0.64262,     0.64299,     0.64321,     0.64343,     0.64365,     0.64387,     0.64409,     0.64431,     0.64453,     0.64475,     0.64497,     0.64519,     0.64541,     0.64563,     0.64585,     0.64608,      0.6463,     0.64652,     0.64674,     0.64696,\n",
       "            0.64718,      0.6474,     0.64762,     0.64784,     0.64806,     0.64828,      0.6485,     0.64872,     0.64894,     0.64916,     0.64938,      0.6496,     0.64982,     0.65004,     0.65026,     0.65048,      0.6507,     0.65092,     0.65114,     0.65136,     0.65158,      0.6518,     0.65202,\n",
       "            0.65224,     0.65246,     0.65268,      0.6529,     0.65312,     0.65334,     0.65356,     0.65378,       0.654,     0.65422,     0.65444,     0.65466,     0.65488,      0.6551,     0.65532,     0.65554,     0.65576,     0.65598,      0.6562,     0.65642,     0.65664,     0.65686,     0.65708,\n",
       "             0.6573,     0.65752,     0.65774,     0.65796,     0.65818,      0.6584,     0.65862,     0.65884,     0.65906,     0.65928,      0.6595,     0.65973,     0.65995,     0.66017,     0.66039,     0.66061,     0.66083,     0.66105,     0.66127,     0.66149,     0.66171,     0.66193,     0.66215,\n",
       "            0.66237,     0.66259,     0.66281,     0.66303,     0.66325,     0.66347,     0.66369,     0.66391,     0.66413,     0.66435,     0.66457,     0.66479,     0.66501,     0.66523,     0.66545,     0.66567,     0.66589,     0.66611,     0.66633,     0.66655,     0.66677,     0.66699,     0.66721,\n",
       "            0.66743,     0.66765,     0.66787,     0.66809,     0.66831,     0.66853,     0.66875,     0.66897,     0.66919,     0.66941,     0.66963,     0.66985,     0.67007,     0.67029,     0.67051,     0.67073,     0.67095,     0.67117,     0.67139,     0.67161,     0.67183,     0.67205,     0.67227,\n",
       "            0.67249,     0.67271,     0.67293,     0.67315,     0.67337,      0.6736,     0.67382,     0.67404,     0.67426,     0.67448,      0.6747,     0.67492,     0.67514,     0.67536,     0.67558,      0.6758,     0.67602,     0.67624,     0.67646,     0.67668,      0.6769,     0.67712,     0.67734,\n",
       "            0.67756,     0.67778,       0.678,     0.67822,     0.67844,     0.67866,     0.67888,      0.6791,     0.67932,     0.67954,     0.67976,     0.67998,      0.6802,     0.68042,     0.68064,     0.68086,     0.68108,      0.6813,     0.68152,     0.68174,     0.68196,     0.68218,      0.6824,\n",
       "            0.68262,     0.68284,     0.68306,     0.68328,      0.6835,     0.68372,     0.68394,     0.68416,     0.68438,      0.6846,     0.68482,     0.68504,     0.68526,     0.68548,      0.6857,     0.68592,     0.68614,     0.68636,     0.68658,      0.6868,     0.68702,     0.68724,     0.68747,\n",
       "            0.68769,     0.68791,     0.68813,     0.68835,     0.68857,     0.68879,     0.68901,     0.68923,     0.68945,     0.68967,     0.68989,     0.69011,     0.69033,     0.69055,     0.69077,     0.69099,     0.69121,     0.69143,     0.69165,     0.69187,     0.69209,     0.69231,     0.69391,\n",
       "            0.69551,     0.69711,     0.69872,     0.70032,     0.70192,     0.70352,     0.70512,     0.70672,     0.70832,     0.70992,     0.71152,     0.71312,     0.71472,     0.71632,     0.71792,     0.71952,     0.72112,     0.72272,     0.72432,     0.72592,     0.72752,     0.72912,     0.73072,\n",
       "            0.73232,     0.73392,     0.73552,     0.73712,     0.73872,     0.74032,     0.74192,     0.74352,     0.74512,     0.74672,     0.74832,     0.74992,     0.75166,      0.7534,     0.75515,      0.7569,     0.75865,     0.76039,     0.76214,     0.76389,     0.76563,     0.76738,     0.76913,\n",
       "            0.77087,     0.77262,     0.77437,     0.77612,     0.77786,     0.77961,     0.78136,      0.7831,     0.78485,      0.7866,     0.78835,     0.79009,     0.79184,     0.79359,     0.79533,     0.79708,     0.79883,     0.80058,     0.80232,     0.80407,     0.80582,     0.80756,     0.80931,\n",
       "            0.81106,     0.81281,     0.81455,      0.8163,     0.81805,      0.8189,     0.81968,     0.82045,     0.82123,     0.82201,     0.82279,     0.82356,     0.82434,     0.82512,      0.8259,     0.82667,     0.82745,     0.82823,     0.82901,     0.82978,     0.83056,     0.83134,     0.83212,\n",
       "            0.83289,     0.83367,     0.83445,     0.83523,     0.83601,     0.83678,     0.83756,     0.83834,     0.83912,     0.83989,     0.84067,     0.84145,     0.84223,       0.843,     0.84378,     0.84456,     0.84534,     0.84611,     0.84689,     0.84767,     0.84845,     0.84922,        0.85,\n",
       "            0.85078,     0.85156,     0.85233,     0.85311,     0.85389,     0.85467,     0.85544,     0.85622,       0.857,     0.85778,     0.85855,     0.85933,     0.86011,     0.86089,     0.86166,     0.86244,     0.86322,       0.864,     0.86477,     0.86555,     0.86633,     0.86711,     0.86788,\n",
       "            0.86866,     0.86944,     0.87022,     0.87099,     0.87177,     0.87255,     0.87333,      0.8741,     0.87488,     0.87566,     0.87644,     0.87721,     0.87799,     0.87877,     0.87955,     0.88032,      0.8811,     0.88188,     0.88266,     0.88344,     0.88421,     0.88499,     0.88577,\n",
       "            0.88655,     0.88732,      0.8881,     0.88888,     0.88966,     0.89043,     0.89121,     0.89199,     0.89277,     0.89354,     0.89432,      0.8951,     0.89588,     0.89665,     0.89743,     0.89821,     0.89899,     0.89976,     0.90322,     0.90785,     0.91247,      0.9171,     0.92173,\n",
       "            0.92636,     0.93098,     0.93561,     0.94024,     0.94487,     0.94949,     0.95412,     0.95875,     0.96338,       0.968,     0.97263,     0.97726,     0.98188,     0.98651,     0.99114,     0.99577,           1,           1,           1,           1,           1,           1,           1,\n",
       "                  1,           1,           1,           1,           1,           1,           1,           1,           1,           1,           1,           1,           1,           1,           1,           1,           1,           1,           1,           1,           1,           1,           1,\n",
       "                  1,           1,           1,           1,           1,           1,           1,           1,           1,           1,           1,           1,           1,           1,           1,           1,           1,           1,           1,           1,           1,           1,           1,\n",
       "                  1,           1,           1,           1,           1,           1,           1,           1,           1,           1,           1,           1,           1,           1,           1,           1,           1,           1,           1,           1,           1,           1,           1,\n",
       "                  1,           1,           1,           1,           1,           1,           1,           1,           1,           1,           1,           1,           1,           1,           1,           1,           1,           1,           1,           1,           1,           1,           1,\n",
       "                  1,           1,           1,           1,           1,           1,           1,           1,           1,           1,           1]]), 'Confidence', 'Precision'], [array([          0,    0.001001,    0.002002,    0.003003,    0.004004,    0.005005,    0.006006,    0.007007,    0.008008,    0.009009,     0.01001,    0.011011,    0.012012,    0.013013,    0.014014,    0.015015,    0.016016,    0.017017,    0.018018,    0.019019,     0.02002,    0.021021,    0.022022,    0.023023,\n",
       "          0.024024,    0.025025,    0.026026,    0.027027,    0.028028,    0.029029,     0.03003,    0.031031,    0.032032,    0.033033,    0.034034,    0.035035,    0.036036,    0.037037,    0.038038,    0.039039,     0.04004,    0.041041,    0.042042,    0.043043,    0.044044,    0.045045,    0.046046,    0.047047,\n",
       "          0.048048,    0.049049,     0.05005,    0.051051,    0.052052,    0.053053,    0.054054,    0.055055,    0.056056,    0.057057,    0.058058,    0.059059,     0.06006,    0.061061,    0.062062,    0.063063,    0.064064,    0.065065,    0.066066,    0.067067,    0.068068,    0.069069,     0.07007,    0.071071,\n",
       "          0.072072,    0.073073,    0.074074,    0.075075,    0.076076,    0.077077,    0.078078,    0.079079,     0.08008,    0.081081,    0.082082,    0.083083,    0.084084,    0.085085,    0.086086,    0.087087,    0.088088,    0.089089,     0.09009,    0.091091,    0.092092,    0.093093,    0.094094,    0.095095,\n",
       "          0.096096,    0.097097,    0.098098,    0.099099,      0.1001,      0.1011,      0.1021,      0.1031,      0.1041,     0.10511,     0.10611,     0.10711,     0.10811,     0.10911,     0.11011,     0.11111,     0.11211,     0.11311,     0.11411,     0.11512,     0.11612,     0.11712,     0.11812,     0.11912,\n",
       "           0.12012,     0.12112,     0.12212,     0.12312,     0.12412,     0.12513,     0.12613,     0.12713,     0.12813,     0.12913,     0.13013,     0.13113,     0.13213,     0.13313,     0.13413,     0.13514,     0.13614,     0.13714,     0.13814,     0.13914,     0.14014,     0.14114,     0.14214,     0.14314,\n",
       "           0.14414,     0.14515,     0.14615,     0.14715,     0.14815,     0.14915,     0.15015,     0.15115,     0.15215,     0.15315,     0.15415,     0.15516,     0.15616,     0.15716,     0.15816,     0.15916,     0.16016,     0.16116,     0.16216,     0.16316,     0.16416,     0.16517,     0.16617,     0.16717,\n",
       "           0.16817,     0.16917,     0.17017,     0.17117,     0.17217,     0.17317,     0.17417,     0.17518,     0.17618,     0.17718,     0.17818,     0.17918,     0.18018,     0.18118,     0.18218,     0.18318,     0.18418,     0.18519,     0.18619,     0.18719,     0.18819,     0.18919,     0.19019,     0.19119,\n",
       "           0.19219,     0.19319,     0.19419,      0.1952,      0.1962,      0.1972,      0.1982,      0.1992,      0.2002,      0.2012,      0.2022,      0.2032,      0.2042,     0.20521,     0.20621,     0.20721,     0.20821,     0.20921,     0.21021,     0.21121,     0.21221,     0.21321,     0.21421,     0.21522,\n",
       "           0.21622,     0.21722,     0.21822,     0.21922,     0.22022,     0.22122,     0.22222,     0.22322,     0.22422,     0.22523,     0.22623,     0.22723,     0.22823,     0.22923,     0.23023,     0.23123,     0.23223,     0.23323,     0.23423,     0.23524,     0.23624,     0.23724,     0.23824,     0.23924,\n",
       "           0.24024,     0.24124,     0.24224,     0.24324,     0.24424,     0.24525,     0.24625,     0.24725,     0.24825,     0.24925,     0.25025,     0.25125,     0.25225,     0.25325,     0.25425,     0.25526,     0.25626,     0.25726,     0.25826,     0.25926,     0.26026,     0.26126,     0.26226,     0.26326,\n",
       "           0.26426,     0.26527,     0.26627,     0.26727,     0.26827,     0.26927,     0.27027,     0.27127,     0.27227,     0.27327,     0.27427,     0.27528,     0.27628,     0.27728,     0.27828,     0.27928,     0.28028,     0.28128,     0.28228,     0.28328,     0.28428,     0.28529,     0.28629,     0.28729,\n",
       "           0.28829,     0.28929,     0.29029,     0.29129,     0.29229,     0.29329,     0.29429,      0.2953,      0.2963,      0.2973,      0.2983,      0.2993,      0.3003,      0.3013,      0.3023,      0.3033,      0.3043,     0.30531,     0.30631,     0.30731,     0.30831,     0.30931,     0.31031,     0.31131,\n",
       "           0.31231,     0.31331,     0.31431,     0.31532,     0.31632,     0.31732,     0.31832,     0.31932,     0.32032,     0.32132,     0.32232,     0.32332,     0.32432,     0.32533,     0.32633,     0.32733,     0.32833,     0.32933,     0.33033,     0.33133,     0.33233,     0.33333,     0.33433,     0.33534,\n",
       "           0.33634,     0.33734,     0.33834,     0.33934,     0.34034,     0.34134,     0.34234,     0.34334,     0.34434,     0.34535,     0.34635,     0.34735,     0.34835,     0.34935,     0.35035,     0.35135,     0.35235,     0.35335,     0.35435,     0.35536,     0.35636,     0.35736,     0.35836,     0.35936,\n",
       "           0.36036,     0.36136,     0.36236,     0.36336,     0.36436,     0.36537,     0.36637,     0.36737,     0.36837,     0.36937,     0.37037,     0.37137,     0.37237,     0.37337,     0.37437,     0.37538,     0.37638,     0.37738,     0.37838,     0.37938,     0.38038,     0.38138,     0.38238,     0.38338,\n",
       "           0.38438,     0.38539,     0.38639,     0.38739,     0.38839,     0.38939,     0.39039,     0.39139,     0.39239,     0.39339,     0.39439,      0.3954,      0.3964,      0.3974,      0.3984,      0.3994,      0.4004,      0.4014,      0.4024,      0.4034,      0.4044,     0.40541,     0.40641,     0.40741,\n",
       "           0.40841,     0.40941,     0.41041,     0.41141,     0.41241,     0.41341,     0.41441,     0.41542,     0.41642,     0.41742,     0.41842,     0.41942,     0.42042,     0.42142,     0.42242,     0.42342,     0.42442,     0.42543,     0.42643,     0.42743,     0.42843,     0.42943,     0.43043,     0.43143,\n",
       "           0.43243,     0.43343,     0.43443,     0.43544,     0.43644,     0.43744,     0.43844,     0.43944,     0.44044,     0.44144,     0.44244,     0.44344,     0.44444,     0.44545,     0.44645,     0.44745,     0.44845,     0.44945,     0.45045,     0.45145,     0.45245,     0.45345,     0.45445,     0.45546,\n",
       "           0.45646,     0.45746,     0.45846,     0.45946,     0.46046,     0.46146,     0.46246,     0.46346,     0.46446,     0.46547,     0.46647,     0.46747,     0.46847,     0.46947,     0.47047,     0.47147,     0.47247,     0.47347,     0.47447,     0.47548,     0.47648,     0.47748,     0.47848,     0.47948,\n",
       "           0.48048,     0.48148,     0.48248,     0.48348,     0.48448,     0.48549,     0.48649,     0.48749,     0.48849,     0.48949,     0.49049,     0.49149,     0.49249,     0.49349,     0.49449,      0.4955,      0.4965,      0.4975,      0.4985,      0.4995,      0.5005,      0.5015,      0.5025,      0.5035,\n",
       "            0.5045,     0.50551,     0.50651,     0.50751,     0.50851,     0.50951,     0.51051,     0.51151,     0.51251,     0.51351,     0.51451,     0.51552,     0.51652,     0.51752,     0.51852,     0.51952,     0.52052,     0.52152,     0.52252,     0.52352,     0.52452,     0.52553,     0.52653,     0.52753,\n",
       "           0.52853,     0.52953,     0.53053,     0.53153,     0.53253,     0.53353,     0.53453,     0.53554,     0.53654,     0.53754,     0.53854,     0.53954,     0.54054,     0.54154,     0.54254,     0.54354,     0.54454,     0.54555,     0.54655,     0.54755,     0.54855,     0.54955,     0.55055,     0.55155,\n",
       "           0.55255,     0.55355,     0.55455,     0.55556,     0.55656,     0.55756,     0.55856,     0.55956,     0.56056,     0.56156,     0.56256,     0.56356,     0.56456,     0.56557,     0.56657,     0.56757,     0.56857,     0.56957,     0.57057,     0.57157,     0.57257,     0.57357,     0.57457,     0.57558,\n",
       "           0.57658,     0.57758,     0.57858,     0.57958,     0.58058,     0.58158,     0.58258,     0.58358,     0.58458,     0.58559,     0.58659,     0.58759,     0.58859,     0.58959,     0.59059,     0.59159,     0.59259,     0.59359,     0.59459,      0.5956,      0.5966,      0.5976,      0.5986,      0.5996,\n",
       "            0.6006,      0.6016,      0.6026,      0.6036,      0.6046,     0.60561,     0.60661,     0.60761,     0.60861,     0.60961,     0.61061,     0.61161,     0.61261,     0.61361,     0.61461,     0.61562,     0.61662,     0.61762,     0.61862,     0.61962,     0.62062,     0.62162,     0.62262,     0.62362,\n",
       "           0.62462,     0.62563,     0.62663,     0.62763,     0.62863,     0.62963,     0.63063,     0.63163,     0.63263,     0.63363,     0.63463,     0.63564,     0.63664,     0.63764,     0.63864,     0.63964,     0.64064,     0.64164,     0.64264,     0.64364,     0.64464,     0.64565,     0.64665,     0.64765,\n",
       "           0.64865,     0.64965,     0.65065,     0.65165,     0.65265,     0.65365,     0.65465,     0.65566,     0.65666,     0.65766,     0.65866,     0.65966,     0.66066,     0.66166,     0.66266,     0.66366,     0.66466,     0.66567,     0.66667,     0.66767,     0.66867,     0.66967,     0.67067,     0.67167,\n",
       "           0.67267,     0.67367,     0.67467,     0.67568,     0.67668,     0.67768,     0.67868,     0.67968,     0.68068,     0.68168,     0.68268,     0.68368,     0.68468,     0.68569,     0.68669,     0.68769,     0.68869,     0.68969,     0.69069,     0.69169,     0.69269,     0.69369,     0.69469,      0.6957,\n",
       "            0.6967,      0.6977,      0.6987,      0.6997,      0.7007,      0.7017,      0.7027,      0.7037,      0.7047,     0.70571,     0.70671,     0.70771,     0.70871,     0.70971,     0.71071,     0.71171,     0.71271,     0.71371,     0.71471,     0.71572,     0.71672,     0.71772,     0.71872,     0.71972,\n",
       "           0.72072,     0.72172,     0.72272,     0.72372,     0.72472,     0.72573,     0.72673,     0.72773,     0.72873,     0.72973,     0.73073,     0.73173,     0.73273,     0.73373,     0.73473,     0.73574,     0.73674,     0.73774,     0.73874,     0.73974,     0.74074,     0.74174,     0.74274,     0.74374,\n",
       "           0.74474,     0.74575,     0.74675,     0.74775,     0.74875,     0.74975,     0.75075,     0.75175,     0.75275,     0.75375,     0.75475,     0.75576,     0.75676,     0.75776,     0.75876,     0.75976,     0.76076,     0.76176,     0.76276,     0.76376,     0.76476,     0.76577,     0.76677,     0.76777,\n",
       "           0.76877,     0.76977,     0.77077,     0.77177,     0.77277,     0.77377,     0.77477,     0.77578,     0.77678,     0.77778,     0.77878,     0.77978,     0.78078,     0.78178,     0.78278,     0.78378,     0.78478,     0.78579,     0.78679,     0.78779,     0.78879,     0.78979,     0.79079,     0.79179,\n",
       "           0.79279,     0.79379,     0.79479,      0.7958,      0.7968,      0.7978,      0.7988,      0.7998,      0.8008,      0.8018,      0.8028,      0.8038,      0.8048,     0.80581,     0.80681,     0.80781,     0.80881,     0.80981,     0.81081,     0.81181,     0.81281,     0.81381,     0.81481,     0.81582,\n",
       "           0.81682,     0.81782,     0.81882,     0.81982,     0.82082,     0.82182,     0.82282,     0.82382,     0.82482,     0.82583,     0.82683,     0.82783,     0.82883,     0.82983,     0.83083,     0.83183,     0.83283,     0.83383,     0.83483,     0.83584,     0.83684,     0.83784,     0.83884,     0.83984,\n",
       "           0.84084,     0.84184,     0.84284,     0.84384,     0.84484,     0.84585,     0.84685,     0.84785,     0.84885,     0.84985,     0.85085,     0.85185,     0.85285,     0.85385,     0.85485,     0.85586,     0.85686,     0.85786,     0.85886,     0.85986,     0.86086,     0.86186,     0.86286,     0.86386,\n",
       "           0.86486,     0.86587,     0.86687,     0.86787,     0.86887,     0.86987,     0.87087,     0.87187,     0.87287,     0.87387,     0.87487,     0.87588,     0.87688,     0.87788,     0.87888,     0.87988,     0.88088,     0.88188,     0.88288,     0.88388,     0.88488,     0.88589,     0.88689,     0.88789,\n",
       "           0.88889,     0.88989,     0.89089,     0.89189,     0.89289,     0.89389,     0.89489,      0.8959,      0.8969,      0.8979,      0.8989,      0.8999,      0.9009,      0.9019,      0.9029,      0.9039,      0.9049,     0.90591,     0.90691,     0.90791,     0.90891,     0.90991,     0.91091,     0.91191,\n",
       "           0.91291,     0.91391,     0.91491,     0.91592,     0.91692,     0.91792,     0.91892,     0.91992,     0.92092,     0.92192,     0.92292,     0.92392,     0.92492,     0.92593,     0.92693,     0.92793,     0.92893,     0.92993,     0.93093,     0.93193,     0.93293,     0.93393,     0.93493,     0.93594,\n",
       "           0.93694,     0.93794,     0.93894,     0.93994,     0.94094,     0.94194,     0.94294,     0.94394,     0.94494,     0.94595,     0.94695,     0.94795,     0.94895,     0.94995,     0.95095,     0.95195,     0.95295,     0.95395,     0.95495,     0.95596,     0.95696,     0.95796,     0.95896,     0.95996,\n",
       "           0.96096,     0.96196,     0.96296,     0.96396,     0.96496,     0.96597,     0.96697,     0.96797,     0.96897,     0.96997,     0.97097,     0.97197,     0.97297,     0.97397,     0.97497,     0.97598,     0.97698,     0.97798,     0.97898,     0.97998,     0.98098,     0.98198,     0.98298,     0.98398,\n",
       "           0.98498,     0.98599,     0.98699,     0.98799,     0.98899,     0.98999,     0.99099,     0.99199,     0.99299,     0.99399,     0.99499,       0.996,       0.997,       0.998,       0.999,           1]), array([[    0.11765,     0.11765,     0.11765,     0.11765,     0.11765,     0.11765,     0.11765,     0.11765,     0.11765,     0.11765,     0.11765,     0.11765,     0.11765,     0.11765,     0.11765,     0.11765,     0.11765,     0.11765,     0.11765,     0.11765,     0.11765,     0.11765,     0.11765,\n",
       "            0.11765,     0.11765,     0.11765,     0.11765,     0.11765,     0.11765,     0.11765,     0.11765,     0.11765,     0.11765,     0.11765,     0.11765,     0.10588,     0.10588,     0.10588,     0.10588,     0.10588,     0.10588,     0.10588,     0.10588,     0.10588,     0.10588,     0.10588,\n",
       "            0.10588,     0.10588,     0.10588,     0.10588,     0.10588,     0.10588,     0.10588,     0.10588,     0.10588,     0.10588,     0.10588,     0.10588,     0.10588,     0.10588,     0.10588,     0.10588,     0.10588,     0.10588,     0.10588,     0.10588,     0.10588,     0.10588,     0.10588,\n",
       "            0.10588,     0.10588,     0.10588,     0.10588,     0.10588,     0.10588,     0.10588,     0.10588,     0.10588,     0.10588,     0.10588,     0.10588,     0.10588,     0.10588,     0.10588,     0.10588,     0.10588,     0.10588,     0.10588,     0.10588,     0.10588,     0.10588,     0.10588,\n",
       "            0.10588,     0.10588,     0.10588,     0.10588,     0.10588,     0.10588,     0.10588,     0.10588,     0.10588,     0.10588,     0.10588,     0.10588,     0.10588,     0.10588,     0.10588,     0.10588,     0.10588,     0.10588,     0.10588,     0.10588,     0.10588,     0.10588,     0.10588,\n",
       "            0.10588,     0.10588,     0.10588,     0.10588,     0.10588,     0.10588,     0.10588,     0.10588,     0.10588,     0.10588,     0.10588,     0.10588,     0.10588,     0.10588,     0.10588,     0.10588,     0.10588,     0.10588,     0.10588,     0.10588,     0.10588,     0.10588,     0.10588,\n",
       "            0.10588,     0.10588,     0.10588,     0.10588,     0.10588,     0.10588,     0.10588,     0.10588,     0.10588,     0.10588,     0.10588,     0.10588,     0.10588,     0.10588,     0.10588,     0.10588,     0.10588,     0.10588,     0.10588,     0.10588,     0.10588,     0.10588,     0.10588,\n",
       "            0.10588,     0.10588,     0.10588,     0.10588,     0.10588,     0.10588,     0.10588,     0.10588,     0.10588,     0.10588,     0.10588,     0.10588,     0.10588,     0.10588,     0.10588,     0.10588,     0.10588,     0.10588,     0.10588,     0.10588,     0.10588,     0.10588,     0.10588,\n",
       "            0.10588,     0.10588,     0.10588,     0.10588,     0.10588,     0.10588,     0.10588,     0.10588,     0.10588,     0.10588,     0.10588,     0.10588,     0.10588,     0.10588,     0.10588,     0.10588,     0.10588,     0.10588,     0.10588,     0.10588,     0.10588,     0.10588,     0.10588,\n",
       "            0.10588,     0.10588,     0.10588,     0.10588,     0.10588,     0.10588,     0.10588,     0.10588,     0.10588,     0.10588,     0.10588,     0.10588,     0.10588,     0.10588,     0.10588,     0.10588,     0.10588,     0.10588,     0.10588,     0.10588,     0.10588,     0.10588,     0.10588,\n",
       "            0.10588,     0.10588,     0.10588,     0.10588,     0.10588,     0.10588,     0.10588,     0.10588,     0.10588,     0.10588,     0.10588,     0.10588,     0.10588,     0.10588,     0.10588,     0.10588,     0.10588,     0.10588,     0.10588,     0.10588,     0.10588,     0.10588,     0.10588,\n",
       "            0.10588,     0.10588,     0.10588,     0.10588,     0.10588,     0.10588,     0.10588,     0.10588,     0.10588,     0.10588,     0.10588,     0.10588,     0.10588,     0.10588,     0.10588,     0.10588,     0.10588,     0.10588,     0.10588,     0.10588,     0.10588,     0.10588,     0.10588,\n",
       "            0.10588,     0.10588,     0.10588,     0.10588,     0.10588,     0.10588,     0.10588,     0.10588,     0.10588,     0.10588,     0.10588,     0.10588,     0.10588,     0.10588,     0.10588,     0.10588,     0.10588,     0.10588,     0.10588,     0.10588,     0.10588,     0.10588,     0.10588,\n",
       "            0.10588,     0.10588,     0.10588,     0.10588,     0.10588,     0.10588,     0.10588,     0.10588,     0.10588,     0.10588,     0.10588,     0.10588,     0.10588,     0.10588,     0.10588,     0.10588,     0.10588,     0.10588,     0.10588,     0.10588,     0.10588,     0.10588,     0.10588,\n",
       "            0.10588,     0.10588,     0.10588,     0.10588,     0.10588,     0.10588,     0.10588,     0.10588,     0.10588,     0.10588,     0.10588,     0.10588,     0.10588,     0.10588,     0.10588,     0.10588,     0.10588,     0.10588,     0.10588,     0.10588,     0.10588,     0.10588,     0.10588,\n",
       "            0.10588,     0.10588,     0.10588,     0.10588,     0.10588,     0.10588,     0.10588,     0.10588,     0.10588,     0.10588,     0.10588,     0.10588,     0.10588,     0.10588,     0.10588,     0.10588,     0.10588,     0.10588,     0.10588,     0.10588,     0.10588,     0.10588,     0.10588,\n",
       "            0.10588,     0.10588,     0.10588,     0.10588,     0.10588,     0.10588,     0.10588,     0.10588,     0.10588,     0.10588,     0.10588,     0.10588,     0.10588,     0.10588,     0.10588,     0.10588,     0.10588,     0.10588,     0.10588,     0.10588,     0.10588,     0.10588,     0.10588,\n",
       "            0.10588,     0.10588,     0.10588,     0.10588,     0.10588,     0.10588,     0.10588,     0.10588,     0.10588,     0.10588,     0.10588,     0.10588,     0.10588,     0.10588,     0.10588,     0.10588,     0.10588,     0.10588,     0.10588,     0.10588,     0.10588,     0.10588,     0.10588,\n",
       "            0.10588,     0.10588,     0.10588,     0.10588,     0.10588,     0.10588,     0.10588,     0.10588,     0.10588,     0.10588,     0.10588,     0.10588,     0.10588,     0.10588,     0.10588,     0.10588,     0.10588,     0.10588,     0.10588,     0.10588,     0.10588,     0.10588,     0.10588,\n",
       "            0.10588,     0.10588,     0.10588,     0.10588,     0.10588,     0.10588,     0.10588,     0.10588,     0.10588,     0.10588,     0.10588,     0.10588,     0.10588,     0.10588,     0.10588,     0.10588,     0.10588,     0.10588,     0.10588,     0.10588,     0.10588,     0.10588,     0.10588,\n",
       "            0.10588,     0.10588,     0.10588,     0.10588,     0.10588,     0.10588,     0.10588,     0.10588,     0.10588,     0.10588,     0.10588,     0.10588,     0.10588,     0.10588,     0.10588,     0.10588,     0.10588,     0.10588,     0.10588,     0.10588,     0.10588,     0.10588,     0.10588,\n",
       "            0.10588,     0.10588,     0.10588,     0.10588,     0.10588,     0.10588,     0.10588,     0.10588,     0.10588,     0.10588,     0.10588,     0.10588,     0.10588,     0.10588,     0.10588,     0.10588,     0.10588,     0.10588,     0.10588,     0.10588,     0.10588,     0.10588,     0.10588,\n",
       "            0.10588,     0.10588,     0.10588,     0.10588,     0.10588,     0.10588,     0.10588,     0.10588,     0.10588,     0.10588,     0.10588,     0.10588,     0.10588,     0.10588,     0.10588,     0.10588,     0.10588,     0.10588,     0.10588,     0.10588,     0.10588,     0.10588,     0.10588,\n",
       "            0.10588,     0.10588,     0.10588,     0.10588,     0.10588,     0.10588,     0.10588,     0.10588,     0.10588,     0.10588,     0.10588,     0.10588,     0.10588,     0.10588,     0.10588,     0.10588,     0.10588,     0.10588,     0.10588,     0.10588,     0.10588,     0.10588,     0.10588,\n",
       "            0.10588,     0.10588,     0.10588,     0.10588,     0.10588,     0.10588,     0.10588,     0.10588,     0.10588,     0.10588,     0.10588,     0.10588,     0.10588,     0.10588,     0.10588,     0.10588,     0.10588,     0.10588,     0.10588,     0.10588,     0.10588,     0.10588,     0.10588,\n",
       "            0.10588,     0.10588,     0.10588,     0.10588,     0.10588,     0.10588,     0.10588,     0.10588,     0.10588,     0.10588,     0.10588,     0.10588,     0.10588,     0.10588,     0.10588,     0.10588,     0.10588,     0.10588,     0.10588,     0.10588,     0.10588,     0.10588,     0.10588,\n",
       "            0.10588,     0.10588,     0.10588,     0.10588,     0.10588,     0.10588,     0.10588,     0.10588,     0.10588,     0.10588,     0.10588,     0.10588,     0.10588,     0.10588,     0.10588,     0.10588,     0.10588,     0.10588,     0.10588,     0.10588,     0.10588,     0.10588,     0.10588,\n",
       "            0.10588,     0.10588,     0.10588,     0.10588,     0.10588,     0.10588,     0.10588,     0.10588,     0.10588,     0.10588,     0.10588,     0.10588,     0.10588,     0.10588,     0.10588,     0.10588,     0.10588,     0.10588,     0.10588,     0.10588,     0.10588,     0.10588,     0.10588,\n",
       "            0.10588,     0.10588,     0.10588,     0.10588,     0.10588,     0.10588,     0.10588,     0.10588,     0.10588,     0.10588,     0.10588,     0.10588,     0.10588,     0.10588,     0.10588,     0.10588,     0.10588,     0.10588,     0.10588,     0.10588,     0.10588,     0.10588,     0.10588,\n",
       "            0.10588,     0.10588,     0.10588,     0.10588,     0.10588,     0.10588,     0.10588,     0.10588,     0.10588,     0.10588,     0.10588,     0.10588,     0.10588,     0.10588,     0.10588,     0.10588,     0.10588,     0.10588,     0.10588,     0.10588,     0.10588,     0.10588,     0.10588,\n",
       "            0.10588,     0.10588,     0.10588,     0.10588,     0.10588,     0.10588,     0.10588,     0.10588,     0.10588,     0.10588,     0.10588,     0.10588,     0.10588,     0.10588,     0.10588,     0.10588,     0.10588,     0.10588,     0.10588,     0.10588,     0.10588,     0.10588,     0.10588,\n",
       "            0.10588,     0.10588,     0.10588,     0.10588,     0.10588,     0.10588,     0.10588,     0.10588,     0.10588,     0.10588,     0.10588,     0.10588,     0.10588,     0.10588,     0.10588,     0.10588,     0.10588,     0.10588,     0.10588,     0.10588,     0.10588,     0.10588,     0.10588,\n",
       "            0.10588,     0.10588,     0.10588,     0.10588,     0.10588,     0.10588,     0.10588,     0.10588,     0.10588,     0.10588,     0.10588,     0.10588,     0.10588,     0.10588,     0.10588,     0.10588,     0.10588,     0.10588,     0.10588,     0.10588,     0.10588,     0.10588,     0.10588,\n",
       "            0.10588,     0.10588,     0.10588,     0.10588,     0.10588,     0.10588,     0.10588,     0.10588,     0.10588,     0.10588,     0.10588,     0.10588,     0.10588,     0.10588,     0.10588,     0.10588,     0.10588,     0.10588,     0.10588,     0.10588,     0.10588,     0.10588,     0.10588,\n",
       "            0.10588,     0.10588,     0.10588,     0.10588,     0.10588,     0.10588,     0.10588,     0.10588,     0.10588,     0.10588,     0.10588,     0.10588,     0.10588,     0.10588,     0.10588,     0.10588,     0.10588,     0.10588,     0.10588,     0.10588,     0.10588,     0.10588,     0.10588,\n",
       "            0.10588,     0.10588,     0.10588,     0.10588,     0.10588,     0.10588,     0.10588,     0.10588,     0.10588,     0.10588,     0.10588,     0.10588,     0.10588,     0.10588,     0.10588,     0.10588,     0.10588,     0.10588,     0.10588,     0.10588,     0.10588,     0.10588,     0.10588,\n",
       "            0.10588,     0.10588,     0.10588,     0.10588,     0.10588,     0.10588,     0.10588,     0.10588,     0.10588,     0.10588,     0.10588,     0.10588,     0.10588,     0.10588,     0.10588,     0.10588,     0.10588,     0.10588,     0.10588,     0.10588,     0.10588,     0.10588,     0.10588,\n",
       "            0.10588,     0.10588,     0.10588,     0.10588,     0.10588,     0.10588,     0.10588,     0.10588,     0.10588,     0.10588,     0.10588,     0.10588,     0.10588,     0.10588,     0.10588,     0.10588,     0.10588,     0.10588,     0.10588,     0.10588,     0.10588,     0.10588,     0.10588,\n",
       "            0.10588,     0.10588,     0.10588,     0.10588,     0.10588,     0.10588,     0.10588,     0.10588,     0.10588,     0.10588,     0.10588,     0.10588,     0.10588,     0.10588,     0.10588,     0.10588,     0.10584,     0.10539,     0.10494,     0.10449,     0.10403,     0.10358,     0.10313,\n",
       "            0.10268,     0.10222,     0.10177,     0.10132,     0.10087,     0.10041,    0.099961,    0.099509,    0.099057,    0.098604,    0.098152,    0.097699,    0.097247,    0.096794,    0.096342,    0.095889,    0.095437,    0.094984,    0.094532,    0.094083,    0.093673,    0.093264,    0.092854,\n",
       "           0.092445,    0.092035,    0.091626,    0.091217,    0.090807,    0.090398,    0.089988,    0.089579,    0.089169,     0.08876,     0.08835,    0.087941,    0.087531,    0.087122,    0.086713,    0.086303,    0.085894,    0.085484,    0.085075,    0.084665,    0.084256,    0.083846,    0.083437,\n",
       "           0.083027,    0.082618,    0.082244,    0.081937,    0.081629,    0.081321,    0.081014,    0.080706,    0.080398,    0.080091,    0.079783,    0.079475,    0.079168,     0.07886,    0.078552,    0.078245,    0.077937,     0.07763,    0.077322,    0.077014,    0.076707,    0.076399,    0.076091,\n",
       "           0.075784,    0.075476,    0.075168,    0.074861,    0.074553,    0.074245,    0.073938,     0.07363,    0.073322,    0.073015,    0.072707,    0.072399,    0.072092,    0.071784,    0.071476,    0.071169,    0.070861,    0.069331,     0.05875,    0.057363,    0.055976,    0.054589,    0.053203,\n",
       "           0.051816,    0.050429,    0.049042,    0.047656,     0.03512,    0.032529,    0.029938,    0.027347,    0.024756,           0,           0]]), 'Confidence', 'Recall']]\n",
       "fitness: 0.08044510355819642\n",
       "keys: ['metrics/precision(B)', 'metrics/recall(B)', 'metrics/mAP50(B)', 'metrics/mAP50-95(B)']\n",
       "maps: array([   0.077081])\n",
       "names: {0: 'flower'}\n",
       "plot: True\n",
       "results_dict: {'metrics/precision(B)': 0.8811024765367894, 'metrics/recall(B)': 0.10588235294117647, 'metrics/mAP50(B)': 0.11072491005291007, 'metrics/mAP50-95(B)': 0.07708068061433936, 'fitness': 0.08044510355819642}\n",
       "save_dir: PosixPath('runs/detect/train2')\n",
       "speed: {'preprocess': 1.4840960502624512, 'inference': 91.75100177526474, 'loss': 0.0, 'postprocess': 133.41955840587616}\n",
       "task: 'detect'"
      ]
     },
     "execution_count": 5,
     "metadata": {},
     "output_type": "execute_result"
    }
   ],
   "source": [
    "from ultralytics import YOLO\n",
    "import torch\n",
    "\n",
    "model = YOLO('yolo11n.pt').to(device)\n",
    "model.train(data='/Users/lywoo/Desktop/꽃 인식 DNN/flower.yaml', epochs=50)"
   ]
  },
  {
   "cell_type": "markdown",
   "metadata": {},
   "source": [
    "## **예측(txt값 뽑아내기)**"
   ]
  },
  {
   "cell_type": "code",
   "execution_count": 9,
   "metadata": {},
   "outputs": [
    {
     "name": "stdout",
     "output_type": "stream",
     "text": [
      "\n",
      "image 1/33 /Users/lywoo/Desktop/꽃 인식 DNN/datasets/test/images/20240412_131359.jpg: 384x640 1 flower, 7300.3ms\n",
      "image 2/33 /Users/lywoo/Desktop/꽃 인식 DNN/datasets/test/images/20240412_131412.jpg: 384x640 2 flowers, 60.1ms\n",
      "image 3/33 /Users/lywoo/Desktop/꽃 인식 DNN/datasets/test/images/20240412_132408.jpg: 384x640 4 flowers, 21.5ms\n",
      "image 4/33 /Users/lywoo/Desktop/꽃 인식 DNN/datasets/test/images/20240412_132412.jpg: 384x640 6 flowers, 20.3ms\n",
      "image 5/33 /Users/lywoo/Desktop/꽃 인식 DNN/datasets/test/images/20240412_132451.jpg: 384x640 5 flowers, 24.8ms\n",
      "image 6/33 /Users/lywoo/Desktop/꽃 인식 DNN/datasets/test/images/20240412_132453.jpg: 384x640 1 flower, 21.4ms\n",
      "image 7/33 /Users/lywoo/Desktop/꽃 인식 DNN/datasets/test/images/20240412_132458.jpg: 384x640 3 flowers, 28.8ms\n",
      "WARNING ⚠️ NMS time limit 2.050s exceeded\n",
      "image 8/33 /Users/lywoo/Desktop/꽃 인식 DNN/datasets/test/images/20240412_132507.jpg: 384x640 9 flowers, 23.0ms\n",
      "image 9/33 /Users/lywoo/Desktop/꽃 인식 DNN/datasets/test/images/20240412_132522.jpg: 640x384 (no detections), 5750.5ms\n",
      "image 10/33 /Users/lywoo/Desktop/꽃 인식 DNN/datasets/test/images/20240412_132559.jpg: 640x384 (no detections), 45.9ms\n",
      "image 11/33 /Users/lywoo/Desktop/꽃 인식 DNN/datasets/test/images/20240418_103559.jpg: 640x480 7 flowers, 7792.6ms\n",
      "image 12/33 /Users/lywoo/Desktop/꽃 인식 DNN/datasets/test/images/20240418_103709.jpg: 640x480 9 flowers, 52.1ms\n",
      "image 13/33 /Users/lywoo/Desktop/꽃 인식 DNN/datasets/test/images/20240418_103844.jpg: 640x480 2 flowers, 21.8ms\n",
      "image 14/33 /Users/lywoo/Desktop/꽃 인식 DNN/datasets/test/images/20240418_103955.jpg: 640x480 2 flowers, 22.0ms\n",
      "image 15/33 /Users/lywoo/Desktop/꽃 인식 DNN/datasets/test/images/20240418_104622.jpg: 640x480 (no detections), 22.7ms\n",
      "image 16/33 /Users/lywoo/Desktop/꽃 인식 DNN/datasets/test/images/KakaoTalk_20240418_130907386.jpg: 640x480 6 flowers, 21.8ms\n",
      "image 17/33 /Users/lywoo/Desktop/꽃 인식 DNN/datasets/test/images/KakaoTalk_20240418_130907386_06.jpg: 640x480 8 flowers, 21.9ms\n",
      "image 18/33 /Users/lywoo/Desktop/꽃 인식 DNN/datasets/test/images/KakaoTalk_20240418_130907386_07.jpg: 640x480 7 flowers, 57.1ms\n",
      "image 19/33 /Users/lywoo/Desktop/꽃 인식 DNN/datasets/test/images/KakaoTalk_20240418_130907386_10.jpg: 640x480 1 flower, 27.0ms\n",
      "image 20/33 /Users/lywoo/Desktop/꽃 인식 DNN/datasets/test/images/KakaoTalk_20240418_130907386_14.jpg: 640x480 8 flowers, 22.4ms\n",
      "image 21/33 /Users/lywoo/Desktop/꽃 인식 DNN/datasets/test/images/KakaoTalk_20240418_131003449_01.jpg: 640x480 6 flowers, 23.0ms\n",
      "image 22/33 /Users/lywoo/Desktop/꽃 인식 DNN/datasets/test/images/KakaoTalk_20240418_131003449_13.jpg: 640x480 (no detections), 22.0ms\n",
      "image 23/33 /Users/lywoo/Desktop/꽃 인식 DNN/datasets/test/images/KakaoTalk_20240418_131003449_14.jpg: 640x480 6 flowers, 22.6ms\n",
      "image 24/33 /Users/lywoo/Desktop/꽃 인식 DNN/datasets/test/images/KakaoTalk_20240418_131432057_07.jpg: 640x480 4 flowers, 21.7ms\n",
      "image 25/33 /Users/lywoo/Desktop/꽃 인식 DNN/datasets/test/images/KakaoTalk_20240418_131515511_01.jpg: 640x480 6 flowers, 22.1ms\n",
      "image 26/33 /Users/lywoo/Desktop/꽃 인식 DNN/datasets/test/images/KakaoTalk_20240418_131515511_02.jpg: 640x480 (no detections), 22.0ms\n",
      "image 27/33 /Users/lywoo/Desktop/꽃 인식 DNN/datasets/test/images/KakaoTalk_20240418_131515511_05.jpg: 640x480 1 flower, 21.6ms\n",
      "image 28/33 /Users/lywoo/Desktop/꽃 인식 DNN/datasets/test/images/KakaoTalk_20240418_131515511_09.jpg: 640x480 14 flowers, 45.7ms\n",
      "image 29/33 /Users/lywoo/Desktop/꽃 인식 DNN/datasets/test/images/KakaoTalk_20240418_131515511_10.jpg: 640x480 4 flowers, 21.9ms\n",
      "image 30/33 /Users/lywoo/Desktop/꽃 인식 DNN/datasets/test/images/KakaoTalk_20240418_131515511_11.jpg: 640x480 6 flowers, 22.3ms\n",
      "image 31/33 /Users/lywoo/Desktop/꽃 인식 DNN/datasets/test/images/KakaoTalk_Photo_2024-04-29-20-16-37 004.jpeg: 640x480 3 flowers, 68.7ms\n",
      "image 32/33 /Users/lywoo/Desktop/꽃 인식 DNN/datasets/test/images/KakaoTalk_Photo_2024-04-29-20-16-37 007.jpeg: 640x480 2 flowers, 27.8ms\n",
      "image 33/33 /Users/lywoo/Desktop/꽃 인식 DNN/datasets/test/images/KakaoTalk_Photo_2024-04-29-20-16-37 013.jpeg: 640x480 1 flower, 30.9ms\n",
      "Speed: 21.4ms preprocess, 658.5ms inference, 578.4ms postprocess per image at shape (1, 3, 640, 480)\n",
      "Results saved to \u001b[1mruns/detect/predict2\u001b[0m\n",
      "28 labels saved to runs/detect/predict2/labels\n",
      "[ultralytics.engine.results.Results object with attributes:\n",
      "\n",
      "boxes: ultralytics.engine.results.Boxes object\n",
      "keypoints: None\n",
      "masks: None\n",
      "names: {0: 'flower'}\n",
      "obb: None\n",
      "orig_img: array([[[ 22,  87,  65],\n",
      "        [ 23,  88,  66],\n",
      "        [ 23,  89,  64],\n",
      "        ...,\n",
      "        [ 33,  49,  62],\n",
      "        [ 34,  49,  65],\n",
      "        [ 34,  49,  65]],\n",
      "\n",
      "       [[ 22,  87,  65],\n",
      "        [ 24,  89,  67],\n",
      "        [ 24,  90,  65],\n",
      "        ...,\n",
      "        [ 39,  55,  68],\n",
      "        [ 34,  49,  65],\n",
      "        [ 31,  46,  62]],\n",
      "\n",
      "       [[ 22,  87,  62],\n",
      "        [ 23,  88,  63],\n",
      "        [ 25,  90,  65],\n",
      "        ...,\n",
      "        [ 34,  50,  63],\n",
      "        [ 29,  45,  58],\n",
      "        [ 25,  41,  54]],\n",
      "\n",
      "       ...,\n",
      "\n",
      "       [[100, 153, 186],\n",
      "        [ 98, 151, 184],\n",
      "        [ 98, 151, 184],\n",
      "        ...,\n",
      "        [ 94, 131, 157],\n",
      "        [ 93, 132, 160],\n",
      "        [ 92, 131, 159]],\n",
      "\n",
      "       [[102, 156, 189],\n",
      "        [102, 156, 189],\n",
      "        [105, 159, 192],\n",
      "        ...,\n",
      "        [ 89, 130, 153],\n",
      "        [ 91, 131, 156],\n",
      "        [ 90, 130, 155]],\n",
      "\n",
      "       [[102, 156, 189],\n",
      "        [104, 158, 191],\n",
      "        [108, 162, 195],\n",
      "        ...,\n",
      "        [ 82, 123, 146],\n",
      "        [ 84, 124, 149],\n",
      "        [ 83, 123, 148]]], dtype=uint8)\n",
      "orig_shape: (2268, 4032)\n",
      "path: '/Users/lywoo/Desktop/꽃 인식 DNN/datasets/test/images/20240412_131359.jpg'\n",
      "probs: None\n",
      "save_dir: 'runs/detect/predict2'\n",
      "speed: {'preprocess': 491.97912216186523, 'inference': 7300.33016204834, 'postprocess': 2463.131904602051}, ultralytics.engine.results.Results object with attributes:\n",
      "\n",
      "boxes: ultralytics.engine.results.Boxes object\n",
      "keypoints: None\n",
      "masks: None\n",
      "names: {0: 'flower'}\n",
      "obb: None\n",
      "orig_img: array([[[177, 188, 192],\n",
      "        [179, 190, 194],\n",
      "        [180, 191, 195],\n",
      "        ...,\n",
      "        [141, 149, 142],\n",
      "        [136, 144, 137],\n",
      "        [126, 134, 127]],\n",
      "\n",
      "       [[174, 185, 189],\n",
      "        [176, 187, 191],\n",
      "        [178, 189, 193],\n",
      "        ...,\n",
      "        [155, 163, 156],\n",
      "        [152, 160, 153],\n",
      "        [145, 153, 146]],\n",
      "\n",
      "       [[175, 186, 190],\n",
      "        [176, 187, 191],\n",
      "        [177, 188, 192],\n",
      "        ...,\n",
      "        [152, 160, 153],\n",
      "        [151, 158, 151],\n",
      "        [149, 156, 149]],\n",
      "\n",
      "       ...,\n",
      "\n",
      "       [[106, 156, 178],\n",
      "        [107, 157, 179],\n",
      "        [109, 159, 181],\n",
      "        ...,\n",
      "        [ 94, 154, 170],\n",
      "        [ 96, 156, 172],\n",
      "        [ 95, 155, 171]],\n",
      "\n",
      "       [[105, 155, 177],\n",
      "        [106, 156, 178],\n",
      "        [107, 157, 179],\n",
      "        ...,\n",
      "        [ 95, 155, 171],\n",
      "        [ 98, 158, 174],\n",
      "        [ 98, 158, 174]],\n",
      "\n",
      "       [[103, 153, 175],\n",
      "        [105, 155, 177],\n",
      "        [106, 156, 178],\n",
      "        ...,\n",
      "        [ 95, 155, 171],\n",
      "        [ 97, 157, 173],\n",
      "        [ 97, 157, 173]]], dtype=uint8)\n",
      "orig_shape: (2268, 4032)\n",
      "path: '/Users/lywoo/Desktop/꽃 인식 DNN/datasets/test/images/20240412_131412.jpg'\n",
      "probs: None\n",
      "save_dir: 'runs/detect/predict2'\n",
      "speed: {'preprocess': 3.4036636352539062, 'inference': 60.1201057434082, 'postprocess': 712.9290103912354}, ultralytics.engine.results.Results object with attributes:\n",
      "\n",
      "boxes: ultralytics.engine.results.Boxes object\n",
      "keypoints: None\n",
      "masks: None\n",
      "names: {0: 'flower'}\n",
      "obb: None\n",
      "orig_img: array([[[ 57, 134, 130],\n",
      "        [ 52, 129, 125],\n",
      "        [ 46, 123, 119],\n",
      "        ...,\n",
      "        [ 68, 146, 135],\n",
      "        [ 70, 147, 139],\n",
      "        [ 74, 153, 144]],\n",
      "\n",
      "       [[ 54, 131, 127],\n",
      "        [ 50, 127, 123],\n",
      "        [ 46, 123, 119],\n",
      "        ...,\n",
      "        [ 69, 145, 134],\n",
      "        [ 73, 150, 142],\n",
      "        [ 80, 159, 150]],\n",
      "\n",
      "       [[ 53, 130, 126],\n",
      "        [ 51, 128, 124],\n",
      "        [ 48, 125, 121],\n",
      "        ...,\n",
      "        [ 74, 150, 139],\n",
      "        [ 79, 157, 146],\n",
      "        [ 87, 165, 154]],\n",
      "\n",
      "       ...,\n",
      "\n",
      "       [[ 40,  57,  70],\n",
      "        [ 39,  56,  69],\n",
      "        [ 39,  56,  69],\n",
      "        ...,\n",
      "        [ 51, 114,  72],\n",
      "        [ 53, 116,  74],\n",
      "        [ 52, 115,  73]],\n",
      "\n",
      "       [[ 39,  56,  69],\n",
      "        [ 39,  56,  69],\n",
      "        [ 39,  56,  69],\n",
      "        ...,\n",
      "        [ 54, 117,  75],\n",
      "        [ 54, 117,  75],\n",
      "        [ 53, 116,  74]],\n",
      "\n",
      "       [[ 38,  55,  68],\n",
      "        [ 38,  55,  68],\n",
      "        [ 38,  55,  68],\n",
      "        ...,\n",
      "        [ 55, 118,  76],\n",
      "        [ 55, 118,  76],\n",
      "        [ 52, 115,  73]]], dtype=uint8)\n",
      "orig_shape: (2268, 4032)\n",
      "path: '/Users/lywoo/Desktop/꽃 인식 DNN/datasets/test/images/20240412_132408.jpg'\n",
      "probs: None\n",
      "save_dir: 'runs/detect/predict2'\n",
      "speed: {'preprocess': 2.6700496673583984, 'inference': 21.499156951904297, 'postprocess': 570.1136589050293}, ultralytics.engine.results.Results object with attributes:\n",
      "\n",
      "boxes: ultralytics.engine.results.Boxes object\n",
      "keypoints: None\n",
      "masks: None\n",
      "names: {0: 'flower'}\n",
      "obb: None\n",
      "orig_img: array([[[ 46,  63,  52],\n",
      "        [ 47,  64,  53],\n",
      "        [ 51,  68,  59],\n",
      "        ...,\n",
      "        [  0,  72,  46],\n",
      "        [  0,  72,  46],\n",
      "        [  2,  75,  49]],\n",
      "\n",
      "       [[ 56,  73,  62],\n",
      "        [ 51,  68,  57],\n",
      "        [ 50,  67,  58],\n",
      "        ...,\n",
      "        [  2,  75,  49],\n",
      "        [  2,  75,  49],\n",
      "        [  5,  78,  52]],\n",
      "\n",
      "       [[ 65,  82,  73],\n",
      "        [ 56,  73,  64],\n",
      "        [ 48,  65,  56],\n",
      "        ...,\n",
      "        [  3,  76,  50],\n",
      "        [  3,  76,  50],\n",
      "        [  5,  78,  52]],\n",
      "\n",
      "       ...,\n",
      "\n",
      "       [[121, 154, 187],\n",
      "        [120, 153, 186],\n",
      "        [119, 152, 185],\n",
      "        ...,\n",
      "        [ 78, 123, 156],\n",
      "        [ 78, 123, 156],\n",
      "        [ 79, 124, 157]],\n",
      "\n",
      "       [[121, 152, 185],\n",
      "        [121, 152, 185],\n",
      "        [120, 151, 184],\n",
      "        ...,\n",
      "        [ 79, 122, 155],\n",
      "        [ 79, 122, 155],\n",
      "        [ 80, 123, 156]],\n",
      "\n",
      "       [[120, 151, 184],\n",
      "        [120, 151, 184],\n",
      "        [119, 150, 183],\n",
      "        ...,\n",
      "        [ 78, 121, 154],\n",
      "        [ 78, 121, 154],\n",
      "        [ 79, 122, 155]]], dtype=uint8)\n",
      "orig_shape: (2268, 4032)\n",
      "path: '/Users/lywoo/Desktop/꽃 인식 DNN/datasets/test/images/20240412_132412.jpg'\n",
      "probs: None\n",
      "save_dir: 'runs/detect/predict2'\n",
      "speed: {'preprocess': 3.1909942626953125, 'inference': 20.277023315429688, 'postprocess': 509.66620445251465}, ultralytics.engine.results.Results object with attributes:\n",
      "\n",
      "boxes: ultralytics.engine.results.Boxes object\n",
      "keypoints: None\n",
      "masks: None\n",
      "names: {0: 'flower'}\n",
      "obb: None\n",
      "orig_img: array([[[ 74, 118, 141],\n",
      "        [ 71, 115, 138],\n",
      "        [ 71, 115, 138],\n",
      "        ...,\n",
      "        [ 82, 131, 163],\n",
      "        [ 83, 132, 164],\n",
      "        [ 84, 133, 165]],\n",
      "\n",
      "       [[ 73, 117, 140],\n",
      "        [ 73, 117, 140],\n",
      "        [ 76, 120, 143],\n",
      "        ...,\n",
      "        [ 81, 130, 162],\n",
      "        [ 80, 129, 161],\n",
      "        [ 80, 129, 161]],\n",
      "\n",
      "       [[ 74, 118, 141],\n",
      "        [ 74, 118, 141],\n",
      "        [ 74, 121, 143],\n",
      "        ...,\n",
      "        [ 81, 131, 161],\n",
      "        [ 79, 129, 159],\n",
      "        [ 78, 128, 158]],\n",
      "\n",
      "       ...,\n",
      "\n",
      "       [[126, 145, 153],\n",
      "        [123, 142, 150],\n",
      "        [121, 140, 148],\n",
      "        ...,\n",
      "        [ 88, 142, 175],\n",
      "        [ 89, 143, 176],\n",
      "        [ 89, 143, 176]],\n",
      "\n",
      "       [[123, 142, 150],\n",
      "        [122, 141, 149],\n",
      "        [122, 141, 149],\n",
      "        ...,\n",
      "        [ 89, 143, 176],\n",
      "        [ 89, 143, 176],\n",
      "        [ 90, 144, 177]],\n",
      "\n",
      "       [[120, 139, 147],\n",
      "        [121, 140, 148],\n",
      "        [124, 143, 151],\n",
      "        ...,\n",
      "        [ 86, 140, 173],\n",
      "        [ 86, 140, 173],\n",
      "        [ 87, 141, 174]]], dtype=uint8)\n",
      "orig_shape: (2268, 4032)\n",
      "path: '/Users/lywoo/Desktop/꽃 인식 DNN/datasets/test/images/20240412_132451.jpg'\n",
      "probs: None\n",
      "save_dir: 'runs/detect/predict2'\n",
      "speed: {'preprocess': 3.4270286560058594, 'inference': 24.773120880126953, 'postprocess': 128.5378932952881}, ultralytics.engine.results.Results object with attributes:\n",
      "\n",
      "boxes: ultralytics.engine.results.Boxes object\n",
      "keypoints: None\n",
      "masks: None\n",
      "names: {0: 'flower'}\n",
      "obb: None\n",
      "orig_img: array([[[108, 138, 157],\n",
      "        [109, 139, 158],\n",
      "        [111, 141, 160],\n",
      "        ...,\n",
      "        [ 67, 163, 152],\n",
      "        [ 70, 164, 153],\n",
      "        [ 72, 166, 155]],\n",
      "\n",
      "       [[104, 134, 153],\n",
      "        [105, 135, 154],\n",
      "        [106, 136, 155],\n",
      "        ...,\n",
      "        [ 67, 161, 150],\n",
      "        [ 67, 161, 150],\n",
      "        [ 67, 161, 150]],\n",
      "\n",
      "       [[104, 134, 153],\n",
      "        [105, 135, 154],\n",
      "        [106, 136, 155],\n",
      "        ...,\n",
      "        [ 75, 166, 157],\n",
      "        [ 73, 164, 155],\n",
      "        [ 70, 161, 152]],\n",
      "\n",
      "       ...,\n",
      "\n",
      "       [[ 95, 152, 183],\n",
      "        [ 95, 152, 183],\n",
      "        [ 97, 152, 183],\n",
      "        ...,\n",
      "        [ 78, 124, 158],\n",
      "        [ 85, 130, 167],\n",
      "        [ 92, 137, 174]],\n",
      "\n",
      "       [[ 96, 153, 184],\n",
      "        [ 96, 153, 184],\n",
      "        [ 98, 153, 184],\n",
      "        ...,\n",
      "        [ 74, 119, 152],\n",
      "        [ 81, 126, 160],\n",
      "        [ 87, 132, 166]],\n",
      "\n",
      "       [[ 99, 156, 187],\n",
      "        [ 99, 156, 187],\n",
      "        [101, 156, 187],\n",
      "        ...,\n",
      "        [ 73, 118, 151],\n",
      "        [ 78, 123, 157],\n",
      "        [ 80, 125, 159]]], dtype=uint8)\n",
      "orig_shape: (2268, 4032)\n",
      "path: '/Users/lywoo/Desktop/꽃 인식 DNN/datasets/test/images/20240412_132453.jpg'\n",
      "probs: None\n",
      "save_dir: 'runs/detect/predict2'\n",
      "speed: {'preprocess': 3.8001537322998047, 'inference': 21.440982818603516, 'postprocess': 819.1709518432617}, ultralytics.engine.results.Results object with attributes:\n",
      "\n",
      "boxes: ultralytics.engine.results.Boxes object\n",
      "keypoints: None\n",
      "masks: None\n",
      "names: {0: 'flower'}\n",
      "obb: None\n",
      "orig_img: array([[[ 88, 124, 100],\n",
      "        [ 91, 127, 103],\n",
      "        [ 96, 132, 108],\n",
      "        ...,\n",
      "        [ 90, 100,  94],\n",
      "        [ 81,  93,  87],\n",
      "        [ 68,  80,  74]],\n",
      "\n",
      "       [[ 95, 131, 107],\n",
      "        [ 98, 134, 110],\n",
      "        [101, 137, 113],\n",
      "        ...,\n",
      "        [ 86,  96,  90],\n",
      "        [ 81,  93,  87],\n",
      "        [ 76,  88,  82]],\n",
      "\n",
      "       [[ 97, 133, 109],\n",
      "        [ 99, 135, 111],\n",
      "        [102, 138, 114],\n",
      "        ...,\n",
      "        [ 81,  91,  85],\n",
      "        [ 82,  92,  86],\n",
      "        [ 86,  96,  90]],\n",
      "\n",
      "       ...,\n",
      "\n",
      "       [[109, 137, 154],\n",
      "        [108, 136, 153],\n",
      "        [107, 135, 152],\n",
      "        ...,\n",
      "        [108, 152, 183],\n",
      "        [111, 153, 182],\n",
      "        [112, 154, 183]],\n",
      "\n",
      "       [[109, 135, 151],\n",
      "        [109, 135, 151],\n",
      "        [108, 134, 150],\n",
      "        ...,\n",
      "        [111, 152, 184],\n",
      "        [111, 153, 182],\n",
      "        [112, 154, 183]],\n",
      "\n",
      "       [[109, 134, 150],\n",
      "        [109, 134, 150],\n",
      "        [108, 133, 149],\n",
      "        ...,\n",
      "        [111, 152, 184],\n",
      "        [112, 154, 183],\n",
      "        [113, 155, 184]]], dtype=uint8)\n",
      "orig_shape: (2268, 4032)\n",
      "path: '/Users/lywoo/Desktop/꽃 인식 DNN/datasets/test/images/20240412_132458.jpg'\n",
      "probs: None\n",
      "save_dir: 'runs/detect/predict2'\n",
      "speed: {'preprocess': 4.666805267333984, 'inference': 28.81908416748047, 'postprocess': 65.56987762451172}, ultralytics.engine.results.Results object with attributes:\n",
      "\n",
      "boxes: ultralytics.engine.results.Boxes object\n",
      "keypoints: None\n",
      "masks: None\n",
      "names: {0: 'flower'}\n",
      "obb: None\n",
      "orig_img: array([[[ 70, 121, 147],\n",
      "        [ 70, 122, 145],\n",
      "        [ 60, 108, 132],\n",
      "        ...,\n",
      "        [ 68, 139, 119],\n",
      "        [ 69, 140, 120],\n",
      "        [ 71, 142, 122]],\n",
      "\n",
      "       [[ 68, 119, 145],\n",
      "        [ 56, 106, 129],\n",
      "        [ 41,  89, 113],\n",
      "        ...,\n",
      "        [ 65, 136, 116],\n",
      "        [ 66, 137, 117],\n",
      "        [ 68, 139, 119]],\n",
      "\n",
      "       [[ 79, 128, 154],\n",
      "        [ 68, 118, 141],\n",
      "        [ 49,  97, 121],\n",
      "        ...,\n",
      "        [ 62, 133, 113],\n",
      "        [ 63, 133, 116],\n",
      "        [ 66, 136, 119]],\n",
      "\n",
      "       ...,\n",
      "\n",
      "       [[120, 172, 188],\n",
      "        [118, 170, 186],\n",
      "        [116, 168, 184],\n",
      "        ...,\n",
      "        [ 70, 120, 148],\n",
      "        [ 70, 120, 148],\n",
      "        [ 71, 121, 149]],\n",
      "\n",
      "       [[116, 170, 187],\n",
      "        [115, 169, 186],\n",
      "        [115, 169, 186],\n",
      "        ...,\n",
      "        [ 72, 122, 150],\n",
      "        [ 73, 123, 151],\n",
      "        [ 73, 123, 151]],\n",
      "\n",
      "       [[115, 169, 186],\n",
      "        [115, 169, 186],\n",
      "        [115, 169, 186],\n",
      "        ...,\n",
      "        [ 73, 123, 151],\n",
      "        [ 73, 123, 151],\n",
      "        [ 73, 123, 151]]], dtype=uint8)\n",
      "orig_shape: (2268, 4032)\n",
      "path: '/Users/lywoo/Desktop/꽃 인식 DNN/datasets/test/images/20240412_132507.jpg'\n",
      "probs: None\n",
      "save_dir: 'runs/detect/predict2'\n",
      "speed: {'preprocess': 5.661964416503906, 'inference': 22.980690002441406, 'postprocess': 2576.659917831421}, ultralytics.engine.results.Results object with attributes:\n",
      "\n",
      "boxes: ultralytics.engine.results.Boxes object\n",
      "keypoints: None\n",
      "masks: None\n",
      "names: {0: 'flower'}\n",
      "obb: None\n",
      "orig_img: array([[[ 52,  52,  34],\n",
      "        [ 51,  51,  33],\n",
      "        [ 51,  51,  33],\n",
      "        ...,\n",
      "        [ 70, 146, 134],\n",
      "        [ 72, 151, 138],\n",
      "        [ 65, 144, 131]],\n",
      "\n",
      "       [[ 54,  54,  36],\n",
      "        [ 54,  54,  36],\n",
      "        [ 54,  54,  36],\n",
      "        ...,\n",
      "        [ 71, 147, 135],\n",
      "        [ 73, 152, 139],\n",
      "        [ 69, 148, 135]],\n",
      "\n",
      "       [[ 54,  54,  36],\n",
      "        [ 54,  54,  36],\n",
      "        [ 54,  54,  36],\n",
      "        ...,\n",
      "        [ 67, 146, 133],\n",
      "        [ 71, 150, 137],\n",
      "        [ 71, 150, 137]],\n",
      "\n",
      "       ...,\n",
      "\n",
      "       [[112, 169, 214],\n",
      "        [112, 169, 214],\n",
      "        [112, 169, 214],\n",
      "        ...,\n",
      "        [ 97, 155, 184],\n",
      "        [ 96, 154, 183],\n",
      "        [ 95, 153, 182]],\n",
      "\n",
      "       [[112, 169, 214],\n",
      "        [112, 169, 214],\n",
      "        [112, 169, 214],\n",
      "        ...,\n",
      "        [ 98, 156, 185],\n",
      "        [ 96, 154, 183],\n",
      "        [ 95, 153, 182]],\n",
      "\n",
      "       [[112, 169, 214],\n",
      "        [112, 169, 214],\n",
      "        [112, 169, 214],\n",
      "        ...,\n",
      "        [ 98, 156, 185],\n",
      "        [ 96, 154, 183],\n",
      "        [ 94, 152, 181]]], dtype=uint8)\n",
      "orig_shape: (4032, 2268)\n",
      "path: '/Users/lywoo/Desktop/꽃 인식 DNN/datasets/test/images/20240412_132522.jpg'\n",
      "probs: None\n",
      "save_dir: 'runs/detect/predict2'\n",
      "speed: {'preprocess': 55.56082725524902, 'inference': 5750.53596496582, 'postprocess': 1.8260478973388672}, ultralytics.engine.results.Results object with attributes:\n",
      "\n",
      "boxes: ultralytics.engine.results.Boxes object\n",
      "keypoints: None\n",
      "masks: None\n",
      "names: {0: 'flower'}\n",
      "obb: None\n",
      "orig_img: array([[[196, 198, 198],\n",
      "        [196, 198, 198],\n",
      "        [195, 197, 197],\n",
      "        ...,\n",
      "        [202, 200, 200],\n",
      "        [201, 199, 199],\n",
      "        [201, 199, 199]],\n",
      "\n",
      "       [[196, 198, 198],\n",
      "        [196, 198, 198],\n",
      "        [196, 198, 198],\n",
      "        ...,\n",
      "        [202, 200, 200],\n",
      "        [201, 199, 199],\n",
      "        [201, 199, 199]],\n",
      "\n",
      "       [[196, 198, 198],\n",
      "        [196, 198, 198],\n",
      "        [196, 198, 198],\n",
      "        ...,\n",
      "        [202, 200, 200],\n",
      "        [200, 198, 198],\n",
      "        [200, 198, 198]],\n",
      "\n",
      "       ...,\n",
      "\n",
      "       [[  1,  95,  71],\n",
      "        [  1,  95,  71],\n",
      "        [  0,  93,  69],\n",
      "        ...,\n",
      "        [102, 133, 166],\n",
      "        [100, 131, 164],\n",
      "        [ 99, 130, 163]],\n",
      "\n",
      "       [[ 14, 108,  84],\n",
      "        [ 12, 106,  82],\n",
      "        [  9, 103,  79],\n",
      "        ...,\n",
      "        [101, 132, 165],\n",
      "        [100, 131, 164],\n",
      "        [ 99, 130, 163]],\n",
      "\n",
      "       [[ 32, 126, 102],\n",
      "        [ 29, 123,  99],\n",
      "        [ 24, 118,  94],\n",
      "        ...,\n",
      "        [101, 132, 165],\n",
      "        [100, 131, 164],\n",
      "        [100, 131, 164]]], dtype=uint8)\n",
      "orig_shape: (4032, 2268)\n",
      "path: '/Users/lywoo/Desktop/꽃 인식 DNN/datasets/test/images/20240412_132559.jpg'\n",
      "probs: None\n",
      "save_dir: 'runs/detect/predict2'\n",
      "speed: {'preprocess': 2.7801990509033203, 'inference': 45.8676815032959, 'postprocess': 1.680135726928711}, ultralytics.engine.results.Results object with attributes:\n",
      "\n",
      "boxes: ultralytics.engine.results.Boxes object\n",
      "keypoints: None\n",
      "masks: None\n",
      "names: {0: 'flower'}\n",
      "obb: None\n",
      "orig_img: array([[[118, 146, 140],\n",
      "        [118, 146, 140],\n",
      "        [123, 149, 143],\n",
      "        ...,\n",
      "        [ 51,  81,  70],\n",
      "        [ 55,  85,  74],\n",
      "        [ 57,  87,  76]],\n",
      "\n",
      "       [[118, 146, 140],\n",
      "        [120, 148, 142],\n",
      "        [124, 150, 144],\n",
      "        ...,\n",
      "        [ 45,  75,  64],\n",
      "        [ 57,  87,  76],\n",
      "        [ 69,  99,  88]],\n",
      "\n",
      "       [[117, 145, 139],\n",
      "        [120, 148, 142],\n",
      "        [122, 148, 142],\n",
      "        ...,\n",
      "        [ 46,  76,  65],\n",
      "        [ 56,  86,  75],\n",
      "        [ 67,  97,  86]],\n",
      "\n",
      "       ...,\n",
      "\n",
      "       [[ 20,  75,  56],\n",
      "        [ 21,  76,  57],\n",
      "        [ 26,  81,  62],\n",
      "        ...,\n",
      "        [ 47,  54,  47],\n",
      "        [ 41,  48,  41],\n",
      "        [ 41,  48,  41]],\n",
      "\n",
      "       [[ 24,  79,  60],\n",
      "        [ 21,  76,  57],\n",
      "        [ 22,  77,  58],\n",
      "        ...,\n",
      "        [ 49,  56,  49],\n",
      "        [ 43,  50,  43],\n",
      "        [ 42,  49,  42]],\n",
      "\n",
      "       [[ 28,  83,  64],\n",
      "        [ 20,  75,  56],\n",
      "        [ 17,  72,  53],\n",
      "        ...,\n",
      "        [ 47,  54,  47],\n",
      "        [ 45,  52,  45],\n",
      "        [ 47,  54,  47]]], dtype=uint8)\n",
      "orig_shape: (4032, 3024)\n",
      "path: '/Users/lywoo/Desktop/꽃 인식 DNN/datasets/test/images/20240418_103559.jpg'\n",
      "probs: None\n",
      "save_dir: 'runs/detect/predict2'\n",
      "speed: {'preprocess': 52.59299278259277, 'inference': 7792.616844177246, 'postprocess': 1467.607021331787}, ultralytics.engine.results.Results object with attributes:\n",
      "\n",
      "boxes: ultralytics.engine.results.Boxes object\n",
      "keypoints: None\n",
      "masks: None\n",
      "names: {0: 'flower'}\n",
      "obb: None\n",
      "orig_img: array([[[ 80, 138, 120],\n",
      "        [ 74, 132, 114],\n",
      "        [ 70, 128, 110],\n",
      "        ...,\n",
      "        [142, 147, 162],\n",
      "        [140, 145, 160],\n",
      "        [139, 144, 159]],\n",
      "\n",
      "       [[ 79, 137, 119],\n",
      "        [ 74, 132, 114],\n",
      "        [ 71, 129, 111],\n",
      "        ...,\n",
      "        [147, 152, 167],\n",
      "        [144, 149, 164],\n",
      "        [141, 146, 161]],\n",
      "\n",
      "       [[ 74, 132, 114],\n",
      "        [ 71, 129, 111],\n",
      "        [ 70, 128, 110],\n",
      "        ...,\n",
      "        [149, 153, 171],\n",
      "        [145, 149, 167],\n",
      "        [140, 144, 162]],\n",
      "\n",
      "       ...,\n",
      "\n",
      "       [[ 89, 129, 141],\n",
      "        [ 84, 124, 136],\n",
      "        [ 82, 122, 134],\n",
      "        ...,\n",
      "        [ 73, 125, 132],\n",
      "        [ 67, 119, 126],\n",
      "        [ 63, 115, 122]],\n",
      "\n",
      "       [[ 85, 125, 137],\n",
      "        [ 87, 127, 139],\n",
      "        [ 86, 126, 138],\n",
      "        ...,\n",
      "        [ 74, 126, 133],\n",
      "        [ 71, 123, 130],\n",
      "        [ 72, 124, 131]],\n",
      "\n",
      "       [[ 84, 124, 136],\n",
      "        [ 88, 128, 140],\n",
      "        [ 85, 125, 137],\n",
      "        ...,\n",
      "        [ 78, 130, 137],\n",
      "        [ 81, 133, 140],\n",
      "        [ 86, 138, 145]]], dtype=uint8)\n",
      "orig_shape: (4032, 3024)\n",
      "path: '/Users/lywoo/Desktop/꽃 인식 DNN/datasets/test/images/20240418_103709.jpg'\n",
      "probs: None\n",
      "save_dir: 'runs/detect/predict2'\n",
      "speed: {'preprocess': 3.4897327423095703, 'inference': 52.05726623535156, 'postprocess': 63.55404853820801}, ultralytics.engine.results.Results object with attributes:\n",
      "\n",
      "boxes: ultralytics.engine.results.Boxes object\n",
      "keypoints: None\n",
      "masks: None\n",
      "names: {0: 'flower'}\n",
      "obb: None\n",
      "orig_img: array([[[129, 132, 106],\n",
      "        [133, 136, 110],\n",
      "        [132, 135, 109],\n",
      "        ...,\n",
      "        [207, 181, 157],\n",
      "        [206, 180, 156],\n",
      "        [203, 177, 153]],\n",
      "\n",
      "       [[124, 127, 101],\n",
      "        [128, 131, 105],\n",
      "        [126, 129, 103],\n",
      "        ...,\n",
      "        [206, 180, 156],\n",
      "        [204, 178, 154],\n",
      "        [201, 175, 151]],\n",
      "\n",
      "       [[120, 123,  97],\n",
      "        [122, 125,  99],\n",
      "        [119, 124,  97],\n",
      "        ...,\n",
      "        [202, 176, 152],\n",
      "        [200, 174, 150],\n",
      "        [198, 172, 148]],\n",
      "\n",
      "       ...,\n",
      "\n",
      "       [[ 86,  94, 101],\n",
      "        [ 83,  91,  98],\n",
      "        [ 82,  90,  97],\n",
      "        ...,\n",
      "        [ 21,  87,  76],\n",
      "        [ 22,  88,  77],\n",
      "        [ 21,  87,  76]],\n",
      "\n",
      "       [[ 87,  95, 102],\n",
      "        [ 81,  89,  96],\n",
      "        [ 80,  88,  95],\n",
      "        ...,\n",
      "        [ 19,  85,  74],\n",
      "        [ 19,  85,  74],\n",
      "        [ 19,  85,  74]],\n",
      "\n",
      "       [[ 87,  95, 102],\n",
      "        [ 79,  87,  94],\n",
      "        [ 78,  86,  93],\n",
      "        ...,\n",
      "        [ 14,  80,  69],\n",
      "        [ 12,  78,  67],\n",
      "        [ 13,  79,  68]]], dtype=uint8)\n",
      "orig_shape: (4032, 3024)\n",
      "path: '/Users/lywoo/Desktop/꽃 인식 DNN/datasets/test/images/20240418_103844.jpg'\n",
      "probs: None\n",
      "save_dir: 'runs/detect/predict2'\n",
      "speed: {'preprocess': 3.2367706298828125, 'inference': 21.808862686157227, 'postprocess': 632.7002048492432}, ultralytics.engine.results.Results object with attributes:\n",
      "\n",
      "boxes: ultralytics.engine.results.Boxes object\n",
      "keypoints: None\n",
      "masks: None\n",
      "names: {0: 'flower'}\n",
      "obb: None\n",
      "orig_img: array([[[ 49,  76,  60],\n",
      "        [ 48,  75,  59],\n",
      "        [ 43,  72,  56],\n",
      "        ...,\n",
      "        [200, 138, 102],\n",
      "        [200, 138, 102],\n",
      "        [200, 138, 102]],\n",
      "\n",
      "       [[ 46,  73,  57],\n",
      "        [ 45,  72,  56],\n",
      "        [ 42,  71,  55],\n",
      "        ...,\n",
      "        [201, 139, 103],\n",
      "        [201, 139, 103],\n",
      "        [201, 139, 103]],\n",
      "\n",
      "       [[ 57,  84,  68],\n",
      "        [ 55,  82,  66],\n",
      "        [ 48,  77,  61],\n",
      "        ...,\n",
      "        [202, 140, 104],\n",
      "        [202, 140, 104],\n",
      "        [201, 139, 103]],\n",
      "\n",
      "       ...,\n",
      "\n",
      "       [[ 56,  97, 100],\n",
      "        [ 58,  99, 102],\n",
      "        [ 60, 103, 106],\n",
      "        ...,\n",
      "        [ 57, 108, 118],\n",
      "        [ 58, 109, 119],\n",
      "        [ 59, 110, 120]],\n",
      "\n",
      "       [[ 55,  98, 101],\n",
      "        [ 54,  97, 100],\n",
      "        [ 56,  99, 102],\n",
      "        ...,\n",
      "        [ 58, 111, 121],\n",
      "        [ 56, 109, 119],\n",
      "        [ 55, 108, 118]],\n",
      "\n",
      "       [[ 57, 100, 103],\n",
      "        [ 54,  97, 100],\n",
      "        [ 55,  98, 101],\n",
      "        ...,\n",
      "        [ 60, 113, 123],\n",
      "        [ 56, 109, 119],\n",
      "        [ 54, 107, 117]]], dtype=uint8)\n",
      "orig_shape: (4032, 3024)\n",
      "path: '/Users/lywoo/Desktop/꽃 인식 DNN/datasets/test/images/20240418_103955.jpg'\n",
      "probs: None\n",
      "save_dir: 'runs/detect/predict2'\n",
      "speed: {'preprocess': 3.326892852783203, 'inference': 21.960020065307617, 'postprocess': 655.9479236602783}, ultralytics.engine.results.Results object with attributes:\n",
      "\n",
      "boxes: ultralytics.engine.results.Boxes object\n",
      "keypoints: None\n",
      "masks: None\n",
      "names: {0: 'flower'}\n",
      "obb: None\n",
      "orig_img: array([[[ 87,  84,  70],\n",
      "        [ 88,  85,  71],\n",
      "        [ 86,  85,  71],\n",
      "        ...,\n",
      "        [ 83,  70,  54],\n",
      "        [ 80,  67,  51],\n",
      "        [ 77,  64,  48]],\n",
      "\n",
      "       [[ 88,  85,  71],\n",
      "        [ 88,  85,  71],\n",
      "        [ 86,  85,  71],\n",
      "        ...,\n",
      "        [ 86,  73,  57],\n",
      "        [ 84,  71,  55],\n",
      "        [ 82,  69,  53]],\n",
      "\n",
      "       [[ 91,  88,  74],\n",
      "        [ 91,  88,  74],\n",
      "        [ 87,  85,  74],\n",
      "        ...,\n",
      "        [ 85,  72,  56],\n",
      "        [ 82,  69,  53],\n",
      "        [ 79,  66,  50]],\n",
      "\n",
      "       ...,\n",
      "\n",
      "       [[ 46, 109, 107],\n",
      "        [ 41, 104, 102],\n",
      "        [ 38, 101,  99],\n",
      "        ...,\n",
      "        [ 95, 148, 161],\n",
      "        [101, 154, 167],\n",
      "        [110, 163, 176]],\n",
      "\n",
      "       [[ 45, 108, 106],\n",
      "        [ 43, 106, 104],\n",
      "        [ 40, 103, 101],\n",
      "        ...,\n",
      "        [ 95, 148, 161],\n",
      "        [107, 160, 173],\n",
      "        [124, 177, 190]],\n",
      "\n",
      "       [[ 36,  99,  97],\n",
      "        [ 38, 101,  99],\n",
      "        [ 39, 102, 100],\n",
      "        ...,\n",
      "        [ 97, 150, 163],\n",
      "        [109, 162, 175],\n",
      "        [129, 182, 195]]], dtype=uint8)\n",
      "orig_shape: (4032, 3024)\n",
      "path: '/Users/lywoo/Desktop/꽃 인식 DNN/datasets/test/images/20240418_104622.jpg'\n",
      "probs: None\n",
      "save_dir: 'runs/detect/predict2'\n",
      "speed: {'preprocess': 3.165006637573242, 'inference': 22.726774215698242, 'postprocess': 1.5540122985839844}, ultralytics.engine.results.Results object with attributes:\n",
      "\n",
      "boxes: ultralytics.engine.results.Boxes object\n",
      "keypoints: None\n",
      "masks: None\n",
      "names: {0: 'flower'}\n",
      "obb: None\n",
      "orig_img: array([[[115, 163, 199],\n",
      "        [123, 171, 207],\n",
      "        [113, 163, 199],\n",
      "        ...,\n",
      "        [117, 194, 180],\n",
      "        [128, 204, 192],\n",
      "        [127, 203, 191]],\n",
      "\n",
      "       [[108, 158, 194],\n",
      "        [110, 160, 196],\n",
      "        [102, 154, 190],\n",
      "        ...,\n",
      "        [120, 197, 183],\n",
      "        [107, 183, 171],\n",
      "        [109, 185, 173]],\n",
      "\n",
      "       [[101, 155, 190],\n",
      "        [ 99, 153, 188],\n",
      "        [105, 159, 194],\n",
      "        ...,\n",
      "        [ 97, 175, 158],\n",
      "        [110, 185, 171],\n",
      "        [ 97, 171, 159]],\n",
      "\n",
      "       ...,\n",
      "\n",
      "       [[ 62,  76,  95],\n",
      "        [ 45,  59,  78],\n",
      "        [ 46,  60,  82],\n",
      "        ...,\n",
      "        [108, 148, 183],\n",
      "        [ 96, 136, 171],\n",
      "        [ 99, 139, 174]],\n",
      "\n",
      "       [[ 49,  63,  82],\n",
      "        [ 25,  39,  58],\n",
      "        [ 35,  50,  69],\n",
      "        ...,\n",
      "        [107, 147, 182],\n",
      "        [103, 142, 180],\n",
      "        [ 99, 138, 176]],\n",
      "\n",
      "       [[ 49,  63,  82],\n",
      "        [ 71,  85, 104],\n",
      "        [ 67,  82, 101],\n",
      "        ...,\n",
      "        [ 99, 139, 174],\n",
      "        [ 98, 137, 175],\n",
      "        [103, 142, 180]]], dtype=uint8)\n",
      "orig_shape: (4000, 3000)\n",
      "path: '/Users/lywoo/Desktop/꽃 인식 DNN/datasets/test/images/KakaoTalk_20240418_130907386.jpg'\n",
      "probs: None\n",
      "save_dir: 'runs/detect/predict2'\n",
      "speed: {'preprocess': 3.2410621643066406, 'inference': 21.763086318969727, 'postprocess': 6.720066070556641}, ultralytics.engine.results.Results object with attributes:\n",
      "\n",
      "boxes: ultralytics.engine.results.Boxes object\n",
      "keypoints: None\n",
      "masks: None\n",
      "names: {0: 'flower'}\n",
      "obb: None\n",
      "orig_img: array([[[104, 142, 160],\n",
      "        [107, 145, 163],\n",
      "        [101, 140, 155],\n",
      "        ...,\n",
      "        [161, 174, 176],\n",
      "        [163, 178, 180],\n",
      "        [160, 178, 179]],\n",
      "\n",
      "       [[104, 142, 160],\n",
      "        [108, 146, 164],\n",
      "        [112, 151, 166],\n",
      "        ...,\n",
      "        [161, 176, 178],\n",
      "        [160, 178, 179],\n",
      "        [155, 173, 174]],\n",
      "\n",
      "       [[110, 148, 166],\n",
      "        [101, 139, 157],\n",
      "        [103, 141, 159],\n",
      "        ...,\n",
      "        [157, 172, 174],\n",
      "        [159, 177, 178],\n",
      "        [158, 178, 179]],\n",
      "\n",
      "       ...,\n",
      "\n",
      "       [[ 26,  29,  37],\n",
      "        [ 51,  54,  62],\n",
      "        [ 42,  45,  53],\n",
      "        ...,\n",
      "        [ 43,  87,  80],\n",
      "        [ 47,  91,  84],\n",
      "        [ 29,  73,  66]],\n",
      "\n",
      "       [[ 24,  26,  34],\n",
      "        [ 47,  49,  57],\n",
      "        [ 65,  67,  75],\n",
      "        ...,\n",
      "        [ 37,  83,  77],\n",
      "        [ 37,  81,  74],\n",
      "        [ 26,  70,  63]],\n",
      "\n",
      "       [[ 39,  41,  49],\n",
      "        [ 39,  41,  49],\n",
      "        [ 52,  54,  62],\n",
      "        ...,\n",
      "        [ 42,  88,  82],\n",
      "        [ 36,  80,  73],\n",
      "        [ 37,  81,  74]]], dtype=uint8)\n",
      "orig_shape: (4000, 3000)\n",
      "path: '/Users/lywoo/Desktop/꽃 인식 DNN/datasets/test/images/KakaoTalk_20240418_130907386_06.jpg'\n",
      "probs: None\n",
      "save_dir: 'runs/detect/predict2'\n",
      "speed: {'preprocess': 3.0930042266845703, 'inference': 21.907806396484375, 'postprocess': 1197.437047958374}, ultralytics.engine.results.Results object with attributes:\n",
      "\n",
      "boxes: ultralytics.engine.results.Boxes object\n",
      "keypoints: None\n",
      "masks: None\n",
      "names: {0: 'flower'}\n",
      "obb: None\n",
      "orig_img: array([[[ 16,  89,  73],\n",
      "        [ 13,  86,  70],\n",
      "        [  5,  76,  60],\n",
      "        ...,\n",
      "        [ 29,  62,  48],\n",
      "        [ 34,  67,  53],\n",
      "        [ 29,  62,  48]],\n",
      "\n",
      "       [[ 11,  84,  68],\n",
      "        [ 13,  84,  68],\n",
      "        [  3,  74,  58],\n",
      "        ...,\n",
      "        [ 27,  60,  46],\n",
      "        [ 24,  57,  43],\n",
      "        [ 31,  64,  50]],\n",
      "\n",
      "       [[ 15,  85,  68],\n",
      "        [ 10,  80,  63],\n",
      "        [ 14,  84,  67],\n",
      "        ...,\n",
      "        [ 26,  59,  45],\n",
      "        [ 13,  46,  32],\n",
      "        [ 22,  55,  41]],\n",
      "\n",
      "       ...,\n",
      "\n",
      "       [[ 32,  72,  54],\n",
      "        [ 13,  53,  35],\n",
      "        [ 11,  52,  31],\n",
      "        ...,\n",
      "        [ 80, 112, 125],\n",
      "        [ 72, 104, 115],\n",
      "        [ 69, 101, 112]],\n",
      "\n",
      "       [[ 24,  64,  46],\n",
      "        [ 20,  60,  42],\n",
      "        [ 14,  54,  36],\n",
      "        ...,\n",
      "        [ 78, 110, 123],\n",
      "        [ 72, 102, 113],\n",
      "        [ 75, 105, 116]],\n",
      "\n",
      "       [[ 16,  56,  38],\n",
      "        [ 25,  65,  47],\n",
      "        [ 16,  56,  38],\n",
      "        ...,\n",
      "        [ 72, 104, 117],\n",
      "        [ 74, 104, 115],\n",
      "        [ 76, 106, 117]]], dtype=uint8)\n",
      "orig_shape: (4000, 3000)\n",
      "path: '/Users/lywoo/Desktop/꽃 인식 DNN/datasets/test/images/KakaoTalk_20240418_130907386_07.jpg'\n",
      "probs: None\n",
      "save_dir: 'runs/detect/predict2'\n",
      "speed: {'preprocess': 3.5228729248046875, 'inference': 57.07693099975586, 'postprocess': 109.75098609924316}, ultralytics.engine.results.Results object with attributes:\n",
      "\n",
      "boxes: ultralytics.engine.results.Boxes object\n",
      "keypoints: None\n",
      "masks: None\n",
      "names: {0: 'flower'}\n",
      "obb: None\n",
      "orig_img: array([[[ 12,  71,  67],\n",
      "        [ 18,  75,  72],\n",
      "        [ 23,  77,  72],\n",
      "        ...,\n",
      "        [237, 209, 202],\n",
      "        [238, 210, 203],\n",
      "        [241, 213, 206]],\n",
      "\n",
      "       [[ 15,  74,  70],\n",
      "        [ 27,  85,  80],\n",
      "        [ 29,  83,  76],\n",
      "        ...,\n",
      "        [239, 211, 204],\n",
      "        [237, 209, 202],\n",
      "        [240, 212, 205]],\n",
      "\n",
      "       [[ 15,  74,  70],\n",
      "        [  7,  64,  61],\n",
      "        [ 28,  84,  79],\n",
      "        ...,\n",
      "        [240, 212, 205],\n",
      "        [238, 210, 203],\n",
      "        [240, 212, 205]],\n",
      "\n",
      "       ...,\n",
      "\n",
      "       [[  0,  47,  23],\n",
      "        [  5,  57,  33],\n",
      "        [ 10,  62,  38],\n",
      "        ...,\n",
      "        [ 35,  78, 105],\n",
      "        [ 40,  83, 110],\n",
      "        [ 66, 112, 136]],\n",
      "\n",
      "       [[  0,  49,  25],\n",
      "        [  6,  58,  34],\n",
      "        [ 14,  66,  42],\n",
      "        ...,\n",
      "        [ 52,  96, 120],\n",
      "        [ 52,  98, 122],\n",
      "        [ 59, 105, 129]],\n",
      "\n",
      "       [[  9,  61,  37],\n",
      "        [  3,  55,  31],\n",
      "        [  9,  61,  37],\n",
      "        ...,\n",
      "        [ 71, 117, 141],\n",
      "        [ 66, 115, 137],\n",
      "        [ 58, 107, 129]]], dtype=uint8)\n",
      "orig_shape: (4000, 3000)\n",
      "path: '/Users/lywoo/Desktop/꽃 인식 DNN/datasets/test/images/KakaoTalk_20240418_130907386_10.jpg'\n",
      "probs: None\n",
      "save_dir: 'runs/detect/predict2'\n",
      "speed: {'preprocess': 3.5982131958007812, 'inference': 27.0388126373291, 'postprocess': 437.71815299987793}, ultralytics.engine.results.Results object with attributes:\n",
      "\n",
      "boxes: ultralytics.engine.results.Boxes object\n",
      "keypoints: None\n",
      "masks: None\n",
      "names: {0: 'flower'}\n",
      "obb: None\n",
      "orig_img: array([[[251, 253, 254],\n",
      "        [251, 253, 254],\n",
      "        [251, 253, 254],\n",
      "        ...,\n",
      "        [  0,  22,  17],\n",
      "        [  0,  19,  14],\n",
      "        [  5,  28,  23]],\n",
      "\n",
      "       [[251, 253, 254],\n",
      "        [251, 253, 254],\n",
      "        [251, 253, 254],\n",
      "        ...,\n",
      "        [  9,  31,  26],\n",
      "        [  0,  20,  15],\n",
      "        [  0,  18,  13]],\n",
      "\n",
      "       [[251, 253, 254],\n",
      "        [251, 253, 254],\n",
      "        [251, 253, 254],\n",
      "        ...,\n",
      "        [  9,  29,  24],\n",
      "        [ 17,  39,  34],\n",
      "        [  1,  23,  18]],\n",
      "\n",
      "       ...,\n",
      "\n",
      "       [[ 28,  28,  34],\n",
      "        [ 28,  28,  34],\n",
      "        [ 26,  26,  32],\n",
      "        ...,\n",
      "        [ 28,  56,  91],\n",
      "        [ 35,  61,  97],\n",
      "        [ 40,  66, 102]],\n",
      "\n",
      "       [[ 33,  33,  39],\n",
      "        [ 32,  32,  38],\n",
      "        [ 24,  27,  32],\n",
      "        ...,\n",
      "        [ 33,  59,  99],\n",
      "        [ 36,  62, 102],\n",
      "        [ 34,  60, 100]],\n",
      "\n",
      "       [[ 34,  34,  40],\n",
      "        [ 31,  31,  37],\n",
      "        [ 24,  27,  32],\n",
      "        ...,\n",
      "        [ 31,  57,  97],\n",
      "        [ 34,  60, 100],\n",
      "        [ 35,  61, 101]]], dtype=uint8)\n",
      "orig_shape: (4000, 3000)\n",
      "path: '/Users/lywoo/Desktop/꽃 인식 DNN/datasets/test/images/KakaoTalk_20240418_130907386_14.jpg'\n",
      "probs: None\n",
      "save_dir: 'runs/detect/predict2'\n",
      "speed: {'preprocess': 2.9671192169189453, 'inference': 22.39394187927246, 'postprocess': 534.7130298614502}, ultralytics.engine.results.Results object with attributes:\n",
      "\n",
      "boxes: ultralytics.engine.results.Boxes object\n",
      "keypoints: None\n",
      "masks: None\n",
      "names: {0: 'flower'}\n",
      "obb: None\n",
      "orig_img: array([[[ 85, 157, 187],\n",
      "        [ 86, 158, 188],\n",
      "        [ 83, 153, 182],\n",
      "        ...,\n",
      "        [102, 157, 194],\n",
      "        [100, 155, 192],\n",
      "        [105, 160, 197]],\n",
      "\n",
      "       [[ 86, 158, 188],\n",
      "        [ 88, 158, 188],\n",
      "        [ 90, 160, 189],\n",
      "        ...,\n",
      "        [104, 159, 196],\n",
      "        [105, 160, 197],\n",
      "        [102, 157, 194]],\n",
      "\n",
      "       [[ 92, 159, 190],\n",
      "        [ 89, 156, 187],\n",
      "        [ 93, 160, 191],\n",
      "        ...,\n",
      "        [ 98, 153, 190],\n",
      "        [105, 160, 197],\n",
      "        [104, 159, 196]],\n",
      "\n",
      "       ...,\n",
      "\n",
      "       [[ 44,  68,  92],\n",
      "        [ 44,  68,  92],\n",
      "        [ 34,  56,  81],\n",
      "        ...,\n",
      "        [ 42,  78, 114],\n",
      "        [ 49,  83, 119],\n",
      "        [ 45,  79, 115]],\n",
      "\n",
      "       [[ 42,  66,  90],\n",
      "        [ 57,  81, 105],\n",
      "        [ 40,  62,  87],\n",
      "        ...,\n",
      "        [ 40,  76, 112],\n",
      "        [ 41,  75, 111],\n",
      "        [ 45,  79, 115]],\n",
      "\n",
      "       [[ 44,  68,  92],\n",
      "        [ 42,  66,  90],\n",
      "        [ 28,  50,  75],\n",
      "        ...,\n",
      "        [ 37,  73, 109],\n",
      "        [ 42,  76, 112],\n",
      "        [ 43,  77, 113]]], dtype=uint8)\n",
      "orig_shape: (4000, 3000)\n",
      "path: '/Users/lywoo/Desktop/꽃 인식 DNN/datasets/test/images/KakaoTalk_20240418_131003449_01.jpg'\n",
      "probs: None\n",
      "save_dir: 'runs/detect/predict2'\n",
      "speed: {'preprocess': 3.429889678955078, 'inference': 22.97186851501465, 'postprocess': 642.038106918335}, ultralytics.engine.results.Results object with attributes:\n",
      "\n",
      "boxes: ultralytics.engine.results.Boxes object\n",
      "keypoints: None\n",
      "masks: None\n",
      "names: {0: 'flower'}\n",
      "obb: None\n",
      "orig_img: array([[[154, 154, 148],\n",
      "        [157, 158, 154],\n",
      "        [176, 181, 179],\n",
      "        ...,\n",
      "        [  6,  99,  70],\n",
      "        [ 17, 110,  83],\n",
      "        [ 11, 104,  77]],\n",
      "\n",
      "       [[143, 143, 137],\n",
      "        [165, 166, 162],\n",
      "        [178, 183, 181],\n",
      "        ...,\n",
      "        [  6,  99,  70],\n",
      "        [ 18, 111,  84],\n",
      "        [ 15, 110,  83]],\n",
      "\n",
      "       [[133, 132, 128],\n",
      "        [152, 153, 151],\n",
      "        [174, 176, 176],\n",
      "        ...,\n",
      "        [ 18, 110,  81],\n",
      "        [ 14, 110,  80],\n",
      "        [  9, 107,  77]],\n",
      "\n",
      "       ...,\n",
      "\n",
      "       [[ 44,  77,  93],\n",
      "        [ 54,  86, 105],\n",
      "        [ 44,  75,  96],\n",
      "        ...,\n",
      "        [ 91, 130, 162],\n",
      "        [ 90, 134, 165],\n",
      "        [ 76, 122, 153]],\n",
      "\n",
      "       [[ 52,  82, 101],\n",
      "        [ 59,  89, 108],\n",
      "        [ 45,  76,  97],\n",
      "        ...,\n",
      "        [104, 146, 175],\n",
      "        [ 68, 115, 143],\n",
      "        [ 53, 100, 128]],\n",
      "\n",
      "       [[ 53,  83, 102],\n",
      "        [ 50,  80,  99],\n",
      "        [ 45,  76,  97],\n",
      "        ...,\n",
      "        [111, 153, 182],\n",
      "        [ 79, 126, 153],\n",
      "        [ 53, 102, 128]]], dtype=uint8)\n",
      "orig_shape: (4000, 3000)\n",
      "path: '/Users/lywoo/Desktop/꽃 인식 DNN/datasets/test/images/KakaoTalk_20240418_131003449_13.jpg'\n",
      "probs: None\n",
      "save_dir: 'runs/detect/predict2'\n",
      "speed: {'preprocess': 3.145933151245117, 'inference': 22.034883499145508, 'postprocess': 1.516103744506836}, ultralytics.engine.results.Results object with attributes:\n",
      "\n",
      "boxes: ultralytics.engine.results.Boxes object\n",
      "keypoints: None\n",
      "masks: None\n",
      "names: {0: 'flower'}\n",
      "obb: None\n",
      "orig_img: array([[[ 98, 148, 176],\n",
      "        [ 98, 148, 176],\n",
      "        [100, 150, 178],\n",
      "        ...,\n",
      "        [167, 219, 231],\n",
      "        [165, 218, 231],\n",
      "        [164, 219, 232]],\n",
      "\n",
      "       [[ 98, 148, 176],\n",
      "        [101, 151, 179],\n",
      "        [ 98, 148, 176],\n",
      "        ...,\n",
      "        [168, 220, 232],\n",
      "        [166, 219, 232],\n",
      "        [164, 219, 232]],\n",
      "\n",
      "       [[ 93, 147, 172],\n",
      "        [ 86, 140, 165],\n",
      "        [113, 167, 192],\n",
      "        ...,\n",
      "        [168, 220, 233],\n",
      "        [165, 218, 231],\n",
      "        [164, 217, 230]],\n",
      "\n",
      "       ...,\n",
      "\n",
      "       [[ 63, 105, 142],\n",
      "        [ 55,  97, 134],\n",
      "        [ 69, 106, 144],\n",
      "        ...,\n",
      "        [ 87, 137, 179],\n",
      "        [ 73, 124, 164],\n",
      "        [ 70, 121, 161]],\n",
      "\n",
      "       [[ 37,  82, 116],\n",
      "        [ 50,  92, 127],\n",
      "        [106, 144, 179],\n",
      "        ...,\n",
      "        [ 91, 141, 183],\n",
      "        [ 80, 131, 171],\n",
      "        [ 78, 129, 169]],\n",
      "\n",
      "       [[ 30,  75, 108],\n",
      "        [ 68, 111, 144],\n",
      "        [ 98, 139, 172],\n",
      "        ...,\n",
      "        [ 86, 136, 178],\n",
      "        [ 85, 136, 176],\n",
      "        [ 83, 134, 174]]], dtype=uint8)\n",
      "orig_shape: (4000, 3000)\n",
      "path: '/Users/lywoo/Desktop/꽃 인식 DNN/datasets/test/images/KakaoTalk_20240418_131003449_14.jpg'\n",
      "probs: None\n",
      "save_dir: 'runs/detect/predict2'\n",
      "speed: {'preprocess': 3.0770301818847656, 'inference': 22.64118194580078, 'postprocess': 322.30591773986816}, ultralytics.engine.results.Results object with attributes:\n",
      "\n",
      "boxes: ultralytics.engine.results.Boxes object\n",
      "keypoints: None\n",
      "masks: None\n",
      "names: {0: 'flower'}\n",
      "obb: None\n",
      "orig_img: array([[[ 91, 168, 160],\n",
      "        [ 99, 174, 166],\n",
      "        [ 94, 167, 159],\n",
      "        ...,\n",
      "        [ 76, 126, 132],\n",
      "        [ 71, 122, 125],\n",
      "        [ 69, 120, 123]],\n",
      "\n",
      "       [[ 70, 147, 139],\n",
      "        [ 69, 144, 136],\n",
      "        [ 73, 146, 138],\n",
      "        ...,\n",
      "        [ 90, 140, 146],\n",
      "        [ 83, 134, 137],\n",
      "        [ 90, 141, 144]],\n",
      "\n",
      "       [[ 46, 119, 111],\n",
      "        [ 11,  84,  76],\n",
      "        [ 23,  96,  88],\n",
      "        ...,\n",
      "        [106, 154, 160],\n",
      "        [105, 153, 157],\n",
      "        [103, 150, 154]],\n",
      "\n",
      "       ...,\n",
      "\n",
      "       [[  5,  38,  24],\n",
      "        [  4,  37,  23],\n",
      "        [  0,  33,  19],\n",
      "        ...,\n",
      "        [ 27,  72,  93],\n",
      "        [ 36,  81, 102],\n",
      "        [ 41,  86, 107]],\n",
      "\n",
      "       [[  0,  33,  19],\n",
      "        [  5,  38,  24],\n",
      "        [ 10,  43,  29],\n",
      "        ...,\n",
      "        [ 42,  87, 108],\n",
      "        [ 41,  86, 107],\n",
      "        [ 29,  74,  95]],\n",
      "\n",
      "       [[  6,  39,  25],\n",
      "        [  5,  38,  24],\n",
      "        [  5,  38,  24],\n",
      "        ...,\n",
      "        [ 40,  85, 106],\n",
      "        [ 46,  91, 112],\n",
      "        [ 36,  81, 102]]], dtype=uint8)\n",
      "orig_shape: (4000, 3000)\n",
      "path: '/Users/lywoo/Desktop/꽃 인식 DNN/datasets/test/images/KakaoTalk_20240418_131432057_07.jpg'\n",
      "probs: None\n",
      "save_dir: 'runs/detect/predict2'\n",
      "speed: {'preprocess': 3.0829906463623047, 'inference': 21.74210548400879, 'postprocess': 431.5769672393799}, ultralytics.engine.results.Results object with attributes:\n",
      "\n",
      "boxes: ultralytics.engine.results.Boxes object\n",
      "keypoints: None\n",
      "masks: None\n",
      "names: {0: 'flower'}\n",
      "obb: None\n",
      "orig_img: array([[[ 84, 197, 169],\n",
      "        [ 84, 197, 169],\n",
      "        [ 70, 183, 155],\n",
      "        ...,\n",
      "        [119, 190, 200],\n",
      "        [118, 189, 199],\n",
      "        [117, 188, 198]],\n",
      "\n",
      "       [[ 91, 207, 178],\n",
      "        [ 86, 202, 173],\n",
      "        [ 69, 185, 156],\n",
      "        ...,\n",
      "        [120, 191, 201],\n",
      "        [120, 191, 201],\n",
      "        [119, 190, 200]],\n",
      "\n",
      "       [[ 56, 172, 143],\n",
      "        [ 75, 191, 162],\n",
      "        [ 76, 192, 163],\n",
      "        ...,\n",
      "        [120, 191, 201],\n",
      "        [120, 191, 201],\n",
      "        [118, 189, 199]],\n",
      "\n",
      "       ...,\n",
      "\n",
      "       [[190, 186, 181],\n",
      "        [189, 185, 180],\n",
      "        [183, 180, 175],\n",
      "        ...,\n",
      "        [143, 198, 225],\n",
      "        [143, 198, 225],\n",
      "        [139, 194, 221]],\n",
      "\n",
      "       [[190, 184, 177],\n",
      "        [191, 188, 180],\n",
      "        [187, 185, 177],\n",
      "        ...,\n",
      "        [140, 195, 222],\n",
      "        [137, 192, 219],\n",
      "        [134, 189, 216]],\n",
      "\n",
      "       [[191, 185, 178],\n",
      "        [189, 186, 178],\n",
      "        [187, 185, 177],\n",
      "        ...,\n",
      "        [136, 191, 218],\n",
      "        [132, 187, 214],\n",
      "        [130, 185, 212]]], dtype=uint8)\n",
      "orig_shape: (4000, 3000)\n",
      "path: '/Users/lywoo/Desktop/꽃 인식 DNN/datasets/test/images/KakaoTalk_20240418_131515511_01.jpg'\n",
      "probs: None\n",
      "save_dir: 'runs/detect/predict2'\n",
      "speed: {'preprocess': 3.545999526977539, 'inference': 22.14789390563965, 'postprocess': 661.1661911010742}, ultralytics.engine.results.Results object with attributes:\n",
      "\n",
      "boxes: ultralytics.engine.results.Boxes object\n",
      "keypoints: None\n",
      "masks: None\n",
      "names: {0: 'flower'}\n",
      "obb: None\n",
      "orig_img: array([[[ 78, 130, 123],\n",
      "        [ 70, 124, 117],\n",
      "        [ 71, 132, 122],\n",
      "        ...,\n",
      "        [101, 164, 154],\n",
      "        [ 71, 132, 122],\n",
      "        [ 97, 158, 148]],\n",
      "\n",
      "       [[ 77, 129, 122],\n",
      "        [ 78, 135, 127],\n",
      "        [ 68, 131, 121],\n",
      "        ...,\n",
      "        [ 82, 145, 135],\n",
      "        [ 80, 143, 133],\n",
      "        [ 89, 150, 140]],\n",
      "\n",
      "       [[ 72, 123, 119],\n",
      "        [ 69, 123, 116],\n",
      "        [ 68, 129, 119],\n",
      "        ...,\n",
      "        [ 75, 139, 127],\n",
      "        [105, 169, 157],\n",
      "        [ 94, 158, 146]],\n",
      "\n",
      "       ...,\n",
      "\n",
      "       [[ 13, 108,  88],\n",
      "        [ 11, 106,  86],\n",
      "        [ 12, 105,  84],\n",
      "        ...,\n",
      "        [ 96, 167, 194],\n",
      "        [ 96, 167, 194],\n",
      "        [ 95, 169, 195]],\n",
      "\n",
      "       [[ 15, 109,  92],\n",
      "        [  9, 103,  86],\n",
      "        [ 10, 102,  83],\n",
      "        ...,\n",
      "        [ 99, 168, 195],\n",
      "        [ 98, 167, 194],\n",
      "        [ 98, 167, 194]],\n",
      "\n",
      "       [[ 13, 107,  90],\n",
      "        [  4,  98,  81],\n",
      "        [  8, 100,  81],\n",
      "        ...,\n",
      "        [ 98, 167, 194],\n",
      "        [ 97, 166, 193],\n",
      "        [ 99, 168, 195]]], dtype=uint8)\n",
      "orig_shape: (4000, 3000)\n",
      "path: '/Users/lywoo/Desktop/꽃 인식 DNN/datasets/test/images/KakaoTalk_20240418_131515511_02.jpg'\n",
      "probs: None\n",
      "save_dir: 'runs/detect/predict2'\n",
      "speed: {'preprocess': 3.1800270080566406, 'inference': 21.987199783325195, 'postprocess': 1.4109611511230469}, ultralytics.engine.results.Results object with attributes:\n",
      "\n",
      "boxes: ultralytics.engine.results.Boxes object\n",
      "keypoints: None\n",
      "masks: None\n",
      "names: {0: 'flower'}\n",
      "obb: None\n",
      "orig_img: array([[[ 50,  97,  88],\n",
      "        [ 53, 100,  92],\n",
      "        [ 61, 105,  99],\n",
      "        ...,\n",
      "        [ 51,  99, 100],\n",
      "        [ 49,  95,  96],\n",
      "        [ 52,  98,  99]],\n",
      "\n",
      "       [[ 52,  99,  90],\n",
      "        [ 52,  96,  89],\n",
      "        [ 65, 109, 103],\n",
      "        ...,\n",
      "        [ 58, 106, 107],\n",
      "        [ 51,  97,  98],\n",
      "        [ 44,  90,  91]],\n",
      "\n",
      "       [[ 46,  87,  82],\n",
      "        [ 49,  90,  85],\n",
      "        [ 63, 104,  99],\n",
      "        ...,\n",
      "        [ 40,  86,  87],\n",
      "        [ 57, 103, 104],\n",
      "        [ 52,  98,  99]],\n",
      "\n",
      "       ...,\n",
      "\n",
      "       [[146, 177, 202],\n",
      "        [137, 168, 193],\n",
      "        [122, 156, 179],\n",
      "        ...,\n",
      "        [ 42,  39,  35],\n",
      "        [ 32,  27,  24],\n",
      "        [ 50,  45,  42]],\n",
      "\n",
      "       [[137, 167, 192],\n",
      "        [136, 167, 192],\n",
      "        [131, 165, 188],\n",
      "        ...,\n",
      "        [ 60,  55,  52],\n",
      "        [ 42,  37,  34],\n",
      "        [ 43,  38,  35]],\n",
      "\n",
      "       [[151, 181, 206],\n",
      "        [143, 174, 199],\n",
      "        [147, 181, 204],\n",
      "        ...,\n",
      "        [ 49,  44,  41],\n",
      "        [ 51,  46,  43],\n",
      "        [ 42,  37,  34]]], dtype=uint8)\n",
      "orig_shape: (4000, 3000)\n",
      "path: '/Users/lywoo/Desktop/꽃 인식 DNN/datasets/test/images/KakaoTalk_20240418_131515511_05.jpg'\n",
      "probs: None\n",
      "save_dir: 'runs/detect/predict2'\n",
      "speed: {'preprocess': 3.0531883239746094, 'inference': 21.601200103759766, 'postprocess': 1481.7008972167969}, ultralytics.engine.results.Results object with attributes:\n",
      "\n",
      "boxes: ultralytics.engine.results.Boxes object\n",
      "keypoints: None\n",
      "masks: None\n",
      "names: {0: 'flower'}\n",
      "obb: None\n",
      "orig_img: array([[[212, 195, 182],\n",
      "        [210, 191, 178],\n",
      "        [211, 189, 177],\n",
      "        ...,\n",
      "        [ 13, 184, 175],\n",
      "        [  9, 184, 171],\n",
      "        [  7, 182, 168]],\n",
      "\n",
      "       [[211, 195, 182],\n",
      "        [213, 196, 183],\n",
      "        [211, 192, 179],\n",
      "        ...,\n",
      "        [ 13, 184, 175],\n",
      "        [  5, 177, 165],\n",
      "        [  6, 179, 165]],\n",
      "\n",
      "       [[214, 198, 186],\n",
      "        [211, 195, 183],\n",
      "        [219, 201, 190],\n",
      "        ...,\n",
      "        [ 12, 181, 172],\n",
      "        [  7, 177, 165],\n",
      "        [  3, 173, 161]],\n",
      "\n",
      "       ...,\n",
      "\n",
      "       [[ 12,  48,  34],\n",
      "        [ 13,  49,  35],\n",
      "        [ 11,  47,  33],\n",
      "        ...,\n",
      "        [  6,  58,  40],\n",
      "        [ 17,  69,  51],\n",
      "        [  7,  59,  41]],\n",
      "\n",
      "       [[  3,  40,  24],\n",
      "        [  3,  40,  24],\n",
      "        [  6,  43,  27],\n",
      "        ...,\n",
      "        [  3,  55,  37],\n",
      "        [  1,  56,  37],\n",
      "        [  0,  55,  36]],\n",
      "\n",
      "       [[ 16,  53,  37],\n",
      "        [  7,  44,  28],\n",
      "        [  1,  38,  22],\n",
      "        ...,\n",
      "        [  0,  50,  32],\n",
      "        [  0,  52,  33],\n",
      "        [  0,  54,  35]]], dtype=uint8)\n",
      "orig_shape: (4000, 3000)\n",
      "path: '/Users/lywoo/Desktop/꽃 인식 DNN/datasets/test/images/KakaoTalk_20240418_131515511_09.jpg'\n",
      "probs: None\n",
      "save_dir: 'runs/detect/predict2'\n",
      "speed: {'preprocess': 3.2930374145507812, 'inference': 45.66192626953125, 'postprocess': 676.65696144104}, ultralytics.engine.results.Results object with attributes:\n",
      "\n",
      "boxes: ultralytics.engine.results.Boxes object\n",
      "keypoints: None\n",
      "masks: None\n",
      "names: {0: 'flower'}\n",
      "obb: None\n",
      "orig_img: array([[[ 28,  37,  47],\n",
      "        [ 34,  43,  53],\n",
      "        [ 33,  42,  52],\n",
      "        ...,\n",
      "        [  6, 119,  99],\n",
      "        [  3, 116,  96],\n",
      "        [  2, 115,  95]],\n",
      "\n",
      "       [[ 31,  40,  50],\n",
      "        [ 33,  42,  52],\n",
      "        [ 28,  37,  47],\n",
      "        ...,\n",
      "        [  4, 119,  99],\n",
      "        [  0, 115,  95],\n",
      "        [  1, 116,  96]],\n",
      "\n",
      "       [[ 44,  51,  60],\n",
      "        [ 32,  39,  48],\n",
      "        [ 15,  21,  32],\n",
      "        ...,\n",
      "        [  0, 120,  99],\n",
      "        [  1, 123,  99],\n",
      "        [  0, 121,  97]],\n",
      "\n",
      "       ...,\n",
      "\n",
      "       [[147, 159, 187],\n",
      "        [145, 157, 185],\n",
      "        [145, 158, 184],\n",
      "        ...,\n",
      "        [123, 172, 204],\n",
      "        [123, 170, 202],\n",
      "        [124, 171, 203]],\n",
      "\n",
      "       [[147, 159, 187],\n",
      "        [143, 155, 183],\n",
      "        [139, 154, 180],\n",
      "        ...,\n",
      "        [120, 169, 201],\n",
      "        [119, 166, 198],\n",
      "        [125, 170, 203]],\n",
      "\n",
      "       [[148, 160, 188],\n",
      "        [142, 154, 182],\n",
      "        [138, 153, 179],\n",
      "        ...,\n",
      "        [120, 169, 201],\n",
      "        [121, 168, 200],\n",
      "        [123, 168, 201]]], dtype=uint8)\n",
      "orig_shape: (4000, 3000)\n",
      "path: '/Users/lywoo/Desktop/꽃 인식 DNN/datasets/test/images/KakaoTalk_20240418_131515511_10.jpg'\n",
      "probs: None\n",
      "save_dir: 'runs/detect/predict2'\n",
      "speed: {'preprocess': 3.0078887939453125, 'inference': 21.869182586669922, 'postprocess': 518.6560153961182}, ultralytics.engine.results.Results object with attributes:\n",
      "\n",
      "boxes: ultralytics.engine.results.Boxes object\n",
      "keypoints: None\n",
      "masks: None\n",
      "names: {0: 'flower'}\n",
      "obb: None\n",
      "orig_img: array([[[ 19,  66,  64],\n",
      "        [ 26,  73,  71],\n",
      "        [ 29,  78,  76],\n",
      "        ...,\n",
      "        [ 27,  57,  62],\n",
      "        [ 45,  75,  80],\n",
      "        [ 60,  90,  95]],\n",
      "\n",
      "       [[ 20,  67,  65],\n",
      "        [ 36,  83,  81],\n",
      "        [ 34,  83,  81],\n",
      "        ...,\n",
      "        [ 38,  68,  73],\n",
      "        [ 33,  63,  68],\n",
      "        [ 34,  64,  69]],\n",
      "\n",
      "       [[ 28,  75,  72],\n",
      "        [ 21,  68,  65],\n",
      "        [ 32,  81,  79],\n",
      "        ...,\n",
      "        [ 23,  53,  58],\n",
      "        [ 52,  82,  87],\n",
      "        [ 44,  74,  79]],\n",
      "\n",
      "       ...,\n",
      "\n",
      "       [[ 30,  82,  99],\n",
      "        [ 13,  65,  82],\n",
      "        [ 37,  87, 105],\n",
      "        ...,\n",
      "        [ 11, 122, 114],\n",
      "        [ 27, 142, 133],\n",
      "        [  0, 115, 106]],\n",
      "\n",
      "       [[ 32,  80,  98],\n",
      "        [ 31,  79,  97],\n",
      "        [ 49,  94, 115],\n",
      "        ...,\n",
      "        [  0,  94,  85],\n",
      "        [  0, 108,  98],\n",
      "        [ 14, 126, 118]],\n",
      "\n",
      "       [[ 39,  85, 103],\n",
      "        [ 37,  83, 101],\n",
      "        [ 48,  91, 112],\n",
      "        ...,\n",
      "        [  1, 105,  94],\n",
      "        [  4, 113, 104],\n",
      "        [ 15, 127, 117]]], dtype=uint8)\n",
      "orig_shape: (4000, 3000)\n",
      "path: '/Users/lywoo/Desktop/꽃 인식 DNN/datasets/test/images/KakaoTalk_20240418_131515511_11.jpg'\n",
      "probs: None\n",
      "save_dir: 'runs/detect/predict2'\n",
      "speed: {'preprocess': 3.1211376190185547, 'inference': 22.256851196289062, 'postprocess': 807.2059154510498}, ultralytics.engine.results.Results object with attributes:\n",
      "\n",
      "boxes: ultralytics.engine.results.Boxes object\n",
      "keypoints: None\n",
      "masks: None\n",
      "names: {0: 'flower'}\n",
      "obb: None\n",
      "orig_img: array([[[145, 202, 201],\n",
      "        [148, 205, 204],\n",
      "        [141, 198, 197],\n",
      "        ...,\n",
      "        [157, 174, 171],\n",
      "        [153, 170, 167],\n",
      "        [152, 169, 166]],\n",
      "\n",
      "       [[142, 199, 198],\n",
      "        [144, 201, 200],\n",
      "        [142, 199, 198],\n",
      "        ...,\n",
      "        [143, 160, 157],\n",
      "        [142, 159, 156],\n",
      "        [153, 170, 167]],\n",
      "\n",
      "       [[146, 203, 202],\n",
      "        [143, 200, 199],\n",
      "        [138, 195, 194],\n",
      "        ...,\n",
      "        [155, 172, 169],\n",
      "        [146, 163, 160],\n",
      "        [141, 158, 155]],\n",
      "\n",
      "       ...,\n",
      "\n",
      "       [[ 41,  59, 112],\n",
      "        [ 41,  59, 112],\n",
      "        [ 38,  56, 109],\n",
      "        ...,\n",
      "        [  6,  79,  63],\n",
      "        [  7,  78,  62],\n",
      "        [  2,  73,  57]],\n",
      "\n",
      "       [[ 37,  55, 108],\n",
      "        [ 42,  60, 113],\n",
      "        [ 44,  62, 115],\n",
      "        ...,\n",
      "        [  0,  73,  57],\n",
      "        [  3,  76,  60],\n",
      "        [  6,  79,  63]],\n",
      "\n",
      "       [[ 42,  60, 113],\n",
      "        [ 43,  61, 114],\n",
      "        [ 43,  61, 114],\n",
      "        ...,\n",
      "        [  2,  75,  59],\n",
      "        [  4,  77,  61],\n",
      "        [  0,  73,  57]]], dtype=uint8)\n",
      "orig_shape: (4032, 3024)\n",
      "path: '/Users/lywoo/Desktop/꽃 인식 DNN/datasets/test/images/KakaoTalk_Photo_2024-04-29-20-16-37 004.jpeg'\n",
      "probs: None\n",
      "save_dir: 'runs/detect/predict2'\n",
      "speed: {'preprocess': 4.841089248657227, 'inference': 68.68577003479004, 'postprocess': 560.6398582458496}, ultralytics.engine.results.Results object with attributes:\n",
      "\n",
      "boxes: ultralytics.engine.results.Boxes object\n",
      "keypoints: None\n",
      "masks: None\n",
      "names: {0: 'flower'}\n",
      "obb: None\n",
      "orig_img: array([[[152, 196, 225],\n",
      "        [144, 188, 217],\n",
      "        [151, 195, 224],\n",
      "        ...,\n",
      "        [  9,  87,  76],\n",
      "        [ 15,  93,  82],\n",
      "        [  0,  71,  60]],\n",
      "\n",
      "       [[143, 187, 216],\n",
      "        [142, 186, 215],\n",
      "        [148, 192, 221],\n",
      "        ...,\n",
      "        [  0,  72,  61],\n",
      "        [  0,  77,  66],\n",
      "        [ 17,  95,  84]],\n",
      "\n",
      "       [[149, 193, 222],\n",
      "        [150, 194, 223],\n",
      "        [149, 193, 222],\n",
      "        ...,\n",
      "        [  0,  75,  64],\n",
      "        [  0,  76,  65],\n",
      "        [  8,  86,  75]],\n",
      "\n",
      "       ...,\n",
      "\n",
      "       [[134, 174, 199],\n",
      "        [134, 174, 199],\n",
      "        [134, 174, 199],\n",
      "        ...,\n",
      "        [ 93, 121, 138],\n",
      "        [ 94, 122, 139],\n",
      "        [ 97, 125, 142]],\n",
      "\n",
      "       [[117, 157, 182],\n",
      "        [125, 165, 190],\n",
      "        [121, 161, 186],\n",
      "        ...,\n",
      "        [ 97, 127, 144],\n",
      "        [101, 129, 146],\n",
      "        [106, 134, 151]],\n",
      "\n",
      "       [[117, 157, 182],\n",
      "        [120, 160, 185],\n",
      "        [115, 155, 180],\n",
      "        ...,\n",
      "        [ 98, 128, 145],\n",
      "        [102, 130, 147],\n",
      "        [107, 135, 152]]], dtype=uint8)\n",
      "orig_shape: (4032, 3024)\n",
      "path: '/Users/lywoo/Desktop/꽃 인식 DNN/datasets/test/images/KakaoTalk_Photo_2024-04-29-20-16-37 007.jpeg'\n",
      "probs: None\n",
      "save_dir: 'runs/detect/predict2'\n",
      "speed: {'preprocess': 5.198955535888672, 'inference': 27.788162231445312, 'postprocess': 14.767885208129883}, ultralytics.engine.results.Results object with attributes:\n",
      "\n",
      "boxes: ultralytics.engine.results.Boxes object\n",
      "keypoints: None\n",
      "masks: None\n",
      "names: {0: 'flower'}\n",
      "obb: None\n",
      "orig_img: array([[[ 50, 138, 122],\n",
      "        [ 58, 146, 130],\n",
      "        [ 54, 142, 126],\n",
      "        ...,\n",
      "        [249, 223, 206],\n",
      "        [250, 224, 207],\n",
      "        [251, 225, 208]],\n",
      "\n",
      "       [[ 49, 137, 121],\n",
      "        [ 46, 134, 118],\n",
      "        [ 54, 142, 126],\n",
      "        ...,\n",
      "        [249, 223, 206],\n",
      "        [249, 223, 206],\n",
      "        [250, 224, 207]],\n",
      "\n",
      "       [[ 48, 136, 120],\n",
      "        [ 46, 134, 118],\n",
      "        [ 44, 132, 116],\n",
      "        ...,\n",
      "        [248, 222, 205],\n",
      "        [247, 221, 204],\n",
      "        [248, 222, 205]],\n",
      "\n",
      "       ...,\n",
      "\n",
      "       [[146, 193, 221],\n",
      "        [146, 193, 221],\n",
      "        [145, 192, 220],\n",
      "        ...,\n",
      "        [113, 148, 161],\n",
      "        [112, 147, 160],\n",
      "        [119, 154, 167]],\n",
      "\n",
      "       [[145, 192, 220],\n",
      "        [144, 191, 219],\n",
      "        [146, 193, 221],\n",
      "        ...,\n",
      "        [111, 145, 158],\n",
      "        [108, 142, 155],\n",
      "        [117, 151, 164]],\n",
      "\n",
      "       [[145, 192, 220],\n",
      "        [144, 191, 219],\n",
      "        [148, 195, 223],\n",
      "        ...,\n",
      "        [110, 144, 157],\n",
      "        [108, 142, 155],\n",
      "        [119, 153, 166]]], dtype=uint8)\n",
      "orig_shape: (4032, 3024)\n",
      "path: '/Users/lywoo/Desktop/꽃 인식 DNN/datasets/test/images/KakaoTalk_Photo_2024-04-29-20-16-37 013.jpeg'\n",
      "probs: None\n",
      "save_dir: 'runs/detect/predict2'\n",
      "speed: {'preprocess': 3.6439895629882812, 'inference': 30.9298038482666, 'postprocess': 12.18414306640625}]\n"
     ]
    }
   ],
   "source": [
    "from ultralytics import YOLO\n",
    "\n",
    "model = YOLO('/Users/lywoo/Desktop/꽃 인식 DNN/runs/detect/train2/weights/best.pt').to(device)\n",
    "\n",
    "test_data_path = '/Users/lywoo/Desktop/꽃 인식 DNN/datasets/test/images'\n",
    "\n",
    "results = model.predict(source=test_data_path, save=True, save_txt=True)\n",
    "print(results)"
   ]
  },
  {
   "cell_type": "markdown",
   "metadata": {},
   "source": [
    "## **뽑아낸 값과 정답 label 비교**"
   ]
  },
  {
   "cell_type": "code",
   "execution_count": 14,
   "metadata": {},
   "outputs": [
    {
     "name": "stdout",
     "output_type": "stream",
     "text": [
      "YOLO11n summary (fused): 238 layers, 2,582,347 parameters, 0 gradients, 6.3 GFLOPs\n"
     ]
    },
    {
     "name": "stderr",
     "output_type": "stream",
     "text": [
      "\u001b[34m\u001b[1mval: \u001b[0mScanning /Users/lywoo/Desktop/꽃 인식 DNN/datasets/test/labels.cache... 33 images, 0 backgrounds, 0 corrupt: 100%|██████████| 33/33 [00:00<?, ?it/s]"
     ]
    },
    {
     "name": "stdout",
     "output_type": "stream",
     "text": [
      "\u001b[34m\u001b[1mval: \u001b[0mWARNING ⚠️ /Users/lywoo/Desktop/꽃 인식 DNN/datasets/test/images/KakaoTalk_20240418_130907386.jpg: corrupt JPEG restored and saved\n",
      "\u001b[34m\u001b[1mval: \u001b[0mWARNING ⚠️ /Users/lywoo/Desktop/꽃 인식 DNN/datasets/test/images/KakaoTalk_20240418_130907386_06.jpg: corrupt JPEG restored and saved\n",
      "\u001b[34m\u001b[1mval: \u001b[0mWARNING ⚠️ /Users/lywoo/Desktop/꽃 인식 DNN/datasets/test/images/KakaoTalk_20240418_130907386_07.jpg: corrupt JPEG restored and saved\n",
      "\u001b[34m\u001b[1mval: \u001b[0mWARNING ⚠️ /Users/lywoo/Desktop/꽃 인식 DNN/datasets/test/images/KakaoTalk_20240418_130907386_10.jpg: corrupt JPEG restored and saved\n",
      "\u001b[34m\u001b[1mval: \u001b[0mWARNING ⚠️ /Users/lywoo/Desktop/꽃 인식 DNN/datasets/test/images/KakaoTalk_20240418_130907386_14.jpg: corrupt JPEG restored and saved\n",
      "\u001b[34m\u001b[1mval: \u001b[0mWARNING ⚠️ /Users/lywoo/Desktop/꽃 인식 DNN/datasets/test/images/KakaoTalk_20240418_131003449_01.jpg: corrupt JPEG restored and saved\n",
      "\u001b[34m\u001b[1mval: \u001b[0mWARNING ⚠️ /Users/lywoo/Desktop/꽃 인식 DNN/datasets/test/images/KakaoTalk_20240418_131003449_13.jpg: corrupt JPEG restored and saved\n",
      "\u001b[34m\u001b[1mval: \u001b[0mWARNING ⚠️ /Users/lywoo/Desktop/꽃 인식 DNN/datasets/test/images/KakaoTalk_20240418_131003449_14.jpg: corrupt JPEG restored and saved\n",
      "\u001b[34m\u001b[1mval: \u001b[0mWARNING ⚠️ /Users/lywoo/Desktop/꽃 인식 DNN/datasets/test/images/KakaoTalk_20240418_131432057_07.jpg: corrupt JPEG restored and saved\n",
      "\u001b[34m\u001b[1mval: \u001b[0mWARNING ⚠️ /Users/lywoo/Desktop/꽃 인식 DNN/datasets/test/images/KakaoTalk_20240418_131515511_01.jpg: corrupt JPEG restored and saved\n",
      "\u001b[34m\u001b[1mval: \u001b[0mWARNING ⚠️ /Users/lywoo/Desktop/꽃 인식 DNN/datasets/test/images/KakaoTalk_20240418_131515511_02.jpg: corrupt JPEG restored and saved\n",
      "\u001b[34m\u001b[1mval: \u001b[0mWARNING ⚠️ /Users/lywoo/Desktop/꽃 인식 DNN/datasets/test/images/KakaoTalk_20240418_131515511_05.jpg: corrupt JPEG restored and saved\n",
      "\u001b[34m\u001b[1mval: \u001b[0mWARNING ⚠️ /Users/lywoo/Desktop/꽃 인식 DNN/datasets/test/images/KakaoTalk_20240418_131515511_09.jpg: corrupt JPEG restored and saved\n",
      "\u001b[34m\u001b[1mval: \u001b[0mWARNING ⚠️ /Users/lywoo/Desktop/꽃 인식 DNN/datasets/test/images/KakaoTalk_20240418_131515511_10.jpg: corrupt JPEG restored and saved\n",
      "\u001b[34m\u001b[1mval: \u001b[0mWARNING ⚠️ /Users/lywoo/Desktop/꽃 인식 DNN/datasets/test/images/KakaoTalk_20240418_131515511_11.jpg: corrupt JPEG restored and saved\n"
     ]
    },
    {
     "name": "stderr",
     "output_type": "stream",
     "text": [
      "\n",
      "                 Class     Images  Instances      Box(P          R      mAP50  mAP50-95):   0%|          | 0/3 [00:00<?, ?it/s]"
     ]
    },
    {
     "name": "stdout",
     "output_type": "stream",
     "text": [
      "WARNING ⚠️ NMS time limit 2.800s exceeded\n"
     ]
    },
    {
     "name": "stderr",
     "output_type": "stream",
     "text": [
      "                 Class     Images  Instances      Box(P          R      mAP50  mAP50-95):  33%|███▎      | 1/3 [00:04<00:09,  4.78s/it]"
     ]
    },
    {
     "name": "stdout",
     "output_type": "stream",
     "text": [
      "WARNING ⚠️ NMS time limit 2.800s exceeded\n"
     ]
    },
    {
     "name": "stderr",
     "output_type": "stream",
     "text": [
      "                 Class     Images  Instances      Box(P          R      mAP50  mAP50-95): 100%|██████████| 3/3 [00:11<00:00,  3.95s/it]\n"
     ]
    },
    {
     "name": "stdout",
     "output_type": "stream",
     "text": [
      "                   all         33         80      0.809      0.212      0.251      0.164\n",
      "Speed: 2.5ms preprocess, 16.8ms inference, 0.0ms loss, 189.5ms postprocess per image\n",
      "Results saved to \u001b[1mruns/detect/val4\u001b[0m\n",
      "Precision: 0.2507\n"
     ]
    },
    {
     "ename": "AttributeError",
     "evalue": "'Metric' object has no attribute 'recall'. See valid attributes below.\n\n    Class for computing evaluation metrics for YOLOv8 model.\n\n    Attributes:\n        p (list): Precision for each class. Shape: (nc,).\n        r (list): Recall for each class. Shape: (nc,).\n        f1 (list): F1 score for each class. Shape: (nc,).\n        all_ap (list): AP scores for all classes and all IoU thresholds. Shape: (nc, 10).\n        ap_class_index (list): Index of class for each AP score. Shape: (nc,).\n        nc (int): Number of classes.\n\n    Methods:\n        ap50(): AP at IoU threshold of 0.5 for all classes. Returns: List of AP scores. Shape: (nc,) or [].\n        ap(): AP at IoU thresholds from 0.5 to 0.95 for all classes. Returns: List of AP scores. Shape: (nc,) or [].\n        mp(): Mean precision of all classes. Returns: Float.\n        mr(): Mean recall of all classes. Returns: Float.\n        map50(): Mean AP at IoU threshold of 0.5 for all classes. Returns: Float.\n        map75(): Mean AP at IoU threshold of 0.75 for all classes. Returns: Float.\n        map(): Mean AP at IoU thresholds from 0.5 to 0.95 for all classes. Returns: Float.\n        mean_results(): Mean of results, returns mp, mr, map50, map.\n        class_result(i): Class-aware result, returns p[i], r[i], ap50[i], ap[i].\n        maps(): mAP of each class. Returns: Array of mAP scores, shape: (nc,).\n        fitness(): Model fitness as a weighted combination of metrics. Returns: Float.\n        update(results): Update metric attributes with new evaluation results.\n    ",
     "output_type": "error",
     "traceback": [
      "\u001b[0;31m---------------------------------------------------------------------------\u001b[0m",
      "\u001b[0;31mAttributeError\u001b[0m                            Traceback (most recent call last)",
      "Cell \u001b[0;32mIn[14], line 14\u001b[0m\n\u001b[1;32m     12\u001b[0m \u001b[38;5;66;03m# 평가 결과 출력 (Precision, Recall, mAP 등)\u001b[39;00m\n\u001b[1;32m     13\u001b[0m \u001b[38;5;28mprint\u001b[39m(\u001b[38;5;124mf\u001b[39m\u001b[38;5;124m\"\u001b[39m\u001b[38;5;124mPrecision: \u001b[39m\u001b[38;5;132;01m{\u001b[39;00mmetrics\u001b[38;5;241m.\u001b[39mbox\u001b[38;5;241m.\u001b[39mmap50\u001b[38;5;132;01m:\u001b[39;00m\u001b[38;5;124m.4f\u001b[39m\u001b[38;5;132;01m}\u001b[39;00m\u001b[38;5;124m\"\u001b[39m)\n\u001b[0;32m---> 14\u001b[0m \u001b[38;5;28mprint\u001b[39m(\u001b[38;5;124mf\u001b[39m\u001b[38;5;124m\"\u001b[39m\u001b[38;5;124mRecall: \u001b[39m\u001b[38;5;132;01m{\u001b[39;00m\u001b[43mmetrics\u001b[49m\u001b[38;5;241;43m.\u001b[39;49m\u001b[43mbox\u001b[49m\u001b[38;5;241;43m.\u001b[39;49m\u001b[43mrecall\u001b[49m\u001b[38;5;132;01m:\u001b[39;00m\u001b[38;5;124m.4f\u001b[39m\u001b[38;5;132;01m}\u001b[39;00m\u001b[38;5;124m\"\u001b[39m)\n\u001b[1;32m     15\u001b[0m \u001b[38;5;28mprint\u001b[39m(\u001b[38;5;124mf\u001b[39m\u001b[38;5;124m\"\u001b[39m\u001b[38;5;124mmAP@50: \u001b[39m\u001b[38;5;132;01m{\u001b[39;00mmetrics\u001b[38;5;241m.\u001b[39mbox\u001b[38;5;241m.\u001b[39mmap50\u001b[38;5;132;01m:\u001b[39;00m\u001b[38;5;124m.4f\u001b[39m\u001b[38;5;132;01m}\u001b[39;00m\u001b[38;5;124m\"\u001b[39m)\n\u001b[1;32m     16\u001b[0m \u001b[38;5;28mprint\u001b[39m(\u001b[38;5;124mf\u001b[39m\u001b[38;5;124m\"\u001b[39m\u001b[38;5;124mmAP@50-95: \u001b[39m\u001b[38;5;132;01m{\u001b[39;00mmetrics\u001b[38;5;241m.\u001b[39mbox\u001b[38;5;241m.\u001b[39mmap\u001b[38;5;132;01m:\u001b[39;00m\u001b[38;5;124m.4f\u001b[39m\u001b[38;5;132;01m}\u001b[39;00m\u001b[38;5;124m\"\u001b[39m)\n",
      "File \u001b[0;32m/opt/homebrew/Caskroom/miniforge/base/envs/torch/lib/python3.12/site-packages/ultralytics/utils/__init__.py:240\u001b[0m, in \u001b[0;36mSimpleClass.__getattr__\u001b[0;34m(self, attr)\u001b[0m\n\u001b[1;32m    238\u001b[0m \u001b[38;5;250m\u001b[39m\u001b[38;5;124;03m\"\"\"Custom attribute access error message with helpful information.\"\"\"\u001b[39;00m\n\u001b[1;32m    239\u001b[0m name \u001b[38;5;241m=\u001b[39m \u001b[38;5;28mself\u001b[39m\u001b[38;5;241m.\u001b[39m\u001b[38;5;18m__class__\u001b[39m\u001b[38;5;241m.\u001b[39m\u001b[38;5;18m__name__\u001b[39m\n\u001b[0;32m--> 240\u001b[0m \u001b[38;5;28;01mraise\u001b[39;00m \u001b[38;5;167;01mAttributeError\u001b[39;00m(\u001b[38;5;124mf\u001b[39m\u001b[38;5;124m\"\u001b[39m\u001b[38;5;124m'\u001b[39m\u001b[38;5;132;01m{\u001b[39;00mname\u001b[38;5;132;01m}\u001b[39;00m\u001b[38;5;124m'\u001b[39m\u001b[38;5;124m object has no attribute \u001b[39m\u001b[38;5;124m'\u001b[39m\u001b[38;5;132;01m{\u001b[39;00mattr\u001b[38;5;132;01m}\u001b[39;00m\u001b[38;5;124m'\u001b[39m\u001b[38;5;124m. See valid attributes below.\u001b[39m\u001b[38;5;130;01m\\n\u001b[39;00m\u001b[38;5;132;01m{\u001b[39;00m\u001b[38;5;28mself\u001b[39m\u001b[38;5;241m.\u001b[39m\u001b[38;5;18m__doc__\u001b[39m\u001b[38;5;132;01m}\u001b[39;00m\u001b[38;5;124m\"\u001b[39m)\n",
      "\u001b[0;31mAttributeError\u001b[0m: 'Metric' object has no attribute 'recall'. See valid attributes below.\n\n    Class for computing evaluation metrics for YOLOv8 model.\n\n    Attributes:\n        p (list): Precision for each class. Shape: (nc,).\n        r (list): Recall for each class. Shape: (nc,).\n        f1 (list): F1 score for each class. Shape: (nc,).\n        all_ap (list): AP scores for all classes and all IoU thresholds. Shape: (nc, 10).\n        ap_class_index (list): Index of class for each AP score. Shape: (nc,).\n        nc (int): Number of classes.\n\n    Methods:\n        ap50(): AP at IoU threshold of 0.5 for all classes. Returns: List of AP scores. Shape: (nc,) or [].\n        ap(): AP at IoU thresholds from 0.5 to 0.95 for all classes. Returns: List of AP scores. Shape: (nc,) or [].\n        mp(): Mean precision of all classes. Returns: Float.\n        mr(): Mean recall of all classes. Returns: Float.\n        map50(): Mean AP at IoU threshold of 0.5 for all classes. Returns: Float.\n        map75(): Mean AP at IoU threshold of 0.75 for all classes. Returns: Float.\n        map(): Mean AP at IoU thresholds from 0.5 to 0.95 for all classes. Returns: Float.\n        mean_results(): Mean of results, returns mp, mr, map50, map.\n        class_result(i): Class-aware result, returns p[i], r[i], ap50[i], ap[i].\n        maps(): mAP of each class. Returns: Array of mAP scores, shape: (nc,).\n        fitness(): Model fitness as a weighted combination of metrics. Returns: Float.\n        update(results): Update metric attributes with new evaluation results.\n    "
     ]
    }
   ],
   "source": [
    "from ultralytics import YOLO\n",
    "import warnings\n",
    "\n",
    "warnings.filterwarnings('ignore')\n",
    "\n",
    "# 모델 불러오기\n",
    "model = YOLO('/Users/lywoo/Desktop/꽃 인식 DNN/runs/detect/train2/weights/best.pt').to(device)\n",
    "\n",
    "# 테스트 데이터 평가\n",
    "metrics = model.val(data='/Users/lywoo/Desktop/꽃 인식 DNN/flower.yaml', split='test')\n",
    "\n",
    "# 평가 결과 출력 (Precision, Recall, mAP 등)\n",
    "print(f\"Precision: {metrics.box.map50:.4f}\")\n",
    "print(f\"Recall: {metrics.box.recall:.4f}\")\n",
    "print(f\"mAP@50: {metrics.box.map50:.4f}\")\n",
    "print(f\"mAP@50-95: {metrics.box.map:.4f}\")"
   ]
  }
 ],
 "metadata": {
  "kernelspec": {
   "display_name": "torch",
   "language": "python",
   "name": "python3"
  },
  "language_info": {
   "codemirror_mode": {
    "name": "ipython",
    "version": 3
   },
   "file_extension": ".py",
   "mimetype": "text/x-python",
   "name": "python",
   "nbconvert_exporter": "python",
   "pygments_lexer": "ipython3",
   "version": "3.12.6"
  }
 },
 "nbformat": 4,
 "nbformat_minor": 2
}
